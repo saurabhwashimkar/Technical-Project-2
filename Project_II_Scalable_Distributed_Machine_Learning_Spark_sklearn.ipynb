{
  "nbformat": 4,
  "nbformat_minor": 0,
  "metadata": {
    "accelerator": "TPU",
    "colab": {
      "provenance": []
    },
    "kernelspec": {
      "display_name": "Python 3",
      "name": "python3"
    }
  },
  "cells": [
    {
      "cell_type": "markdown",
      "metadata": {
        "id": "7So9u809e1n5"
      },
      "source": [
        "*Warning*: Distribution/sharing of this notebook and other lab notebooks on the internet and other sources is strictly prohibited. You should not provide this notebook to anyone else. you should just use it for the purpose of this assessment only.\n",
        "\n",
        "You should attempt and submit your work. you can refer to sources/APIs to complete this taks. Copying from each other even a part or so is strictly prohibited and may result in serious action.\n"
      ]
    },
    {
      "cell_type": "markdown",
      "metadata": {
        "id": "L1Y12dPVqHv4"
      },
      "source": [
        "# Assessment 5 : Big Data Analytics using Machine Learning\n",
        "## Due Feburary 25th, 5pm (Firm)\n",
        "### Total points: 100 ( weighted over 35)\n",
        "\n",
        "This assessmet will enable you achieve essential experience of machine learning using sklearn and scalable approach to machine learning based on park ML! \n",
        "\n",
        "The focus of this assessment is to explore what makes videos popular on various platforms, e.g., Netflix and YouTube. The assessment will focus on YouTube 's data.\n",
        "\n",
        "**PLEASE NOTE** There can be multiple solutions possible for this assessment. various students will end up implementing different solutions. Therefore, there is not a single solution to fit all students."
      ]
    },
    {
      "cell_type": "markdown",
      "metadata": {
        "id": "zsMMQ1RnqoYw"
      },
      "source": [
        "### Required Libraries \n",
        "Setup the libraries using the following cells. You should select Java 8 when prompted."
      ]
    },
    {
      "cell_type": "code",
      "metadata": {
        "id": "V5Ea650lhvf2",
        "colab": {
          "base_uri": "https://localhost:8080/"
        },
        "outputId": "30ae0051-dada-4ef3-de20-9841ba04d8ad"
      },
      "source": [
        "! sudo apt install openjdk-8-jdk\n",
        "! sudo update-alternatives --config java"
      ],
      "execution_count": 1,
      "outputs": [
        {
          "output_type": "stream",
          "name": "stdout",
          "text": [
            "Reading package lists... Done\n",
            "Building dependency tree       \n",
            "Reading state information... Done\n",
            "The following additional packages will be installed:\n",
            "  fonts-dejavu-core fonts-dejavu-extra libatk-wrapper-java\n",
            "  libatk-wrapper-java-jni libgail-common libgail18 libgtk2.0-0 libgtk2.0-bin\n",
            "  libgtk2.0-common libxxf86dga1 openjdk-8-jdk-headless openjdk-8-jre\n",
            "  openjdk-8-jre-headless x11-utils\n",
            "Suggested packages:\n",
            "  gvfs openjdk-8-demo openjdk-8-source visualvm libnss-mdns\n",
            "  fonts-ipafont-gothic fonts-ipafont-mincho fonts-wqy-microhei\n",
            "  fonts-wqy-zenhei fonts-indic mesa-utils\n",
            "The following NEW packages will be installed:\n",
            "  fonts-dejavu-core fonts-dejavu-extra libatk-wrapper-java\n",
            "  libatk-wrapper-java-jni libgail-common libgail18 libgtk2.0-0 libgtk2.0-bin\n",
            "  libgtk2.0-common libxxf86dga1 openjdk-8-jdk openjdk-8-jdk-headless\n",
            "  openjdk-8-jre openjdk-8-jre-headless x11-utils\n",
            "0 upgraded, 15 newly installed, 0 to remove and 19 not upgraded.\n",
            "Need to get 46.0 MB of archives.\n",
            "After this operation, 167 MB of additional disk space will be used.\n",
            "Get:1 http://archive.ubuntu.com/ubuntu focal/main amd64 fonts-dejavu-core all 2.37-1 [1,041 kB]\n",
            "Get:2 http://archive.ubuntu.com/ubuntu focal/main amd64 fonts-dejavu-extra all 2.37-1 [1,953 kB]\n",
            "Get:3 http://archive.ubuntu.com/ubuntu focal/main amd64 libxxf86dga1 amd64 2:1.1.5-0ubuntu1 [12.0 kB]\n",
            "Get:4 http://archive.ubuntu.com/ubuntu focal/main amd64 x11-utils amd64 7.7+5 [199 kB]\n",
            "Get:5 http://archive.ubuntu.com/ubuntu focal/main amd64 libatk-wrapper-java all 0.37.1-1 [53.0 kB]\n",
            "Get:6 http://archive.ubuntu.com/ubuntu focal/main amd64 libatk-wrapper-java-jni amd64 0.37.1-1 [45.1 kB]\n",
            "Get:7 http://archive.ubuntu.com/ubuntu focal/main amd64 libgtk2.0-common all 2.24.32-4ubuntu4 [126 kB]\n",
            "Get:8 http://archive.ubuntu.com/ubuntu focal/main amd64 libgtk2.0-0 amd64 2.24.32-4ubuntu4 [1,791 kB]\n",
            "Get:9 http://archive.ubuntu.com/ubuntu focal/main amd64 libgail18 amd64 2.24.32-4ubuntu4 [14.7 kB]\n",
            "Get:10 http://archive.ubuntu.com/ubuntu focal/main amd64 libgail-common amd64 2.24.32-4ubuntu4 [116 kB]\n",
            "Get:11 http://archive.ubuntu.com/ubuntu focal/main amd64 libgtk2.0-bin amd64 2.24.32-4ubuntu4 [7,728 B]\n",
            "Get:12 http://archive.ubuntu.com/ubuntu focal-updates/universe amd64 openjdk-8-jre-headless amd64 8u352-ga-1~20.04 [28.2 MB]\n",
            "Get:13 http://archive.ubuntu.com/ubuntu focal-updates/universe amd64 openjdk-8-jre amd64 8u352-ga-1~20.04 [69.9 kB]\n",
            "Get:14 http://archive.ubuntu.com/ubuntu focal-updates/universe amd64 openjdk-8-jdk-headless amd64 8u352-ga-1~20.04 [8,293 kB]\n",
            "Get:15 http://archive.ubuntu.com/ubuntu focal-updates/universe amd64 openjdk-8-jdk amd64 8u352-ga-1~20.04 [4,015 kB]\n",
            "Fetched 46.0 MB in 5s (9,415 kB/s)\n",
            "debconf: unable to initialize frontend: Dialog\n",
            "debconf: (No usable dialog-like program is installed, so the dialog based frontend cannot be used. at /usr/share/perl5/Debconf/FrontEnd/Dialog.pm line 76, <> line 15.)\n",
            "debconf: falling back to frontend: Readline\n",
            "debconf: unable to initialize frontend: Readline\n",
            "debconf: (This frontend requires a controlling tty.)\n",
            "debconf: falling back to frontend: Teletype\n",
            "dpkg-preconfigure: unable to re-open stdin: \n",
            "Selecting previously unselected package fonts-dejavu-core.\n",
            "(Reading database ... 128208 files and directories currently installed.)\n",
            "Preparing to unpack .../00-fonts-dejavu-core_2.37-1_all.deb ...\n",
            "Unpacking fonts-dejavu-core (2.37-1) ...\n",
            "Selecting previously unselected package fonts-dejavu-extra.\n",
            "Preparing to unpack .../01-fonts-dejavu-extra_2.37-1_all.deb ...\n",
            "Unpacking fonts-dejavu-extra (2.37-1) ...\n",
            "Selecting previously unselected package libxxf86dga1:amd64.\n",
            "Preparing to unpack .../02-libxxf86dga1_2%3a1.1.5-0ubuntu1_amd64.deb ...\n",
            "Unpacking libxxf86dga1:amd64 (2:1.1.5-0ubuntu1) ...\n",
            "Selecting previously unselected package x11-utils.\n",
            "Preparing to unpack .../03-x11-utils_7.7+5_amd64.deb ...\n",
            "Unpacking x11-utils (7.7+5) ...\n",
            "Selecting previously unselected package libatk-wrapper-java.\n",
            "Preparing to unpack .../04-libatk-wrapper-java_0.37.1-1_all.deb ...\n",
            "Unpacking libatk-wrapper-java (0.37.1-1) ...\n",
            "Selecting previously unselected package libatk-wrapper-java-jni:amd64.\n",
            "Preparing to unpack .../05-libatk-wrapper-java-jni_0.37.1-1_amd64.deb ...\n",
            "Unpacking libatk-wrapper-java-jni:amd64 (0.37.1-1) ...\n",
            "Selecting previously unselected package libgtk2.0-common.\n",
            "Preparing to unpack .../06-libgtk2.0-common_2.24.32-4ubuntu4_all.deb ...\n",
            "Unpacking libgtk2.0-common (2.24.32-4ubuntu4) ...\n",
            "Selecting previously unselected package libgtk2.0-0:amd64.\n",
            "Preparing to unpack .../07-libgtk2.0-0_2.24.32-4ubuntu4_amd64.deb ...\n",
            "Unpacking libgtk2.0-0:amd64 (2.24.32-4ubuntu4) ...\n",
            "Selecting previously unselected package libgail18:amd64.\n",
            "Preparing to unpack .../08-libgail18_2.24.32-4ubuntu4_amd64.deb ...\n",
            "Unpacking libgail18:amd64 (2.24.32-4ubuntu4) ...\n",
            "Selecting previously unselected package libgail-common:amd64.\n",
            "Preparing to unpack .../09-libgail-common_2.24.32-4ubuntu4_amd64.deb ...\n",
            "Unpacking libgail-common:amd64 (2.24.32-4ubuntu4) ...\n",
            "Selecting previously unselected package libgtk2.0-bin.\n",
            "Preparing to unpack .../10-libgtk2.0-bin_2.24.32-4ubuntu4_amd64.deb ...\n",
            "Unpacking libgtk2.0-bin (2.24.32-4ubuntu4) ...\n",
            "Selecting previously unselected package openjdk-8-jre-headless:amd64.\n",
            "Preparing to unpack .../11-openjdk-8-jre-headless_8u352-ga-1~20.04_amd64.deb ...\n",
            "Unpacking openjdk-8-jre-headless:amd64 (8u352-ga-1~20.04) ...\n",
            "Selecting previously unselected package openjdk-8-jre:amd64.\n",
            "Preparing to unpack .../12-openjdk-8-jre_8u352-ga-1~20.04_amd64.deb ...\n",
            "Unpacking openjdk-8-jre:amd64 (8u352-ga-1~20.04) ...\n",
            "Selecting previously unselected package openjdk-8-jdk-headless:amd64.\n",
            "Preparing to unpack .../13-openjdk-8-jdk-headless_8u352-ga-1~20.04_amd64.deb ...\n",
            "Unpacking openjdk-8-jdk-headless:amd64 (8u352-ga-1~20.04) ...\n",
            "Selecting previously unselected package openjdk-8-jdk:amd64.\n",
            "Preparing to unpack .../14-openjdk-8-jdk_8u352-ga-1~20.04_amd64.deb ...\n",
            "Unpacking openjdk-8-jdk:amd64 (8u352-ga-1~20.04) ...\n",
            "Setting up libxxf86dga1:amd64 (2:1.1.5-0ubuntu1) ...\n",
            "Setting up openjdk-8-jre-headless:amd64 (8u352-ga-1~20.04) ...\n",
            "update-alternatives: using /usr/lib/jvm/java-8-openjdk-amd64/jre/bin/orbd to provide /usr/bin/orbd (orbd) in auto mode\n",
            "update-alternatives: using /usr/lib/jvm/java-8-openjdk-amd64/jre/bin/servertool to provide /usr/bin/servertool (servertool) in auto mode\n",
            "update-alternatives: using /usr/lib/jvm/java-8-openjdk-amd64/jre/bin/tnameserv to provide /usr/bin/tnameserv (tnameserv) in auto mode\n",
            "Setting up fonts-dejavu-core (2.37-1) ...\n",
            "Setting up fonts-dejavu-extra (2.37-1) ...\n",
            "Setting up x11-utils (7.7+5) ...\n",
            "Setting up libgtk2.0-common (2.24.32-4ubuntu4) ...\n",
            "Setting up libatk-wrapper-java (0.37.1-1) ...\n",
            "Setting up libgtk2.0-0:amd64 (2.24.32-4ubuntu4) ...\n",
            "Setting up libatk-wrapper-java-jni:amd64 (0.37.1-1) ...\n",
            "Setting up openjdk-8-jdk-headless:amd64 (8u352-ga-1~20.04) ...\n",
            "update-alternatives: using /usr/lib/jvm/java-8-openjdk-amd64/bin/idlj to provide /usr/bin/idlj (idlj) in auto mode\n",
            "update-alternatives: using /usr/lib/jvm/java-8-openjdk-amd64/bin/wsimport to provide /usr/bin/wsimport (wsimport) in auto mode\n",
            "update-alternatives: using /usr/lib/jvm/java-8-openjdk-amd64/bin/jsadebugd to provide /usr/bin/jsadebugd (jsadebugd) in auto mode\n",
            "update-alternatives: using /usr/lib/jvm/java-8-openjdk-amd64/bin/native2ascii to provide /usr/bin/native2ascii (native2ascii) in auto mode\n",
            "update-alternatives: using /usr/lib/jvm/java-8-openjdk-amd64/bin/javah to provide /usr/bin/javah (javah) in auto mode\n",
            "update-alternatives: using /usr/lib/jvm/java-8-openjdk-amd64/bin/clhsdb to provide /usr/bin/clhsdb (clhsdb) in auto mode\n",
            "update-alternatives: using /usr/lib/jvm/java-8-openjdk-amd64/bin/xjc to provide /usr/bin/xjc (xjc) in auto mode\n",
            "update-alternatives: using /usr/lib/jvm/java-8-openjdk-amd64/bin/hsdb to provide /usr/bin/hsdb (hsdb) in auto mode\n",
            "update-alternatives: using /usr/lib/jvm/java-8-openjdk-amd64/bin/schemagen to provide /usr/bin/schemagen (schemagen) in auto mode\n",
            "update-alternatives: using /usr/lib/jvm/java-8-openjdk-amd64/bin/extcheck to provide /usr/bin/extcheck (extcheck) in auto mode\n",
            "update-alternatives: using /usr/lib/jvm/java-8-openjdk-amd64/bin/jhat to provide /usr/bin/jhat (jhat) in auto mode\n",
            "update-alternatives: using /usr/lib/jvm/java-8-openjdk-amd64/bin/wsgen to provide /usr/bin/wsgen (wsgen) in auto mode\n",
            "Setting up libgail18:amd64 (2.24.32-4ubuntu4) ...\n",
            "Setting up libgtk2.0-bin (2.24.32-4ubuntu4) ...\n",
            "Setting up libgail-common:amd64 (2.24.32-4ubuntu4) ...\n",
            "Setting up openjdk-8-jre:amd64 (8u352-ga-1~20.04) ...\n",
            "update-alternatives: using /usr/lib/jvm/java-8-openjdk-amd64/jre/bin/policytool to provide /usr/bin/policytool (policytool) in auto mode\n",
            "Setting up openjdk-8-jdk:amd64 (8u352-ga-1~20.04) ...\n",
            "update-alternatives: using /usr/lib/jvm/java-8-openjdk-amd64/bin/appletviewer to provide /usr/bin/appletviewer (appletviewer) in auto mode\n",
            "update-alternatives: using /usr/lib/jvm/java-8-openjdk-amd64/bin/jconsole to provide /usr/bin/jconsole (jconsole) in auto mode\n",
            "Processing triggers for mime-support (3.64ubuntu1) ...\n",
            "Processing triggers for hicolor-icon-theme (0.17-2) ...\n",
            "Processing triggers for libc-bin (2.31-0ubuntu9.9) ...\n",
            "Processing triggers for man-db (2.9.1-1) ...\n",
            "Processing triggers for fontconfig (2.13.1-2ubuntu3) ...\n",
            "There are 2 choices for the alternative java (providing /usr/bin/java).\n",
            "\n",
            "  Selection    Path                                            Priority   Status\n",
            "------------------------------------------------------------\n",
            "* 0            /usr/lib/jvm/java-11-openjdk-amd64/bin/java      1111      auto mode\n",
            "  1            /usr/lib/jvm/java-11-openjdk-amd64/bin/java      1111      manual mode\n",
            "  2            /usr/lib/jvm/java-8-openjdk-amd64/jre/bin/java   1081      manual mode\n",
            "\n",
            "Press <enter> to keep the current choice[*], or type selection number: 0\n"
          ]
        }
      ]
    },
    {
      "cell_type": "code",
      "metadata": {
        "colab": {
          "base_uri": "https://localhost:8080/"
        },
        "id": "678WFOguE-CF",
        "outputId": "8b827131-ad5e-4af7-c149-8f85047ae5d2"
      },
      "source": [
        "!pip3 install pandas\n",
        "!pip3 install pyspark"
      ],
      "execution_count": 2,
      "outputs": [
        {
          "output_type": "stream",
          "name": "stdout",
          "text": [
            "Looking in indexes: https://pypi.org/simple, https://us-python.pkg.dev/colab-wheels/public/simple/\n",
            "Requirement already satisfied: pandas in /usr/local/lib/python3.8/dist-packages (1.3.5)\n",
            "Requirement already satisfied: python-dateutil>=2.7.3 in /usr/local/lib/python3.8/dist-packages (from pandas) (2.8.2)\n",
            "Requirement already satisfied: pytz>=2017.3 in /usr/local/lib/python3.8/dist-packages (from pandas) (2022.7.1)\n",
            "Requirement already satisfied: numpy>=1.17.3 in /usr/local/lib/python3.8/dist-packages (from pandas) (1.24.2)\n",
            "Requirement already satisfied: six>=1.5 in /usr/local/lib/python3.8/dist-packages (from python-dateutil>=2.7.3->pandas) (1.15.0)\n",
            "Looking in indexes: https://pypi.org/simple, https://us-python.pkg.dev/colab-wheels/public/simple/\n",
            "Collecting pyspark\n",
            "  Downloading pyspark-3.3.2.tar.gz (281.4 MB)\n",
            "\u001b[2K     \u001b[90m━━━━━━━━━━━━━━━━━━━━━━━━━━━━━━━━━━━━━━━\u001b[0m \u001b[32m281.4/281.4 MB\u001b[0m \u001b[31m4.6 MB/s\u001b[0m eta \u001b[36m0:00:00\u001b[0m\n",
            "\u001b[?25h  Preparing metadata (setup.py) ... \u001b[?25l\u001b[?25hdone\n",
            "Collecting py4j==0.10.9.5\n",
            "  Downloading py4j-0.10.9.5-py2.py3-none-any.whl (199 kB)\n",
            "\u001b[2K     \u001b[90m━━━━━━━━━━━━━━━━━━━━━━━━━━━━━━━━━━━━━━\u001b[0m \u001b[32m199.7/199.7 KB\u001b[0m \u001b[31m17.1 MB/s\u001b[0m eta \u001b[36m0:00:00\u001b[0m\n",
            "\u001b[?25hBuilding wheels for collected packages: pyspark\n",
            "  Building wheel for pyspark (setup.py) ... \u001b[?25l\u001b[?25hdone\n",
            "  Created wheel for pyspark: filename=pyspark-3.3.2-py2.py3-none-any.whl size=281824025 sha256=8401da5409f115ef60eb5c4ea8a5659c5bfcf156716c33402074916a09e6099d\n",
            "  Stored in directory: /root/.cache/pip/wheels/b1/59/a0/a1a0624b5e865fd389919c1a10f53aec9b12195d6747710baf\n",
            "Successfully built pyspark\n",
            "Installing collected packages: py4j, pyspark\n",
            "Successfully installed py4j-0.10.9.5 pyspark-3.3.2\n"
          ]
        }
      ]
    },
    {
      "cell_type": "code",
      "metadata": {
        "colab": {
          "base_uri": "https://localhost:8080/"
        },
        "id": "eAqMbSa7FA6b",
        "outputId": "b79781ce-e86d-4226-e6d2-782cfc5efe83"
      },
      "source": [
        "# if restart of runtime is successful, the execution of this cell should\n",
        "# prints True\n",
        "\n",
        "import pandas as pd\n",
        "print(pd.__version__ == '1.3.5')"
      ],
      "execution_count": 3,
      "outputs": [
        {
          "output_type": "stream",
          "name": "stdout",
          "text": [
            "True\n"
          ]
        }
      ]
    },
    {
      "cell_type": "code",
      "metadata": {
        "id": "NodzYeBAGpnr"
      },
      "source": [
        "import numpy as np \n",
        "import json\n",
        "import matplotlib\n",
        "import matplotlib.pyplot as plt\n",
        "from matplotlib import cm\n",
        "from datetime import datetime\n",
        "import glob\n",
        "import seaborn as sns\n",
        "import re\n",
        "import os\n",
        "from matplotlib import pyplot\n",
        "import seaborn\n",
        "import random\n",
        "pd.options.mode.chained_assignment = None"
      ],
      "execution_count": 4,
      "outputs": []
    },
    {
      "cell_type": "markdown",
      "metadata": {
        "id": "1LUqDAYCa_kN"
      },
      "source": [
        "Import your dataset using the following cells for the Youtube videos"
      ]
    },
    {
      "cell_type": "code",
      "metadata": {
        "id": "bUWkvS3kHHve"
      },
      "source": [
        "#from google.colab import files\n",
        "#uploaded = files.upload()\n",
        "\n",
        "#!unzip /content/youtube_data.zip"
      ],
      "execution_count": 5,
      "outputs": []
    },
    {
      "cell_type": "code",
      "metadata": {
        "colab": {
          "base_uri": "https://localhost:8080/"
        },
        "id": "tTX57Lb5fbfQ",
        "outputId": "359f886d-dcca-4bae-998c-b8b26bd786ab"
      },
      "source": [
        "from google.colab import drive\n",
        "\n",
        "drive.mount('/content/gdrive/')"
      ],
      "execution_count": 6,
      "outputs": [
        {
          "output_type": "stream",
          "name": "stdout",
          "text": [
            "Mounted at /content/gdrive/\n"
          ]
        }
      ]
    },
    {
      "cell_type": "markdown",
      "metadata": {
        "id": "lzax5Hp70oGW"
      },
      "source": [
        "# Section 5.1. : Machine Learning with Sklearn (45 points)"
      ]
    },
    {
      "cell_type": "markdown",
      "metadata": {
        "id": "Ecg1d6dwais8"
      },
      "source": [
        "## 5.1.1 Data loading and Preprocessing (5 pts)\n",
        "\n",
        "The dataset consists of a daily record of the top trending YouTube videos.\n",
        "\n",
        "To determine the year’s top-trending videos, YouTube uses a combination of factors including measuring users interactions, e.g., number of views, shares, comments and likes. \"Note that they’re not the most-viewed videos overall for the calendar year”. Top performers on the YouTube trending list are music videos (such as the famously viral “[Gangnam Style](https://www.youtube.com/watch?v=9bZkp7q19f0)”), celebrity and/or reality TV performances, and the random dude-with-a-camera viral videos that YouTube is well-known for.\n",
        "\n",
        "This dataset includes several months (and counting) of data on daily trending YouTube videos. Data is included for numerous countries, with up to 200 listed trending videos per day.\n",
        "\n",
        "Each region’s data is in a separate file. Data includes:\n",
        "\n",
        "*   Video Title\n",
        "*   Channel title\n",
        "*   Publish time\n",
        "*   Tags\n",
        "*   Views\n",
        "*   Likes\n",
        "*   Dislikes\n",
        "*   Description\n",
        "*   Comment count\n",
        "\n",
        "The data also includes a category\\_id field, which varies between regions. To retrieve the categories for a specific video, find it in the associated JSON. One such file is included for each of the five regions in the dataset.\n",
        "\n",
        "For more information on specific columns in the dataset refer to the column metadata.\n",
        "\n"
      ]
    },
    {
      "cell_type": "markdown",
      "metadata": {
        "id": "XCNsu176IR5x"
      },
      "source": [
        "#### 5.1.1.1: Combining Multiple CSV's. (2 pts.)\n",
        "\n",
        "There are multiple csv files in the dataset, each corresponding to a specific country. As a first step you need to read them and combine these csv files into a single dataframe. Use 'video_id' as your index.\n",
        "\n",
        "While combining them, you also need to create a column for \"country\" and fill it in the final dataframe. The country name can be extracted using the filename itself.\n",
        "\n",
        "Name your dataframe \"combined_data\"."
      ]
    },
    {
      "cell_type": "code",
      "metadata": {
        "colab": {
          "base_uri": "https://localhost:8080/",
          "height": 1000
        },
        "id": "V_tuqP5Wahf_",
        "outputId": "f7a827cf-1c20-4ff9-8927-e5736310f1cb"
      },
      "source": [
        "# Import all the csv files\n",
        "#files = [i for i in glob.glob('/content/youtube_data/*.csv'.format('csv'))]\n",
        "files = [i for i in glob.glob('/content/gdrive/MyDrive/youtube_data/youtube_data/*.csv'.format('csv'))]\n",
        "sorted(files)\n",
        "\n",
        "# Task: Merge all dataframes to single dataframe \"combined_data\" and add a 'country' column. \n",
        "all_dataframes = list()\n",
        "for csv in files:\n",
        "  #all_dataframes.append(pd.read_csv(csv))\n",
        "  frame = pd.read_csv(csv,index_col=0)\n",
        "  frame['country'] = os.path.basename(csv)\n",
        "  all_dataframes.append(frame)\n",
        "\n",
        "combined_data = pd.concat(all_dataframes)\n",
        "combined_data['country']=combined_data['country'].map(lambda x: x.lstrip('+-').rstrip('videos.csv'))\n",
        "combined_data"
      ],
      "execution_count": 7,
      "outputs": [
        {
          "output_type": "execute_result",
          "data": {
            "text/plain": [
              "            trending_date                                              title  \\\n",
              "video_id                                                                       \n",
              "kzwfHumJyYc      17.14.11  Sharry Mann: Cute Munda ( Song Teaser) | Parmi...   \n",
              "zUZ1z7FwLc8      17.14.11  पीरियड्स के समय, पेट पर पति करता ऐसा, देखकर दं...   \n",
              "10L1hZ9qa58      17.14.11  Stylish Star Allu Arjun @ ChaySam Wedding Rece...   \n",
              "N1vE8iiEg64      17.14.11                     Eruma Saani | Tamil vs English   \n",
              "kJzGH0PVQHQ      17.14.11  why Samantha became EMOTIONAL @ Samantha naga ...   \n",
              "...                   ...                                                ...   \n",
              "BZt0qjTWNhw      18.14.06                       The Cat Who Caught the Laser   \n",
              "1h7KV2sjUWY      18.14.06                         True Facts : Ant Mutualism   \n",
              "D6Oy4LfoqsU      18.14.06  I GAVE SAFIYA NYGAARD A PERFECT HAIR MAKEOVER ...   \n",
              "oV0zkMe1K8s      18.14.06                How Black Panther Should Have Ended   \n",
              "ooyjaVdt-jA      18.14.06  Official Call of Duty®: Black Ops 4 — Multipla...   \n",
              "\n",
              "                        channel_title  category_id              publish_time  \\\n",
              "video_id                                                                       \n",
              "kzwfHumJyYc           Lokdhun Punjabi            1  2017-11-12T12:20:39.000Z   \n",
              "zUZ1z7FwLc8                   HJ NEWS           25  2017-11-13T05:43:56.000Z   \n",
              "10L1hZ9qa58                      TFPC           24  2017-11-12T15:48:08.000Z   \n",
              "N1vE8iiEg64               Eruma Saani           23  2017-11-12T07:08:48.000Z   \n",
              "kJzGH0PVQHQ                Filmylooks           24  2017-11-13T01:14:16.000Z   \n",
              "...                               ...          ...                       ...   \n",
              "BZt0qjTWNhw             AaronsAnimals           15  2018-05-18T13:00:04.000Z   \n",
              "1h7KV2sjUWY                  zefrank1           22  2018-05-18T01:00:06.000Z   \n",
              "D6Oy4LfoqsU                Brad Mondo           24  2018-05-18T17:34:22.000Z   \n",
              "oV0zkMe1K8s  How It Should Have Ended            1  2018-05-17T17:00:04.000Z   \n",
              "ooyjaVdt-jA              Call of Duty           20  2018-05-17T17:09:38.000Z   \n",
              "\n",
              "                                                          tags     views  \\\n",
              "video_id                                                                   \n",
              "kzwfHumJyYc  sharry mann|\"sharry mann new song\"|\"sharry man...   1096327   \n",
              "zUZ1z7FwLc8  पीरियड्स के समय|\"पेट पर पति करता ऐसा\"|\"देखकर द...    590101   \n",
              "10L1hZ9qa58  Stylish Star Allu Arjun @ ChaySam Wedding Rece...    473988   \n",
              "N1vE8iiEg64  Eruma Saani|\"Tamil Comedy Videos\"|\"Films\"|\"Mov...   1242680   \n",
              "kJzGH0PVQHQ  Filmylooks|\"latest news\"|\"telugu movies\"|\"telu...    464015   \n",
              "...                                                        ...       ...   \n",
              "BZt0qjTWNhw  aarons animals|\"aarons\"|\"animals\"|\"cat\"|\"cats\"...   1685609   \n",
              "1h7KV2sjUWY                                             [none]   1064798   \n",
              "D6Oy4LfoqsU  I gave safiya nygaard a perfect hair makeover ...   1066451   \n",
              "oV0zkMe1K8s  Black Panther|\"HISHE\"|\"Marvel\"|\"Infinity War\"|...   5660813   \n",
              "ooyjaVdt-jA      call of duty|\"cod\"|\"activision\"|\"Black Ops 4\"  10306119   \n",
              "\n",
              "              likes  dislikes  comment_count  \\\n",
              "video_id                                       \n",
              "kzwfHumJyYc   33966       798            882   \n",
              "zUZ1z7FwLc8     735       904              0   \n",
              "10L1hZ9qa58    2011       243            149   \n",
              "N1vE8iiEg64   70353      1624           2684   \n",
              "kJzGH0PVQHQ     492       293             66   \n",
              "...             ...       ...            ...   \n",
              "BZt0qjTWNhw   38160      1385           2657   \n",
              "1h7KV2sjUWY   60008       382           3936   \n",
              "D6Oy4LfoqsU   48068      1032           3992   \n",
              "oV0zkMe1K8s  192957      2846          13088   \n",
              "ooyjaVdt-jA  357079    212976         144795   \n",
              "\n",
              "                                             thumbnail_link  \\\n",
              "video_id                                                      \n",
              "kzwfHumJyYc  https://i.ytimg.com/vi/kzwfHumJyYc/default.jpg   \n",
              "zUZ1z7FwLc8  https://i.ytimg.com/vi/zUZ1z7FwLc8/default.jpg   \n",
              "10L1hZ9qa58  https://i.ytimg.com/vi/10L1hZ9qa58/default.jpg   \n",
              "N1vE8iiEg64  https://i.ytimg.com/vi/N1vE8iiEg64/default.jpg   \n",
              "kJzGH0PVQHQ  https://i.ytimg.com/vi/kJzGH0PVQHQ/default.jpg   \n",
              "...                                                     ...   \n",
              "BZt0qjTWNhw  https://i.ytimg.com/vi/BZt0qjTWNhw/default.jpg   \n",
              "1h7KV2sjUWY  https://i.ytimg.com/vi/1h7KV2sjUWY/default.jpg   \n",
              "D6Oy4LfoqsU  https://i.ytimg.com/vi/D6Oy4LfoqsU/default.jpg   \n",
              "oV0zkMe1K8s  https://i.ytimg.com/vi/oV0zkMe1K8s/default.jpg   \n",
              "ooyjaVdt-jA  https://i.ytimg.com/vi/ooyjaVdt-jA/default.jpg   \n",
              "\n",
              "             comments_disabled  ratings_disabled  video_error_or_removed  \\\n",
              "video_id                                                                   \n",
              "kzwfHumJyYc              False             False                   False   \n",
              "zUZ1z7FwLc8               True             False                   False   \n",
              "10L1hZ9qa58              False             False                   False   \n",
              "N1vE8iiEg64              False             False                   False   \n",
              "kJzGH0PVQHQ              False             False                   False   \n",
              "...                        ...               ...                     ...   \n",
              "BZt0qjTWNhw              False             False                   False   \n",
              "1h7KV2sjUWY              False             False                   False   \n",
              "D6Oy4LfoqsU              False             False                   False   \n",
              "oV0zkMe1K8s              False             False                   False   \n",
              "ooyjaVdt-jA              False             False                   False   \n",
              "\n",
              "                                                   description country  \n",
              "video_id                                                                \n",
              "kzwfHumJyYc  Presenting Sharry Mann latest Punjabi Song  Cu...      IN  \n",
              "zUZ1z7FwLc8  पीरियड्स के समय, पेट पर पति करता ऐसा, देखकर दं...      IN  \n",
              "10L1hZ9qa58  Watch Stylish Star Allu Arjun @ ChaySam Weddin...      IN  \n",
              "N1vE8iiEg64  This video showcases the difference between pe...      IN  \n",
              "kJzGH0PVQHQ  why Samantha became EMOTIONAL @ Samantha naga ...      IN  \n",
              "...                                                        ...     ...  \n",
              "BZt0qjTWNhw     The Cat Who Caught the Laser - Aaron's Animals      US  \n",
              "1h7KV2sjUWY                                                NaN      US  \n",
              "D6Oy4LfoqsU  I had so much fun transforming Safiyas hair in...      US  \n",
              "oV0zkMe1K8s  How Black Panther Should Have EndedWatch More ...      US  \n",
              "ooyjaVdt-jA  Call of Duty: Black Ops 4 Multiplayer raises t...      US  \n",
              "\n",
              "[159906 rows x 16 columns]"
            ],
            "text/html": [
              "\n",
              "  <div id=\"df-be0049d3-ec78-4163-90b4-da074fad5790\">\n",
              "    <div class=\"colab-df-container\">\n",
              "      <div>\n",
              "<style scoped>\n",
              "    .dataframe tbody tr th:only-of-type {\n",
              "        vertical-align: middle;\n",
              "    }\n",
              "\n",
              "    .dataframe tbody tr th {\n",
              "        vertical-align: top;\n",
              "    }\n",
              "\n",
              "    .dataframe thead th {\n",
              "        text-align: right;\n",
              "    }\n",
              "</style>\n",
              "<table border=\"1\" class=\"dataframe\">\n",
              "  <thead>\n",
              "    <tr style=\"text-align: right;\">\n",
              "      <th></th>\n",
              "      <th>trending_date</th>\n",
              "      <th>title</th>\n",
              "      <th>channel_title</th>\n",
              "      <th>category_id</th>\n",
              "      <th>publish_time</th>\n",
              "      <th>tags</th>\n",
              "      <th>views</th>\n",
              "      <th>likes</th>\n",
              "      <th>dislikes</th>\n",
              "      <th>comment_count</th>\n",
              "      <th>thumbnail_link</th>\n",
              "      <th>comments_disabled</th>\n",
              "      <th>ratings_disabled</th>\n",
              "      <th>video_error_or_removed</th>\n",
              "      <th>description</th>\n",
              "      <th>country</th>\n",
              "    </tr>\n",
              "    <tr>\n",
              "      <th>video_id</th>\n",
              "      <th></th>\n",
              "      <th></th>\n",
              "      <th></th>\n",
              "      <th></th>\n",
              "      <th></th>\n",
              "      <th></th>\n",
              "      <th></th>\n",
              "      <th></th>\n",
              "      <th></th>\n",
              "      <th></th>\n",
              "      <th></th>\n",
              "      <th></th>\n",
              "      <th></th>\n",
              "      <th></th>\n",
              "      <th></th>\n",
              "      <th></th>\n",
              "    </tr>\n",
              "  </thead>\n",
              "  <tbody>\n",
              "    <tr>\n",
              "      <th>kzwfHumJyYc</th>\n",
              "      <td>17.14.11</td>\n",
              "      <td>Sharry Mann: Cute Munda ( Song Teaser) | Parmi...</td>\n",
              "      <td>Lokdhun Punjabi</td>\n",
              "      <td>1</td>\n",
              "      <td>2017-11-12T12:20:39.000Z</td>\n",
              "      <td>sharry mann|\"sharry mann new song\"|\"sharry man...</td>\n",
              "      <td>1096327</td>\n",
              "      <td>33966</td>\n",
              "      <td>798</td>\n",
              "      <td>882</td>\n",
              "      <td>https://i.ytimg.com/vi/kzwfHumJyYc/default.jpg</td>\n",
              "      <td>False</td>\n",
              "      <td>False</td>\n",
              "      <td>False</td>\n",
              "      <td>Presenting Sharry Mann latest Punjabi Song  Cu...</td>\n",
              "      <td>IN</td>\n",
              "    </tr>\n",
              "    <tr>\n",
              "      <th>zUZ1z7FwLc8</th>\n",
              "      <td>17.14.11</td>\n",
              "      <td>पीरियड्स के समय, पेट पर पति करता ऐसा, देखकर दं...</td>\n",
              "      <td>HJ NEWS</td>\n",
              "      <td>25</td>\n",
              "      <td>2017-11-13T05:43:56.000Z</td>\n",
              "      <td>पीरियड्स के समय|\"पेट पर पति करता ऐसा\"|\"देखकर द...</td>\n",
              "      <td>590101</td>\n",
              "      <td>735</td>\n",
              "      <td>904</td>\n",
              "      <td>0</td>\n",
              "      <td>https://i.ytimg.com/vi/zUZ1z7FwLc8/default.jpg</td>\n",
              "      <td>True</td>\n",
              "      <td>False</td>\n",
              "      <td>False</td>\n",
              "      <td>पीरियड्स के समय, पेट पर पति करता ऐसा, देखकर दं...</td>\n",
              "      <td>IN</td>\n",
              "    </tr>\n",
              "    <tr>\n",
              "      <th>10L1hZ9qa58</th>\n",
              "      <td>17.14.11</td>\n",
              "      <td>Stylish Star Allu Arjun @ ChaySam Wedding Rece...</td>\n",
              "      <td>TFPC</td>\n",
              "      <td>24</td>\n",
              "      <td>2017-11-12T15:48:08.000Z</td>\n",
              "      <td>Stylish Star Allu Arjun @ ChaySam Wedding Rece...</td>\n",
              "      <td>473988</td>\n",
              "      <td>2011</td>\n",
              "      <td>243</td>\n",
              "      <td>149</td>\n",
              "      <td>https://i.ytimg.com/vi/10L1hZ9qa58/default.jpg</td>\n",
              "      <td>False</td>\n",
              "      <td>False</td>\n",
              "      <td>False</td>\n",
              "      <td>Watch Stylish Star Allu Arjun @ ChaySam Weddin...</td>\n",
              "      <td>IN</td>\n",
              "    </tr>\n",
              "    <tr>\n",
              "      <th>N1vE8iiEg64</th>\n",
              "      <td>17.14.11</td>\n",
              "      <td>Eruma Saani | Tamil vs English</td>\n",
              "      <td>Eruma Saani</td>\n",
              "      <td>23</td>\n",
              "      <td>2017-11-12T07:08:48.000Z</td>\n",
              "      <td>Eruma Saani|\"Tamil Comedy Videos\"|\"Films\"|\"Mov...</td>\n",
              "      <td>1242680</td>\n",
              "      <td>70353</td>\n",
              "      <td>1624</td>\n",
              "      <td>2684</td>\n",
              "      <td>https://i.ytimg.com/vi/N1vE8iiEg64/default.jpg</td>\n",
              "      <td>False</td>\n",
              "      <td>False</td>\n",
              "      <td>False</td>\n",
              "      <td>This video showcases the difference between pe...</td>\n",
              "      <td>IN</td>\n",
              "    </tr>\n",
              "    <tr>\n",
              "      <th>kJzGH0PVQHQ</th>\n",
              "      <td>17.14.11</td>\n",
              "      <td>why Samantha became EMOTIONAL @ Samantha naga ...</td>\n",
              "      <td>Filmylooks</td>\n",
              "      <td>24</td>\n",
              "      <td>2017-11-13T01:14:16.000Z</td>\n",
              "      <td>Filmylooks|\"latest news\"|\"telugu movies\"|\"telu...</td>\n",
              "      <td>464015</td>\n",
              "      <td>492</td>\n",
              "      <td>293</td>\n",
              "      <td>66</td>\n",
              "      <td>https://i.ytimg.com/vi/kJzGH0PVQHQ/default.jpg</td>\n",
              "      <td>False</td>\n",
              "      <td>False</td>\n",
              "      <td>False</td>\n",
              "      <td>why Samantha became EMOTIONAL @ Samantha naga ...</td>\n",
              "      <td>IN</td>\n",
              "    </tr>\n",
              "    <tr>\n",
              "      <th>...</th>\n",
              "      <td>...</td>\n",
              "      <td>...</td>\n",
              "      <td>...</td>\n",
              "      <td>...</td>\n",
              "      <td>...</td>\n",
              "      <td>...</td>\n",
              "      <td>...</td>\n",
              "      <td>...</td>\n",
              "      <td>...</td>\n",
              "      <td>...</td>\n",
              "      <td>...</td>\n",
              "      <td>...</td>\n",
              "      <td>...</td>\n",
              "      <td>...</td>\n",
              "      <td>...</td>\n",
              "      <td>...</td>\n",
              "    </tr>\n",
              "    <tr>\n",
              "      <th>BZt0qjTWNhw</th>\n",
              "      <td>18.14.06</td>\n",
              "      <td>The Cat Who Caught the Laser</td>\n",
              "      <td>AaronsAnimals</td>\n",
              "      <td>15</td>\n",
              "      <td>2018-05-18T13:00:04.000Z</td>\n",
              "      <td>aarons animals|\"aarons\"|\"animals\"|\"cat\"|\"cats\"...</td>\n",
              "      <td>1685609</td>\n",
              "      <td>38160</td>\n",
              "      <td>1385</td>\n",
              "      <td>2657</td>\n",
              "      <td>https://i.ytimg.com/vi/BZt0qjTWNhw/default.jpg</td>\n",
              "      <td>False</td>\n",
              "      <td>False</td>\n",
              "      <td>False</td>\n",
              "      <td>The Cat Who Caught the Laser - Aaron's Animals</td>\n",
              "      <td>US</td>\n",
              "    </tr>\n",
              "    <tr>\n",
              "      <th>1h7KV2sjUWY</th>\n",
              "      <td>18.14.06</td>\n",
              "      <td>True Facts : Ant Mutualism</td>\n",
              "      <td>zefrank1</td>\n",
              "      <td>22</td>\n",
              "      <td>2018-05-18T01:00:06.000Z</td>\n",
              "      <td>[none]</td>\n",
              "      <td>1064798</td>\n",
              "      <td>60008</td>\n",
              "      <td>382</td>\n",
              "      <td>3936</td>\n",
              "      <td>https://i.ytimg.com/vi/1h7KV2sjUWY/default.jpg</td>\n",
              "      <td>False</td>\n",
              "      <td>False</td>\n",
              "      <td>False</td>\n",
              "      <td>NaN</td>\n",
              "      <td>US</td>\n",
              "    </tr>\n",
              "    <tr>\n",
              "      <th>D6Oy4LfoqsU</th>\n",
              "      <td>18.14.06</td>\n",
              "      <td>I GAVE SAFIYA NYGAARD A PERFECT HAIR MAKEOVER ...</td>\n",
              "      <td>Brad Mondo</td>\n",
              "      <td>24</td>\n",
              "      <td>2018-05-18T17:34:22.000Z</td>\n",
              "      <td>I gave safiya nygaard a perfect hair makeover ...</td>\n",
              "      <td>1066451</td>\n",
              "      <td>48068</td>\n",
              "      <td>1032</td>\n",
              "      <td>3992</td>\n",
              "      <td>https://i.ytimg.com/vi/D6Oy4LfoqsU/default.jpg</td>\n",
              "      <td>False</td>\n",
              "      <td>False</td>\n",
              "      <td>False</td>\n",
              "      <td>I had so much fun transforming Safiyas hair in...</td>\n",
              "      <td>US</td>\n",
              "    </tr>\n",
              "    <tr>\n",
              "      <th>oV0zkMe1K8s</th>\n",
              "      <td>18.14.06</td>\n",
              "      <td>How Black Panther Should Have Ended</td>\n",
              "      <td>How It Should Have Ended</td>\n",
              "      <td>1</td>\n",
              "      <td>2018-05-17T17:00:04.000Z</td>\n",
              "      <td>Black Panther|\"HISHE\"|\"Marvel\"|\"Infinity War\"|...</td>\n",
              "      <td>5660813</td>\n",
              "      <td>192957</td>\n",
              "      <td>2846</td>\n",
              "      <td>13088</td>\n",
              "      <td>https://i.ytimg.com/vi/oV0zkMe1K8s/default.jpg</td>\n",
              "      <td>False</td>\n",
              "      <td>False</td>\n",
              "      <td>False</td>\n",
              "      <td>How Black Panther Should Have EndedWatch More ...</td>\n",
              "      <td>US</td>\n",
              "    </tr>\n",
              "    <tr>\n",
              "      <th>ooyjaVdt-jA</th>\n",
              "      <td>18.14.06</td>\n",
              "      <td>Official Call of Duty®: Black Ops 4 — Multipla...</td>\n",
              "      <td>Call of Duty</td>\n",
              "      <td>20</td>\n",
              "      <td>2018-05-17T17:09:38.000Z</td>\n",
              "      <td>call of duty|\"cod\"|\"activision\"|\"Black Ops 4\"</td>\n",
              "      <td>10306119</td>\n",
              "      <td>357079</td>\n",
              "      <td>212976</td>\n",
              "      <td>144795</td>\n",
              "      <td>https://i.ytimg.com/vi/ooyjaVdt-jA/default.jpg</td>\n",
              "      <td>False</td>\n",
              "      <td>False</td>\n",
              "      <td>False</td>\n",
              "      <td>Call of Duty: Black Ops 4 Multiplayer raises t...</td>\n",
              "      <td>US</td>\n",
              "    </tr>\n",
              "  </tbody>\n",
              "</table>\n",
              "<p>159906 rows × 16 columns</p>\n",
              "</div>\n",
              "      <button class=\"colab-df-convert\" onclick=\"convertToInteractive('df-be0049d3-ec78-4163-90b4-da074fad5790')\"\n",
              "              title=\"Convert this dataframe to an interactive table.\"\n",
              "              style=\"display:none;\">\n",
              "        \n",
              "  <svg xmlns=\"http://www.w3.org/2000/svg\" height=\"24px\"viewBox=\"0 0 24 24\"\n",
              "       width=\"24px\">\n",
              "    <path d=\"M0 0h24v24H0V0z\" fill=\"none\"/>\n",
              "    <path d=\"M18.56 5.44l.94 2.06.94-2.06 2.06-.94-2.06-.94-.94-2.06-.94 2.06-2.06.94zm-11 1L8.5 8.5l.94-2.06 2.06-.94-2.06-.94L8.5 2.5l-.94 2.06-2.06.94zm10 10l.94 2.06.94-2.06 2.06-.94-2.06-.94-.94-2.06-.94 2.06-2.06.94z\"/><path d=\"M17.41 7.96l-1.37-1.37c-.4-.4-.92-.59-1.43-.59-.52 0-1.04.2-1.43.59L10.3 9.45l-7.72 7.72c-.78.78-.78 2.05 0 2.83L4 21.41c.39.39.9.59 1.41.59.51 0 1.02-.2 1.41-.59l7.78-7.78 2.81-2.81c.8-.78.8-2.07 0-2.86zM5.41 20L4 18.59l7.72-7.72 1.47 1.35L5.41 20z\"/>\n",
              "  </svg>\n",
              "      </button>\n",
              "      \n",
              "  <style>\n",
              "    .colab-df-container {\n",
              "      display:flex;\n",
              "      flex-wrap:wrap;\n",
              "      gap: 12px;\n",
              "    }\n",
              "\n",
              "    .colab-df-convert {\n",
              "      background-color: #E8F0FE;\n",
              "      border: none;\n",
              "      border-radius: 50%;\n",
              "      cursor: pointer;\n",
              "      display: none;\n",
              "      fill: #1967D2;\n",
              "      height: 32px;\n",
              "      padding: 0 0 0 0;\n",
              "      width: 32px;\n",
              "    }\n",
              "\n",
              "    .colab-df-convert:hover {\n",
              "      background-color: #E2EBFA;\n",
              "      box-shadow: 0px 1px 2px rgba(60, 64, 67, 0.3), 0px 1px 3px 1px rgba(60, 64, 67, 0.15);\n",
              "      fill: #174EA6;\n",
              "    }\n",
              "\n",
              "    [theme=dark] .colab-df-convert {\n",
              "      background-color: #3B4455;\n",
              "      fill: #D2E3FC;\n",
              "    }\n",
              "\n",
              "    [theme=dark] .colab-df-convert:hover {\n",
              "      background-color: #434B5C;\n",
              "      box-shadow: 0px 1px 3px 1px rgba(0, 0, 0, 0.15);\n",
              "      filter: drop-shadow(0px 1px 2px rgba(0, 0, 0, 0.3));\n",
              "      fill: #FFFFFF;\n",
              "    }\n",
              "  </style>\n",
              "\n",
              "      <script>\n",
              "        const buttonEl =\n",
              "          document.querySelector('#df-be0049d3-ec78-4163-90b4-da074fad5790 button.colab-df-convert');\n",
              "        buttonEl.style.display =\n",
              "          google.colab.kernel.accessAllowed ? 'block' : 'none';\n",
              "\n",
              "        async function convertToInteractive(key) {\n",
              "          const element = document.querySelector('#df-be0049d3-ec78-4163-90b4-da074fad5790');\n",
              "          const dataTable =\n",
              "            await google.colab.kernel.invokeFunction('convertToInteractive',\n",
              "                                                     [key], {});\n",
              "          if (!dataTable) return;\n",
              "\n",
              "          const docLinkHtml = 'Like what you see? Visit the ' +\n",
              "            '<a target=\"_blank\" href=https://colab.research.google.com/notebooks/data_table.ipynb>data table notebook</a>'\n",
              "            + ' to learn more about interactive tables.';\n",
              "          element.innerHTML = '';\n",
              "          dataTable['output_type'] = 'display_data';\n",
              "          await google.colab.output.renderOutput(dataTable, element);\n",
              "          const docLink = document.createElement('div');\n",
              "          docLink.innerHTML = docLinkHtml;\n",
              "          element.appendChild(docLink);\n",
              "        }\n",
              "      </script>\n",
              "    </div>\n",
              "  </div>\n",
              "  "
            ]
          },
          "metadata": {},
          "execution_count": 7
        }
      ]
    },
    {
      "cell_type": "markdown",
      "metadata": {
        "id": "PdfKNvDqILsh"
      },
      "source": [
        "#### 5.1.1.2: Map category Id's to categories (2 pts)\n",
        "\n",
        "Read the category_id.json file and map the category_id's in the dataframe to the category name.\n",
        "\n",
        "Use json.load to read in the data in the json file as a python dictionary and then map the category id given in the dataframe to category name from the json file. (Hint: the US json is likely the most comprehensive reference)\n",
        "\n",
        "\n"
      ]
    },
    {
      "cell_type": "code",
      "metadata": {
        "colab": {
          "base_uri": "https://localhost:8080/",
          "height": 1000
        },
        "id": "xDyMBIoRGdi0",
        "outputId": "da72b676-fa22-4b0f-b915-6394a59a3062"
      },
      "source": [
        "combined_data['category_id'] = combined_data['category_id'].astype(str)\n",
        "js_files = [i for i in glob.glob('/content/gdrive/MyDrive/youtube_data/youtube_data/*.json')]\n",
        "sorted(js_files)\n",
        "\n",
        "id_to_category = {}\n",
        "for x in js_files:\n",
        "  js = pd.read_json(x)\n",
        "  for category in js [\"items\"]:\n",
        "        id_to_category[category[\"id\"]] = category[\"snippet\"][\"title\"]\n",
        "combined_data[\"category\"] = combined_data[\"category_id\"].map(id_to_category)\n",
        "# Add code here\n",
        "\n",
        "#combined_data.insert(4, 'category', # Add code here)\n",
        "\n",
        "combined_data.head(10)"
      ],
      "execution_count": 8,
      "outputs": [
        {
          "output_type": "execute_result",
          "data": {
            "text/plain": [
              "            trending_date                                              title  \\\n",
              "video_id                                                                       \n",
              "kzwfHumJyYc      17.14.11  Sharry Mann: Cute Munda ( Song Teaser) | Parmi...   \n",
              "zUZ1z7FwLc8      17.14.11  पीरियड्स के समय, पेट पर पति करता ऐसा, देखकर दं...   \n",
              "10L1hZ9qa58      17.14.11  Stylish Star Allu Arjun @ ChaySam Wedding Rece...   \n",
              "N1vE8iiEg64      17.14.11                     Eruma Saani | Tamil vs English   \n",
              "kJzGH0PVQHQ      17.14.11  why Samantha became EMOTIONAL @ Samantha naga ...   \n",
              "il_pSa5l98w      17.14.11  MCA (Middle Class Abbayi) TEASER - Nani,Sai Pa...   \n",
              "7MxiQ4v0EnE      17.14.11  Daang ( Full Video ) | Mankirt Aulakh | Sukh S...   \n",
              "c64I9HNpiOY      17.14.11  Padmavati : Ek Dil Ek Jaan Video Song | Deepik...   \n",
              "KObFEYCaRx8      17.14.11  Chiranjeevi in Naga Chaitanya - Samantha Recep...   \n",
              "g8QsfJhFpjY      17.14.11                 New bike vs Old bike - the reality   \n",
              "\n",
              "                channel_title category_id              publish_time  \\\n",
              "video_id                                                              \n",
              "kzwfHumJyYc   Lokdhun Punjabi           1  2017-11-12T12:20:39.000Z   \n",
              "zUZ1z7FwLc8           HJ NEWS          25  2017-11-13T05:43:56.000Z   \n",
              "10L1hZ9qa58              TFPC          24  2017-11-12T15:48:08.000Z   \n",
              "N1vE8iiEg64       Eruma Saani          23  2017-11-12T07:08:48.000Z   \n",
              "kJzGH0PVQHQ        Filmylooks          24  2017-11-13T01:14:16.000Z   \n",
              "il_pSa5l98w          Dil Raju          24  2017-11-10T04:29:50.000Z   \n",
              "7MxiQ4v0EnE     Speed Records          10  2017-11-11T16:41:15.000Z   \n",
              "c64I9HNpiOY          T-Series          10  2017-11-11T06:14:19.000Z   \n",
              "KObFEYCaRx8  Top Telugu Media          24  2017-11-13T04:42:26.000Z   \n",
              "g8QsfJhFpjY         Jump Cuts          24  2017-11-12T04:30:01.000Z   \n",
              "\n",
              "                                                          tags     views  \\\n",
              "video_id                                                                   \n",
              "kzwfHumJyYc  sharry mann|\"sharry mann new song\"|\"sharry man...   1096327   \n",
              "zUZ1z7FwLc8  पीरियड्स के समय|\"पेट पर पति करता ऐसा\"|\"देखकर द...    590101   \n",
              "10L1hZ9qa58  Stylish Star Allu Arjun @ ChaySam Wedding Rece...    473988   \n",
              "N1vE8iiEg64  Eruma Saani|\"Tamil Comedy Videos\"|\"Films\"|\"Mov...   1242680   \n",
              "kJzGH0PVQHQ  Filmylooks|\"latest news\"|\"telugu movies\"|\"telu...    464015   \n",
              "il_pSa5l98w  Nenu Local|\"Nenu Local Telugu Movie\"|\"Nani\"|\"S...   6106669   \n",
              "7MxiQ4v0EnE  punjabi songs|\"punjabi bhangra\"|\"punjabi music...   5718766   \n",
              "c64I9HNpiOY  Ek Dil Ek Jaan Video Song|\"'Ek Dil Ek Jaan'\"|\"...  10588371   \n",
              "KObFEYCaRx8  Chiranjeevi in Naga Chaitanya - Samantha Recep...    118223   \n",
              "g8QsfJhFpjY  Jump cuts|\"Jumpcuts\"|\"Tamil comedy\"|\"Tamil Com...    969030   \n",
              "\n",
              "              likes  dislikes  comment_count  \\\n",
              "video_id                                       \n",
              "kzwfHumJyYc   33966       798            882   \n",
              "zUZ1z7FwLc8     735       904              0   \n",
              "10L1hZ9qa58    2011       243            149   \n",
              "N1vE8iiEg64   70353      1624           2684   \n",
              "kJzGH0PVQHQ     492       293             66   \n",
              "il_pSa5l98w   98612      4185           4763   \n",
              "7MxiQ4v0EnE  127477      7134           8063   \n",
              "c64I9HNpiOY  132738      8812          10847   \n",
              "KObFEYCaRx8     520        53             23   \n",
              "g8QsfJhFpjY   59798      1545           2404   \n",
              "\n",
              "                                             thumbnail_link  \\\n",
              "video_id                                                      \n",
              "kzwfHumJyYc  https://i.ytimg.com/vi/kzwfHumJyYc/default.jpg   \n",
              "zUZ1z7FwLc8  https://i.ytimg.com/vi/zUZ1z7FwLc8/default.jpg   \n",
              "10L1hZ9qa58  https://i.ytimg.com/vi/10L1hZ9qa58/default.jpg   \n",
              "N1vE8iiEg64  https://i.ytimg.com/vi/N1vE8iiEg64/default.jpg   \n",
              "kJzGH0PVQHQ  https://i.ytimg.com/vi/kJzGH0PVQHQ/default.jpg   \n",
              "il_pSa5l98w  https://i.ytimg.com/vi/il_pSa5l98w/default.jpg   \n",
              "7MxiQ4v0EnE  https://i.ytimg.com/vi/7MxiQ4v0EnE/default.jpg   \n",
              "c64I9HNpiOY  https://i.ytimg.com/vi/c64I9HNpiOY/default.jpg   \n",
              "KObFEYCaRx8  https://i.ytimg.com/vi/KObFEYCaRx8/default.jpg   \n",
              "g8QsfJhFpjY  https://i.ytimg.com/vi/g8QsfJhFpjY/default.jpg   \n",
              "\n",
              "             comments_disabled  ratings_disabled  video_error_or_removed  \\\n",
              "video_id                                                                   \n",
              "kzwfHumJyYc              False             False                   False   \n",
              "zUZ1z7FwLc8               True             False                   False   \n",
              "10L1hZ9qa58              False             False                   False   \n",
              "N1vE8iiEg64              False             False                   False   \n",
              "kJzGH0PVQHQ              False             False                   False   \n",
              "il_pSa5l98w              False             False                   False   \n",
              "7MxiQ4v0EnE              False             False                   False   \n",
              "c64I9HNpiOY              False             False                   False   \n",
              "KObFEYCaRx8              False             False                   False   \n",
              "g8QsfJhFpjY              False             False                   False   \n",
              "\n",
              "                                                   description country  \\\n",
              "video_id                                                                 \n",
              "kzwfHumJyYc  Presenting Sharry Mann latest Punjabi Song  Cu...      IN   \n",
              "zUZ1z7FwLc8  पीरियड्स के समय, पेट पर पति करता ऐसा, देखकर दं...      IN   \n",
              "10L1hZ9qa58  Watch Stylish Star Allu Arjun @ ChaySam Weddin...      IN   \n",
              "N1vE8iiEg64  This video showcases the difference between pe...      IN   \n",
              "kJzGH0PVQHQ  why Samantha became EMOTIONAL @ Samantha naga ...      IN   \n",
              "il_pSa5l98w  Watch MCA- Middle Class Abbayi First Look Teas...      IN   \n",
              "7MxiQ4v0EnE  Song - Daang\\nSinger - Mankirt Aulakh\\nFaceboo...      IN   \n",
              "c64I9HNpiOY  Presenting the song 'Ek Dil Ek Jaan' from Padm...      IN   \n",
              "KObFEYCaRx8  Chiranjeevi in Naga Chaitanya - Samantha Recep...      IN   \n",
              "g8QsfJhFpjY  Jump Cuts is a Tamil entertaining group by Har...      IN   \n",
              "\n",
              "                     category  \n",
              "video_id                       \n",
              "kzwfHumJyYc  Film & Animation  \n",
              "zUZ1z7FwLc8   News & Politics  \n",
              "10L1hZ9qa58     Entertainment  \n",
              "N1vE8iiEg64            Comedy  \n",
              "kJzGH0PVQHQ     Entertainment  \n",
              "il_pSa5l98w     Entertainment  \n",
              "7MxiQ4v0EnE             Music  \n",
              "c64I9HNpiOY             Music  \n",
              "KObFEYCaRx8     Entertainment  \n",
              "g8QsfJhFpjY     Entertainment  "
            ],
            "text/html": [
              "\n",
              "  <div id=\"df-8deac687-838c-4c84-b4de-70803e5a1e8b\">\n",
              "    <div class=\"colab-df-container\">\n",
              "      <div>\n",
              "<style scoped>\n",
              "    .dataframe tbody tr th:only-of-type {\n",
              "        vertical-align: middle;\n",
              "    }\n",
              "\n",
              "    .dataframe tbody tr th {\n",
              "        vertical-align: top;\n",
              "    }\n",
              "\n",
              "    .dataframe thead th {\n",
              "        text-align: right;\n",
              "    }\n",
              "</style>\n",
              "<table border=\"1\" class=\"dataframe\">\n",
              "  <thead>\n",
              "    <tr style=\"text-align: right;\">\n",
              "      <th></th>\n",
              "      <th>trending_date</th>\n",
              "      <th>title</th>\n",
              "      <th>channel_title</th>\n",
              "      <th>category_id</th>\n",
              "      <th>publish_time</th>\n",
              "      <th>tags</th>\n",
              "      <th>views</th>\n",
              "      <th>likes</th>\n",
              "      <th>dislikes</th>\n",
              "      <th>comment_count</th>\n",
              "      <th>thumbnail_link</th>\n",
              "      <th>comments_disabled</th>\n",
              "      <th>ratings_disabled</th>\n",
              "      <th>video_error_or_removed</th>\n",
              "      <th>description</th>\n",
              "      <th>country</th>\n",
              "      <th>category</th>\n",
              "    </tr>\n",
              "    <tr>\n",
              "      <th>video_id</th>\n",
              "      <th></th>\n",
              "      <th></th>\n",
              "      <th></th>\n",
              "      <th></th>\n",
              "      <th></th>\n",
              "      <th></th>\n",
              "      <th></th>\n",
              "      <th></th>\n",
              "      <th></th>\n",
              "      <th></th>\n",
              "      <th></th>\n",
              "      <th></th>\n",
              "      <th></th>\n",
              "      <th></th>\n",
              "      <th></th>\n",
              "      <th></th>\n",
              "      <th></th>\n",
              "    </tr>\n",
              "  </thead>\n",
              "  <tbody>\n",
              "    <tr>\n",
              "      <th>kzwfHumJyYc</th>\n",
              "      <td>17.14.11</td>\n",
              "      <td>Sharry Mann: Cute Munda ( Song Teaser) | Parmi...</td>\n",
              "      <td>Lokdhun Punjabi</td>\n",
              "      <td>1</td>\n",
              "      <td>2017-11-12T12:20:39.000Z</td>\n",
              "      <td>sharry mann|\"sharry mann new song\"|\"sharry man...</td>\n",
              "      <td>1096327</td>\n",
              "      <td>33966</td>\n",
              "      <td>798</td>\n",
              "      <td>882</td>\n",
              "      <td>https://i.ytimg.com/vi/kzwfHumJyYc/default.jpg</td>\n",
              "      <td>False</td>\n",
              "      <td>False</td>\n",
              "      <td>False</td>\n",
              "      <td>Presenting Sharry Mann latest Punjabi Song  Cu...</td>\n",
              "      <td>IN</td>\n",
              "      <td>Film &amp; Animation</td>\n",
              "    </tr>\n",
              "    <tr>\n",
              "      <th>zUZ1z7FwLc8</th>\n",
              "      <td>17.14.11</td>\n",
              "      <td>पीरियड्स के समय, पेट पर पति करता ऐसा, देखकर दं...</td>\n",
              "      <td>HJ NEWS</td>\n",
              "      <td>25</td>\n",
              "      <td>2017-11-13T05:43:56.000Z</td>\n",
              "      <td>पीरियड्स के समय|\"पेट पर पति करता ऐसा\"|\"देखकर द...</td>\n",
              "      <td>590101</td>\n",
              "      <td>735</td>\n",
              "      <td>904</td>\n",
              "      <td>0</td>\n",
              "      <td>https://i.ytimg.com/vi/zUZ1z7FwLc8/default.jpg</td>\n",
              "      <td>True</td>\n",
              "      <td>False</td>\n",
              "      <td>False</td>\n",
              "      <td>पीरियड्स के समय, पेट पर पति करता ऐसा, देखकर दं...</td>\n",
              "      <td>IN</td>\n",
              "      <td>News &amp; Politics</td>\n",
              "    </tr>\n",
              "    <tr>\n",
              "      <th>10L1hZ9qa58</th>\n",
              "      <td>17.14.11</td>\n",
              "      <td>Stylish Star Allu Arjun @ ChaySam Wedding Rece...</td>\n",
              "      <td>TFPC</td>\n",
              "      <td>24</td>\n",
              "      <td>2017-11-12T15:48:08.000Z</td>\n",
              "      <td>Stylish Star Allu Arjun @ ChaySam Wedding Rece...</td>\n",
              "      <td>473988</td>\n",
              "      <td>2011</td>\n",
              "      <td>243</td>\n",
              "      <td>149</td>\n",
              "      <td>https://i.ytimg.com/vi/10L1hZ9qa58/default.jpg</td>\n",
              "      <td>False</td>\n",
              "      <td>False</td>\n",
              "      <td>False</td>\n",
              "      <td>Watch Stylish Star Allu Arjun @ ChaySam Weddin...</td>\n",
              "      <td>IN</td>\n",
              "      <td>Entertainment</td>\n",
              "    </tr>\n",
              "    <tr>\n",
              "      <th>N1vE8iiEg64</th>\n",
              "      <td>17.14.11</td>\n",
              "      <td>Eruma Saani | Tamil vs English</td>\n",
              "      <td>Eruma Saani</td>\n",
              "      <td>23</td>\n",
              "      <td>2017-11-12T07:08:48.000Z</td>\n",
              "      <td>Eruma Saani|\"Tamil Comedy Videos\"|\"Films\"|\"Mov...</td>\n",
              "      <td>1242680</td>\n",
              "      <td>70353</td>\n",
              "      <td>1624</td>\n",
              "      <td>2684</td>\n",
              "      <td>https://i.ytimg.com/vi/N1vE8iiEg64/default.jpg</td>\n",
              "      <td>False</td>\n",
              "      <td>False</td>\n",
              "      <td>False</td>\n",
              "      <td>This video showcases the difference between pe...</td>\n",
              "      <td>IN</td>\n",
              "      <td>Comedy</td>\n",
              "    </tr>\n",
              "    <tr>\n",
              "      <th>kJzGH0PVQHQ</th>\n",
              "      <td>17.14.11</td>\n",
              "      <td>why Samantha became EMOTIONAL @ Samantha naga ...</td>\n",
              "      <td>Filmylooks</td>\n",
              "      <td>24</td>\n",
              "      <td>2017-11-13T01:14:16.000Z</td>\n",
              "      <td>Filmylooks|\"latest news\"|\"telugu movies\"|\"telu...</td>\n",
              "      <td>464015</td>\n",
              "      <td>492</td>\n",
              "      <td>293</td>\n",
              "      <td>66</td>\n",
              "      <td>https://i.ytimg.com/vi/kJzGH0PVQHQ/default.jpg</td>\n",
              "      <td>False</td>\n",
              "      <td>False</td>\n",
              "      <td>False</td>\n",
              "      <td>why Samantha became EMOTIONAL @ Samantha naga ...</td>\n",
              "      <td>IN</td>\n",
              "      <td>Entertainment</td>\n",
              "    </tr>\n",
              "    <tr>\n",
              "      <th>il_pSa5l98w</th>\n",
              "      <td>17.14.11</td>\n",
              "      <td>MCA (Middle Class Abbayi) TEASER - Nani,Sai Pa...</td>\n",
              "      <td>Dil Raju</td>\n",
              "      <td>24</td>\n",
              "      <td>2017-11-10T04:29:50.000Z</td>\n",
              "      <td>Nenu Local|\"Nenu Local Telugu Movie\"|\"Nani\"|\"S...</td>\n",
              "      <td>6106669</td>\n",
              "      <td>98612</td>\n",
              "      <td>4185</td>\n",
              "      <td>4763</td>\n",
              "      <td>https://i.ytimg.com/vi/il_pSa5l98w/default.jpg</td>\n",
              "      <td>False</td>\n",
              "      <td>False</td>\n",
              "      <td>False</td>\n",
              "      <td>Watch MCA- Middle Class Abbayi First Look Teas...</td>\n",
              "      <td>IN</td>\n",
              "      <td>Entertainment</td>\n",
              "    </tr>\n",
              "    <tr>\n",
              "      <th>7MxiQ4v0EnE</th>\n",
              "      <td>17.14.11</td>\n",
              "      <td>Daang ( Full Video ) | Mankirt Aulakh | Sukh S...</td>\n",
              "      <td>Speed Records</td>\n",
              "      <td>10</td>\n",
              "      <td>2017-11-11T16:41:15.000Z</td>\n",
              "      <td>punjabi songs|\"punjabi bhangra\"|\"punjabi music...</td>\n",
              "      <td>5718766</td>\n",
              "      <td>127477</td>\n",
              "      <td>7134</td>\n",
              "      <td>8063</td>\n",
              "      <td>https://i.ytimg.com/vi/7MxiQ4v0EnE/default.jpg</td>\n",
              "      <td>False</td>\n",
              "      <td>False</td>\n",
              "      <td>False</td>\n",
              "      <td>Song - Daang\\nSinger - Mankirt Aulakh\\nFaceboo...</td>\n",
              "      <td>IN</td>\n",
              "      <td>Music</td>\n",
              "    </tr>\n",
              "    <tr>\n",
              "      <th>c64I9HNpiOY</th>\n",
              "      <td>17.14.11</td>\n",
              "      <td>Padmavati : Ek Dil Ek Jaan Video Song | Deepik...</td>\n",
              "      <td>T-Series</td>\n",
              "      <td>10</td>\n",
              "      <td>2017-11-11T06:14:19.000Z</td>\n",
              "      <td>Ek Dil Ek Jaan Video Song|\"'Ek Dil Ek Jaan'\"|\"...</td>\n",
              "      <td>10588371</td>\n",
              "      <td>132738</td>\n",
              "      <td>8812</td>\n",
              "      <td>10847</td>\n",
              "      <td>https://i.ytimg.com/vi/c64I9HNpiOY/default.jpg</td>\n",
              "      <td>False</td>\n",
              "      <td>False</td>\n",
              "      <td>False</td>\n",
              "      <td>Presenting the song 'Ek Dil Ek Jaan' from Padm...</td>\n",
              "      <td>IN</td>\n",
              "      <td>Music</td>\n",
              "    </tr>\n",
              "    <tr>\n",
              "      <th>KObFEYCaRx8</th>\n",
              "      <td>17.14.11</td>\n",
              "      <td>Chiranjeevi in Naga Chaitanya - Samantha Recep...</td>\n",
              "      <td>Top Telugu Media</td>\n",
              "      <td>24</td>\n",
              "      <td>2017-11-13T04:42:26.000Z</td>\n",
              "      <td>Chiranjeevi in Naga Chaitanya - Samantha Recep...</td>\n",
              "      <td>118223</td>\n",
              "      <td>520</td>\n",
              "      <td>53</td>\n",
              "      <td>23</td>\n",
              "      <td>https://i.ytimg.com/vi/KObFEYCaRx8/default.jpg</td>\n",
              "      <td>False</td>\n",
              "      <td>False</td>\n",
              "      <td>False</td>\n",
              "      <td>Chiranjeevi in Naga Chaitanya - Samantha Recep...</td>\n",
              "      <td>IN</td>\n",
              "      <td>Entertainment</td>\n",
              "    </tr>\n",
              "    <tr>\n",
              "      <th>g8QsfJhFpjY</th>\n",
              "      <td>17.14.11</td>\n",
              "      <td>New bike vs Old bike - the reality</td>\n",
              "      <td>Jump Cuts</td>\n",
              "      <td>24</td>\n",
              "      <td>2017-11-12T04:30:01.000Z</td>\n",
              "      <td>Jump cuts|\"Jumpcuts\"|\"Tamil comedy\"|\"Tamil Com...</td>\n",
              "      <td>969030</td>\n",
              "      <td>59798</td>\n",
              "      <td>1545</td>\n",
              "      <td>2404</td>\n",
              "      <td>https://i.ytimg.com/vi/g8QsfJhFpjY/default.jpg</td>\n",
              "      <td>False</td>\n",
              "      <td>False</td>\n",
              "      <td>False</td>\n",
              "      <td>Jump Cuts is a Tamil entertaining group by Har...</td>\n",
              "      <td>IN</td>\n",
              "      <td>Entertainment</td>\n",
              "    </tr>\n",
              "  </tbody>\n",
              "</table>\n",
              "</div>\n",
              "      <button class=\"colab-df-convert\" onclick=\"convertToInteractive('df-8deac687-838c-4c84-b4de-70803e5a1e8b')\"\n",
              "              title=\"Convert this dataframe to an interactive table.\"\n",
              "              style=\"display:none;\">\n",
              "        \n",
              "  <svg xmlns=\"http://www.w3.org/2000/svg\" height=\"24px\"viewBox=\"0 0 24 24\"\n",
              "       width=\"24px\">\n",
              "    <path d=\"M0 0h24v24H0V0z\" fill=\"none\"/>\n",
              "    <path d=\"M18.56 5.44l.94 2.06.94-2.06 2.06-.94-2.06-.94-.94-2.06-.94 2.06-2.06.94zm-11 1L8.5 8.5l.94-2.06 2.06-.94-2.06-.94L8.5 2.5l-.94 2.06-2.06.94zm10 10l.94 2.06.94-2.06 2.06-.94-2.06-.94-.94-2.06-.94 2.06-2.06.94z\"/><path d=\"M17.41 7.96l-1.37-1.37c-.4-.4-.92-.59-1.43-.59-.52 0-1.04.2-1.43.59L10.3 9.45l-7.72 7.72c-.78.78-.78 2.05 0 2.83L4 21.41c.39.39.9.59 1.41.59.51 0 1.02-.2 1.41-.59l7.78-7.78 2.81-2.81c.8-.78.8-2.07 0-2.86zM5.41 20L4 18.59l7.72-7.72 1.47 1.35L5.41 20z\"/>\n",
              "  </svg>\n",
              "      </button>\n",
              "      \n",
              "  <style>\n",
              "    .colab-df-container {\n",
              "      display:flex;\n",
              "      flex-wrap:wrap;\n",
              "      gap: 12px;\n",
              "    }\n",
              "\n",
              "    .colab-df-convert {\n",
              "      background-color: #E8F0FE;\n",
              "      border: none;\n",
              "      border-radius: 50%;\n",
              "      cursor: pointer;\n",
              "      display: none;\n",
              "      fill: #1967D2;\n",
              "      height: 32px;\n",
              "      padding: 0 0 0 0;\n",
              "      width: 32px;\n",
              "    }\n",
              "\n",
              "    .colab-df-convert:hover {\n",
              "      background-color: #E2EBFA;\n",
              "      box-shadow: 0px 1px 2px rgba(60, 64, 67, 0.3), 0px 1px 3px 1px rgba(60, 64, 67, 0.15);\n",
              "      fill: #174EA6;\n",
              "    }\n",
              "\n",
              "    [theme=dark] .colab-df-convert {\n",
              "      background-color: #3B4455;\n",
              "      fill: #D2E3FC;\n",
              "    }\n",
              "\n",
              "    [theme=dark] .colab-df-convert:hover {\n",
              "      background-color: #434B5C;\n",
              "      box-shadow: 0px 1px 3px 1px rgba(0, 0, 0, 0.15);\n",
              "      filter: drop-shadow(0px 1px 2px rgba(0, 0, 0, 0.3));\n",
              "      fill: #FFFFFF;\n",
              "    }\n",
              "  </style>\n",
              "\n",
              "      <script>\n",
              "        const buttonEl =\n",
              "          document.querySelector('#df-8deac687-838c-4c84-b4de-70803e5a1e8b button.colab-df-convert');\n",
              "        buttonEl.style.display =\n",
              "          google.colab.kernel.accessAllowed ? 'block' : 'none';\n",
              "\n",
              "        async function convertToInteractive(key) {\n",
              "          const element = document.querySelector('#df-8deac687-838c-4c84-b4de-70803e5a1e8b');\n",
              "          const dataTable =\n",
              "            await google.colab.kernel.invokeFunction('convertToInteractive',\n",
              "                                                     [key], {});\n",
              "          if (!dataTable) return;\n",
              "\n",
              "          const docLinkHtml = 'Like what you see? Visit the ' +\n",
              "            '<a target=\"_blank\" href=https://colab.research.google.com/notebooks/data_table.ipynb>data table notebook</a>'\n",
              "            + ' to learn more about interactive tables.';\n",
              "          element.innerHTML = '';\n",
              "          dataTable['output_type'] = 'display_data';\n",
              "          await google.colab.output.renderOutput(dataTable, element);\n",
              "          const docLink = document.createElement('div');\n",
              "          docLink.innerHTML = docLinkHtml;\n",
              "          element.appendChild(docLink);\n",
              "        }\n",
              "      </script>\n",
              "    </div>\n",
              "  </div>\n",
              "  "
            ]
          },
          "metadata": {},
          "execution_count": 8
        }
      ]
    },
    {
      "cell_type": "markdown",
      "metadata": {
        "id": "LEfiMpUULmT4"
      },
      "source": [
        "#### 5.1.1.3: Fix datetime format and remove rows with NA's (1 pt)\n",
        "\n",
        "The 'publish_time' and 'trending_date' features are not in a unix datetime format, so use pandas to_datetime() to convert it into the right format.\n",
        "\n",
        "After that is done remove all the rows which have NA's in them."
      ]
    },
    {
      "cell_type": "code",
      "metadata": {
        "colab": {
          "base_uri": "https://localhost:8080/"
        },
        "id": "EMqgqJv5MYWG",
        "outputId": "e13f38bd-d041-49e1-9b0f-f0fb4b3c6778"
      },
      "source": [
        "# Add code here\n",
        "combined_data.info()\n",
        "combined_data['trending_date'] = pd.to_datetime(combined_data[\"trending_date\"],format =\"%y.%d.%m\")\n",
        "combined_data['publish_time'] = pd.to_datetime(combined_data[\"publish_time\"],format = \"%Y-%m-%dT%H:%M:%S.%fZ\")\n",
        "\n",
        "# Add your Code here to remove NA's\n",
        "combined_data = combined_data.dropna()\n",
        "combined_data.info()\n"
      ],
      "execution_count": 9,
      "outputs": [
        {
          "output_type": "stream",
          "name": "stdout",
          "text": [
            "<class 'pandas.core.frame.DataFrame'>\n",
            "Index: 159906 entries, kzwfHumJyYc to ooyjaVdt-jA\n",
            "Data columns (total 17 columns):\n",
            " #   Column                  Non-Null Count   Dtype \n",
            "---  ------                  --------------   ----- \n",
            " 0   trending_date           159906 non-null  object\n",
            " 1   title                   159906 non-null  object\n",
            " 2   channel_title           159906 non-null  object\n",
            " 3   category_id             159906 non-null  object\n",
            " 4   publish_time            159906 non-null  object\n",
            " 5   tags                    159906 non-null  object\n",
            " 6   views                   159906 non-null  int64 \n",
            " 7   likes                   159906 non-null  int64 \n",
            " 8   dislikes                159906 non-null  int64 \n",
            " 9   comment_count           159906 non-null  int64 \n",
            " 10  thumbnail_link          159906 non-null  object\n",
            " 11  comments_disabled       159906 non-null  bool  \n",
            " 12  ratings_disabled        159906 non-null  bool  \n",
            " 13  video_error_or_removed  159906 non-null  bool  \n",
            " 14  description             154567 non-null  object\n",
            " 15  country                 159906 non-null  object\n",
            " 16  category                159906 non-null  object\n",
            "dtypes: bool(3), int64(4), object(10)\n",
            "memory usage: 18.8+ MB\n",
            "<class 'pandas.core.frame.DataFrame'>\n",
            "Index: 154567 entries, kzwfHumJyYc to ooyjaVdt-jA\n",
            "Data columns (total 17 columns):\n",
            " #   Column                  Non-Null Count   Dtype         \n",
            "---  ------                  --------------   -----         \n",
            " 0   trending_date           154567 non-null  datetime64[ns]\n",
            " 1   title                   154567 non-null  object        \n",
            " 2   channel_title           154567 non-null  object        \n",
            " 3   category_id             154567 non-null  object        \n",
            " 4   publish_time            154567 non-null  datetime64[ns]\n",
            " 5   tags                    154567 non-null  object        \n",
            " 6   views                   154567 non-null  int64         \n",
            " 7   likes                   154567 non-null  int64         \n",
            " 8   dislikes                154567 non-null  int64         \n",
            " 9   comment_count           154567 non-null  int64         \n",
            " 10  thumbnail_link          154567 non-null  object        \n",
            " 11  comments_disabled       154567 non-null  bool          \n",
            " 12  ratings_disabled        154567 non-null  bool          \n",
            " 13  video_error_or_removed  154567 non-null  bool          \n",
            " 14  description             154567 non-null  object        \n",
            " 15  country                 154567 non-null  object        \n",
            " 16  category                154567 non-null  object        \n",
            "dtypes: bool(3), datetime64[ns](2), int64(4), object(8)\n",
            "memory usage: 18.1+ MB\n"
          ]
        }
      ]
    },
    {
      "cell_type": "code",
      "metadata": {
        "colab": {
          "base_uri": "https://localhost:8080/"
        },
        "id": "P7B9nlL1SwgT",
        "outputId": "cd838185-0974-4b64-b66c-96d1a4155ef9"
      },
      "source": [
        "# print\n",
        "print('validate_na',(combined_data.shape))"
      ],
      "execution_count": 10,
      "outputs": [
        {
          "output_type": "stream",
          "name": "stdout",
          "text": [
            "validate_na (154567, 17)\n"
          ]
        }
      ]
    },
    {
      "cell_type": "markdown",
      "metadata": {
        "id": "gT2l5ttZan_J"
      },
      "source": [
        "## 5.2 Exploratory Data Analysis & Feature Engineering (20pt)\n",
        "\n",
        "\n",
        "**Exploratory Data Analysis:** \n",
        "EDA aims to analyze data sets by summarizing its key characteristics assisted by visualizations. EDA communicates insights beyond formal modeling/hypothesis testing with or without statistical model.\n",
        "\n",
        "**Feature Engineering:** \n",
        "The primary object of feature engineering is to extract features using domain knowledge. It aims to extract features from raw data using various data mining approaches.\n",
        "\n",
        "These features are fed to various machine learning classifiers. These features are also called as covariates, predicators, or simply a new column in data frame."
      ]
    },
    {
      "cell_type": "markdown",
      "metadata": {
        "id": "bL0aSQcFAxxz"
      },
      "source": [
        "#### 5.2.1: Calculating Mean, standard deviation, min and max. (1 pt)\n",
        "\n",
        "In this section, we will focus to compute various satistics, i.e., mean, standard deviation, min and max for numerical features in the dataset and then store them into lists, i.e.,  [views, likes, dislikes, comment_count].\n",
        "\n",
        "means = [views_mean, likes_mean, dislikes_mean, comment_count_mean] and similarly for mins, maxs and stds."
      ]
    },
    {
      "cell_type": "code",
      "metadata": {
        "colab": {
          "base_uri": "https://localhost:8080/",
          "height": 300
        },
        "id": "P8w8Jv-NM7h8",
        "outputId": "84ddb535-c572-4db8-c3fc-234c83f4ec87"
      },
      "source": [
        "combined_data.describe()"
      ],
      "execution_count": 11,
      "outputs": [
        {
          "output_type": "execute_result",
          "data": {
            "text/plain": [
              "              views         likes      dislikes  comment_count\n",
              "count  1.545670e+05  1.545670e+05  1.545670e+05   1.545670e+05\n",
              "mean   1.281578e+06  4.096105e+04  2.056138e+03   4.606594e+03\n",
              "std    4.605292e+06  1.521490e+05  1.825854e+04   2.327823e+04\n",
              "min    2.230000e+02  0.000000e+00  0.000000e+00   0.000000e+00\n",
              "25%    9.574900e+04  1.321000e+03  8.100000e+01   1.720000e+02\n",
              "50%    3.134280e+05  6.336000e+03  2.980000e+02   7.650000e+02\n",
              "75%    9.473390e+05  2.594050e+04  1.024000e+03   2.726000e+03\n",
              "max    2.252119e+08  5.613827e+06  1.643059e+06   1.228655e+06"
            ],
            "text/html": [
              "\n",
              "  <div id=\"df-c99a0b35-8345-46e5-b439-4329e5c04bbc\">\n",
              "    <div class=\"colab-df-container\">\n",
              "      <div>\n",
              "<style scoped>\n",
              "    .dataframe tbody tr th:only-of-type {\n",
              "        vertical-align: middle;\n",
              "    }\n",
              "\n",
              "    .dataframe tbody tr th {\n",
              "        vertical-align: top;\n",
              "    }\n",
              "\n",
              "    .dataframe thead th {\n",
              "        text-align: right;\n",
              "    }\n",
              "</style>\n",
              "<table border=\"1\" class=\"dataframe\">\n",
              "  <thead>\n",
              "    <tr style=\"text-align: right;\">\n",
              "      <th></th>\n",
              "      <th>views</th>\n",
              "      <th>likes</th>\n",
              "      <th>dislikes</th>\n",
              "      <th>comment_count</th>\n",
              "    </tr>\n",
              "  </thead>\n",
              "  <tbody>\n",
              "    <tr>\n",
              "      <th>count</th>\n",
              "      <td>1.545670e+05</td>\n",
              "      <td>1.545670e+05</td>\n",
              "      <td>1.545670e+05</td>\n",
              "      <td>1.545670e+05</td>\n",
              "    </tr>\n",
              "    <tr>\n",
              "      <th>mean</th>\n",
              "      <td>1.281578e+06</td>\n",
              "      <td>4.096105e+04</td>\n",
              "      <td>2.056138e+03</td>\n",
              "      <td>4.606594e+03</td>\n",
              "    </tr>\n",
              "    <tr>\n",
              "      <th>std</th>\n",
              "      <td>4.605292e+06</td>\n",
              "      <td>1.521490e+05</td>\n",
              "      <td>1.825854e+04</td>\n",
              "      <td>2.327823e+04</td>\n",
              "    </tr>\n",
              "    <tr>\n",
              "      <th>min</th>\n",
              "      <td>2.230000e+02</td>\n",
              "      <td>0.000000e+00</td>\n",
              "      <td>0.000000e+00</td>\n",
              "      <td>0.000000e+00</td>\n",
              "    </tr>\n",
              "    <tr>\n",
              "      <th>25%</th>\n",
              "      <td>9.574900e+04</td>\n",
              "      <td>1.321000e+03</td>\n",
              "      <td>8.100000e+01</td>\n",
              "      <td>1.720000e+02</td>\n",
              "    </tr>\n",
              "    <tr>\n",
              "      <th>50%</th>\n",
              "      <td>3.134280e+05</td>\n",
              "      <td>6.336000e+03</td>\n",
              "      <td>2.980000e+02</td>\n",
              "      <td>7.650000e+02</td>\n",
              "    </tr>\n",
              "    <tr>\n",
              "      <th>75%</th>\n",
              "      <td>9.473390e+05</td>\n",
              "      <td>2.594050e+04</td>\n",
              "      <td>1.024000e+03</td>\n",
              "      <td>2.726000e+03</td>\n",
              "    </tr>\n",
              "    <tr>\n",
              "      <th>max</th>\n",
              "      <td>2.252119e+08</td>\n",
              "      <td>5.613827e+06</td>\n",
              "      <td>1.643059e+06</td>\n",
              "      <td>1.228655e+06</td>\n",
              "    </tr>\n",
              "  </tbody>\n",
              "</table>\n",
              "</div>\n",
              "      <button class=\"colab-df-convert\" onclick=\"convertToInteractive('df-c99a0b35-8345-46e5-b439-4329e5c04bbc')\"\n",
              "              title=\"Convert this dataframe to an interactive table.\"\n",
              "              style=\"display:none;\">\n",
              "        \n",
              "  <svg xmlns=\"http://www.w3.org/2000/svg\" height=\"24px\"viewBox=\"0 0 24 24\"\n",
              "       width=\"24px\">\n",
              "    <path d=\"M0 0h24v24H0V0z\" fill=\"none\"/>\n",
              "    <path d=\"M18.56 5.44l.94 2.06.94-2.06 2.06-.94-2.06-.94-.94-2.06-.94 2.06-2.06.94zm-11 1L8.5 8.5l.94-2.06 2.06-.94-2.06-.94L8.5 2.5l-.94 2.06-2.06.94zm10 10l.94 2.06.94-2.06 2.06-.94-2.06-.94-.94-2.06-.94 2.06-2.06.94z\"/><path d=\"M17.41 7.96l-1.37-1.37c-.4-.4-.92-.59-1.43-.59-.52 0-1.04.2-1.43.59L10.3 9.45l-7.72 7.72c-.78.78-.78 2.05 0 2.83L4 21.41c.39.39.9.59 1.41.59.51 0 1.02-.2 1.41-.59l7.78-7.78 2.81-2.81c.8-.78.8-2.07 0-2.86zM5.41 20L4 18.59l7.72-7.72 1.47 1.35L5.41 20z\"/>\n",
              "  </svg>\n",
              "      </button>\n",
              "      \n",
              "  <style>\n",
              "    .colab-df-container {\n",
              "      display:flex;\n",
              "      flex-wrap:wrap;\n",
              "      gap: 12px;\n",
              "    }\n",
              "\n",
              "    .colab-df-convert {\n",
              "      background-color: #E8F0FE;\n",
              "      border: none;\n",
              "      border-radius: 50%;\n",
              "      cursor: pointer;\n",
              "      display: none;\n",
              "      fill: #1967D2;\n",
              "      height: 32px;\n",
              "      padding: 0 0 0 0;\n",
              "      width: 32px;\n",
              "    }\n",
              "\n",
              "    .colab-df-convert:hover {\n",
              "      background-color: #E2EBFA;\n",
              "      box-shadow: 0px 1px 2px rgba(60, 64, 67, 0.3), 0px 1px 3px 1px rgba(60, 64, 67, 0.15);\n",
              "      fill: #174EA6;\n",
              "    }\n",
              "\n",
              "    [theme=dark] .colab-df-convert {\n",
              "      background-color: #3B4455;\n",
              "      fill: #D2E3FC;\n",
              "    }\n",
              "\n",
              "    [theme=dark] .colab-df-convert:hover {\n",
              "      background-color: #434B5C;\n",
              "      box-shadow: 0px 1px 3px 1px rgba(0, 0, 0, 0.15);\n",
              "      filter: drop-shadow(0px 1px 2px rgba(0, 0, 0, 0.3));\n",
              "      fill: #FFFFFF;\n",
              "    }\n",
              "  </style>\n",
              "\n",
              "      <script>\n",
              "        const buttonEl =\n",
              "          document.querySelector('#df-c99a0b35-8345-46e5-b439-4329e5c04bbc button.colab-df-convert');\n",
              "        buttonEl.style.display =\n",
              "          google.colab.kernel.accessAllowed ? 'block' : 'none';\n",
              "\n",
              "        async function convertToInteractive(key) {\n",
              "          const element = document.querySelector('#df-c99a0b35-8345-46e5-b439-4329e5c04bbc');\n",
              "          const dataTable =\n",
              "            await google.colab.kernel.invokeFunction('convertToInteractive',\n",
              "                                                     [key], {});\n",
              "          if (!dataTable) return;\n",
              "\n",
              "          const docLinkHtml = 'Like what you see? Visit the ' +\n",
              "            '<a target=\"_blank\" href=https://colab.research.google.com/notebooks/data_table.ipynb>data table notebook</a>'\n",
              "            + ' to learn more about interactive tables.';\n",
              "          element.innerHTML = '';\n",
              "          dataTable['output_type'] = 'display_data';\n",
              "          await google.colab.output.renderOutput(dataTable, element);\n",
              "          const docLink = document.createElement('div');\n",
              "          docLink.innerHTML = docLinkHtml;\n",
              "          element.appendChild(docLink);\n",
              "        }\n",
              "      </script>\n",
              "    </div>\n",
              "  </div>\n",
              "  "
            ]
          },
          "metadata": {},
          "execution_count": 11
        }
      ]
    },
    {
      "cell_type": "code",
      "metadata": {
        "id": "sUvoJyv4OwK6"
      },
      "source": [
        "\n",
        "# Add your code here\n",
        "maxs = combined_data.describe().iloc[7].values.tolist()\n",
        "mins = combined_data.describe().iloc[3].values.tolist()\n",
        "stds = combined_data.describe().iloc[2].values.tolist()\n",
        "means = combined_data.describe().iloc[1].values.tolist()\n",
        "\n"
      ],
      "execution_count": 12,
      "outputs": []
    },
    {
      "cell_type": "code",
      "metadata": {
        "colab": {
          "base_uri": "https://localhost:8080/"
        },
        "id": "G0186aPaSzA_",
        "outputId": "79392f08-e992-48f8-b8b1-2ad61c3d1680"
      },
      "source": [
        "# print here\n",
        "print('check_min_max_mean_std',([maxs, mins, stds, means]))\n"
      ],
      "execution_count": 13,
      "outputs": [
        {
          "output_type": "stream",
          "name": "stdout",
          "text": [
            "check_min_max_mean_std [[225211923.0, 5613827.0, 1643059.0, 1228655.0], [223.0, 0.0, 0.0, 0.0], [4605292.478385794, 152148.95485475138, 18258.541379660703, 23278.225620617904], [1281578.03423758, 40961.05191276275, 2056.138490104615, 4606.593742519425]]\n"
          ]
        }
      ]
    },
    {
      "cell_type": "markdown",
      "metadata": {
        "id": "jwMkARfAFE-U"
      },
      "source": [
        "#### 5.2.2: Rescaling the features (1 pt)\n",
        "\n",
        "From the above section, it is clear that the numerical values range is really high.  we can use rescaling to avoid numerical instability problems. We can rescale likes, views, dislikes, and comment_count using log scale (base e). Let us store rescaled features in dataframe as likes_log, views_log, dislikes_log and comment_log.\n",
        "\n",
        "NOTE- log 0 is not defined, therefore, you should add 1 to each value prior to taking the log."
      ]
    },
    {
      "cell_type": "code",
      "metadata": {
        "id": "-0wGMFGdFUBK"
      },
      "source": [
        "# Add your code here\n",
        "combined_data['likes_log'] = np.log(1 + combined_data['likes']) \n",
        "combined_data['views_log'] = np.log(1 + combined_data['views']) \n",
        "combined_data['dislikes_log'] = np.log(1 + combined_data['dislikes']) \n",
        "combined_data['comment_log'] = np.log(1 + combined_data['comment_count']) "
      ],
      "execution_count": 14,
      "outputs": []
    },
    {
      "cell_type": "code",
      "metadata": {
        "colab": {
          "base_uri": "https://localhost:8080/"
        },
        "id": "ZrJSqeZaS1_0",
        "outputId": "53373ec8-7422-4297-9cc8-f029dd45e970"
      },
      "source": [
        "# Print results\n",
        "print('check_feature_rescaling',([np.mean(combined_data['likes_log']),np.mean(combined_data['views_log']),np.mean(combined_data['dislikes_log']),\n",
        "                                         np.mean(combined_data['comment_log'])]))"
      ],
      "execution_count": 15,
      "outputs": [
        {
          "output_type": "stream",
          "name": "stdout",
          "text": [
            "check_feature_rescaling [8.571590187188637, 12.552679805013259, 5.614484952080614, 6.424543615107988]\n"
          ]
        }
      ]
    },
    {
      "cell_type": "markdown",
      "metadata": {
        "id": "Kqt6-d6NGA9F"
      },
      "source": [
        "#### 5.2.3: Plotting the distribution (2 pt)\n",
        "\n",
        "Plot the distribution for the newly created log features. They should look like normal distribution curves."
      ]
    },
    {
      "cell_type": "code",
      "metadata": {
        "colab": {
          "base_uri": "https://localhost:8080/",
          "height": 610
        },
        "id": "gM-HSdnGE5Cf",
        "outputId": "56fe3194-70da-41dc-a93f-9e62aae00bbe"
      },
      "source": [
        "# Add your code here for plotting the distribution\n",
        "log_df=combined_data[['likes_log','views_log','dislikes_log','comment_log']]\n",
        "log_df.plot.kde(figsize=(20,10))\n",
        "# plot data"
      ],
      "execution_count": 16,
      "outputs": [
        {
          "output_type": "execute_result",
          "data": {
            "text/plain": [
              "<AxesSubplot:ylabel='Density'>"
            ]
          },
          "metadata": {},
          "execution_count": 16
        },
        {
          "output_type": "display_data",
          "data": {
            "text/plain": [
              "<Figure size 1440x720 with 1 Axes>"
            ],
            "image/png": "[encoded data removed]"
          },
          "metadata": {
            "needs_background": "light"
          }
        }
      ]
    },
    {
      "cell_type": "markdown",
      "metadata": {
        "id": "AuCVICPLBV1l"
      },
      "source": [
        "#### 5.2.4: Comparing views, likes, dislikes against categories (3 pt)\n",
        "\n",
        "Let us gain isights into data using various catergories, views, likes and dislikes.\n",
        "\n",
        "Draw three plots for the following:\n",
        "\n",
        "1.) How many videos are there for each category?\n",
        "\n",
        "2.) What is the distribution of views against categories? (Use boxplot and views on log scale)\n",
        "\n",
        "3.) What is the distribution of dislikes against categories? (Use boxplot and dislikes on log scale)\n",
        "\n",
        "For extra credit:\n",
        "You can try to gain more insights into the dataset by drawing interesting plots. Some ideas include:\n",
        "\n",
        "* How long does a video trend in a country? \n",
        "* What are some videos which got popular because they were disliked? \n",
        "\n",
        "Think of such interesting things and add here. We will award points based on creativity of the insights that you get."
      ]
    },
    {
      "cell_type": "code",
      "metadata": {
        "colab": {
          "base_uri": "https://localhost:8080/"
        },
        "id": "Vl_bgpXbB6kt",
        "outputId": "73f83b92-edf8-422b-9e4e-0844bed3314a"
      },
      "source": [
        "# Your code goes here\n",
        "# Plots will be manually graded\n",
        "##1-Total videos for each category:\n",
        "by_category = combined_data.groupby([\"category\"]).size().sort_values(ascending = False)\n",
        "print('Total videos for each category: \\n', by_category)"
      ],
      "execution_count": 17,
      "outputs": [
        {
          "output_type": "stream",
          "name": "stdout",
          "text": [
            "Total videos for each category: \n",
            " category\n",
            "Entertainment            48964\n",
            "Music                    17818\n",
            "Comedy                   14790\n",
            "News & Politics          14713\n",
            "People & Blogs           13954\n",
            "Sports                    9488\n",
            "Howto & Style             9309\n",
            "Film & Animation          7874\n",
            "Science & Technology      4846\n",
            "Education                 4544\n",
            "Gaming                    3592\n",
            "Pets & Animals            1522\n",
            "Autos & Vehicles          1406\n",
            "Travel & Events            889\n",
            "Shows                      485\n",
            "Nonprofits & Activism      338\n",
            "Movies                      33\n",
            "Trailers                     2\n",
            "dtype: int64\n"
          ]
        }
      ]
    },
    {
      "cell_type": "code",
      "metadata": {
        "colab": {
          "base_uri": "https://localhost:8080/",
          "height": 417
        },
        "id": "3KfCrSatT31C",
        "outputId": "234df096-db3b-4ed2-8a13-4754d4f50551"
      },
      "source": [
        "import plotly.express as px\n",
        "df_cat=pd.DataFrame(by_category)\n",
        "df_cat['category'] = df_cat.index\n",
        "df_cat.columns=['a','b']\n",
        "fig4 = px.bar(df_cat, x=\"b\", y=\"a\",color='a',labels={'b':'Category','a':'Videos/Category'}, height=400)\n",
        "fig4.update_layout({'plot_bgcolor': 'rgba(0, 0, 0, 0)','paper_bgcolor': 'rgba(0, 0, 0, 0)',})"
      ],
      "execution_count": 18,
      "outputs": [
        {
          "output_type": "display_data",
          "data": {
            "text/html": [
              "<html>\n",
              "<head><meta charset=\"utf-8\" /></head>\n",
              "<body>\n",
              "    <div>            <script src=\"https://cdnjs.cloudflare.com/ajax/libs/mathjax/2.7.5/MathJax.js?config=TeX-AMS-MML_SVG\"></script><script type=\"text/javascript\">if (window.MathJax) {MathJax.Hub.Config({SVG: {font: \"STIX-Web\"}});}</script>                <script type=\"text/javascript\">window.PlotlyConfig = {MathJaxConfig: 'local'};</script>\n",
              "        <script src=\"https://cdn.plot.ly/plotly-2.8.3.min.js\"></script>                <div id=\"f6b6466a-5cea-4a15-97c3-312d0597bd5a\" class=\"plotly-graph-div\" style=\"height:400px; width:100%;\"></div>            <script type=\"text/javascript\">                                    window.PLOTLYENV=window.PLOTLYENV || {};                                    if (document.getElementById(\"f6b6466a-5cea-4a15-97c3-312d0597bd5a\")) {                    Plotly.newPlot(                        \"f6b6466a-5cea-4a15-97c3-312d0597bd5a\",                        [{\"alignmentgroup\":\"True\",\"hovertemplate\":\"Category=%{x}<br>Videos/Category=%{marker.color}<extra></extra>\",\"legendgroup\":\"\",\"marker\":{\"color\":[48964,17818,14790,14713,13954,9488,9309,7874,4846,4544,3592,1522,1406,889,485,338,33,2],\"coloraxis\":\"coloraxis\",\"pattern\":{\"shape\":\"\"}},\"name\":\"\",\"offsetgroup\":\"\",\"orientation\":\"v\",\"showlegend\":false,\"textposition\":\"auto\",\"x\":[\"Entertainment\",\"Music\",\"Comedy\",\"News & Politics\",\"People & Blogs\",\"Sports\",\"Howto & Style\",\"Film & Animation\",\"Science & Technology\",\"Education\",\"Gaming\",\"Pets & Animals\",\"Autos & Vehicles\",\"Travel & Events\",\"Shows\",\"Nonprofits & Activism\",\"Movies\",\"Trailers\"],\"xaxis\":\"x\",\"y\":[48964,17818,14790,14713,13954,9488,9309,7874,4846,4544,3592,1522,1406,889,485,338,33,2],\"yaxis\":\"y\",\"type\":\"bar\"}],                        {\"template\":{\"data\":{\"bar\":[{\"error_x\":{\"color\":\"#2a3f5f\"},\"error_y\":{\"color\":\"#2a3f5f\"},\"marker\":{\"line\":{\"color\":\"#E5ECF6\",\"width\":0.5},\"pattern\":{\"fillmode\":\"overlay\",\"size\":10,\"solidity\":0.2}},\"type\":\"bar\"}],\"barpolar\":[{\"marker\":{\"line\":{\"color\":\"#E5ECF6\",\"width\":0.5},\"pattern\":{\"fillmode\":\"overlay\",\"size\":10,\"solidity\":0.2}},\"type\":\"barpolar\"}],\"carpet\":[{\"aaxis\":{\"endlinecolor\":\"#2a3f5f\",\"gridcolor\":\"white\",\"linecolor\":\"white\",\"minorgridcolor\":\"white\",\"startlinecolor\":\"#2a3f5f\"},\"baxis\":{\"endlinecolor\":\"#2a3f5f\",\"gridcolor\":\"white\",\"linecolor\":\"white\",\"minorgridcolor\":\"white\",\"startlinecolor\":\"#2a3f5f\"},\"type\":\"carpet\"}],\"choropleth\":[{\"colorbar\":{\"outlinewidth\":0,\"ticks\":\"\"},\"type\":\"choropleth\"}],\"contour\":[{\"colorbar\":{\"outlinewidth\":0,\"ticks\":\"\"},\"colorscale\":[[0.0,\"#0d0887\"],[0.1111111111111111,\"#46039f\"],[0.2222222222222222,\"#7201a8\"],[0.3333333333333333,\"#9c179e\"],[0.4444444444444444,\"#bd3786\"],[0.5555555555555556,\"#d8576b\"],[0.6666666666666666,\"#ed7953\"],[0.7777777777777778,\"#fb9f3a\"],[0.8888888888888888,\"#fdca26\"],[1.0,\"#f0f921\"]],\"type\":\"contour\"}],\"contourcarpet\":[{\"colorbar\":{\"outlinewidth\":0,\"ticks\":\"\"},\"type\":\"contourcarpet\"}],\"heatmap\":[{\"colorbar\":{\"outlinewidth\":0,\"ticks\":\"\"},\"colorscale\":[[0.0,\"#0d0887\"],[0.1111111111111111,\"#46039f\"],[0.2222222222222222,\"#7201a8\"],[0.3333333333333333,\"#9c179e\"],[0.4444444444444444,\"#bd3786\"],[0.5555555555555556,\"#d8576b\"],[0.6666666666666666,\"#ed7953\"],[0.7777777777777778,\"#fb9f3a\"],[0.8888888888888888,\"#fdca26\"],[1.0,\"#f0f921\"]],\"type\":\"heatmap\"}],\"heatmapgl\":[{\"colorbar\":{\"outlinewidth\":0,\"ticks\":\"\"},\"colorscale\":[[0.0,\"#0d0887\"],[0.1111111111111111,\"#46039f\"],[0.2222222222222222,\"#7201a8\"],[0.3333333333333333,\"#9c179e\"],[0.4444444444444444,\"#bd3786\"],[0.5555555555555556,\"#d8576b\"],[0.6666666666666666,\"#ed7953\"],[0.7777777777777778,\"#fb9f3a\"],[0.8888888888888888,\"#fdca26\"],[1.0,\"#f0f921\"]],\"type\":\"heatmapgl\"}],\"histogram\":[{\"marker\":{\"pattern\":{\"fillmode\":\"overlay\",\"size\":10,\"solidity\":0.2}},\"type\":\"histogram\"}],\"histogram2d\":[{\"colorbar\":{\"outlinewidth\":0,\"ticks\":\"\"},\"colorscale\":[[0.0,\"#0d0887\"],[0.1111111111111111,\"#46039f\"],[0.2222222222222222,\"#7201a8\"],[0.3333333333333333,\"#9c179e\"],[0.4444444444444444,\"#bd3786\"],[0.5555555555555556,\"#d8576b\"],[0.6666666666666666,\"#ed7953\"],[0.7777777777777778,\"#fb9f3a\"],[0.8888888888888888,\"#fdca26\"],[1.0,\"#f0f921\"]],\"type\":\"histogram2d\"}],\"histogram2dcontour\":[{\"colorbar\":{\"outlinewidth\":0,\"ticks\":\"\"},\"colorscale\":[[0.0,\"#0d0887\"],[0.1111111111111111,\"#46039f\"],[0.2222222222222222,\"#7201a8\"],[0.3333333333333333,\"#9c179e\"],[0.4444444444444444,\"#bd3786\"],[0.5555555555555556,\"#d8576b\"],[0.6666666666666666,\"#ed7953\"],[0.7777777777777778,\"#fb9f3a\"],[0.8888888888888888,\"#fdca26\"],[1.0,\"#f0f921\"]],\"type\":\"histogram2dcontour\"}],\"mesh3d\":[{\"colorbar\":{\"outlinewidth\":0,\"ticks\":\"\"},\"type\":\"mesh3d\"}],\"parcoords\":[{\"line\":{\"colorbar\":{\"outlinewidth\":0,\"ticks\":\"\"}},\"type\":\"parcoords\"}],\"pie\":[{\"automargin\":true,\"type\":\"pie\"}],\"scatter\":[{\"marker\":{\"colorbar\":{\"outlinewidth\":0,\"ticks\":\"\"}},\"type\":\"scatter\"}],\"scatter3d\":[{\"line\":{\"colorbar\":{\"outlinewidth\":0,\"ticks\":\"\"}},\"marker\":{\"colorbar\":{\"outlinewidth\":0,\"ticks\":\"\"}},\"type\":\"scatter3d\"}],\"scattercarpet\":[{\"marker\":{\"colorbar\":{\"outlinewidth\":0,\"ticks\":\"\"}},\"type\":\"scattercarpet\"}],\"scattergeo\":[{\"marker\":{\"colorbar\":{\"outlinewidth\":0,\"ticks\":\"\"}},\"type\":\"scattergeo\"}],\"scattergl\":[{\"marker\":{\"colorbar\":{\"outlinewidth\":0,\"ticks\":\"\"}},\"type\":\"scattergl\"}],\"scattermapbox\":[{\"marker\":{\"colorbar\":{\"outlinewidth\":0,\"ticks\":\"\"}},\"type\":\"scattermapbox\"}],\"scatterpolar\":[{\"marker\":{\"colorbar\":{\"outlinewidth\":0,\"ticks\":\"\"}},\"type\":\"scatterpolar\"}],\"scatterpolargl\":[{\"marker\":{\"colorbar\":{\"outlinewidth\":0,\"ticks\":\"\"}},\"type\":\"scatterpolargl\"}],\"scatterternary\":[{\"marker\":{\"colorbar\":{\"outlinewidth\":0,\"ticks\":\"\"}},\"type\":\"scatterternary\"}],\"surface\":[{\"colorbar\":{\"outlinewidth\":0,\"ticks\":\"\"},\"colorscale\":[[0.0,\"#0d0887\"],[0.1111111111111111,\"#46039f\"],[0.2222222222222222,\"#7201a8\"],[0.3333333333333333,\"#9c179e\"],[0.4444444444444444,\"#bd3786\"],[0.5555555555555556,\"#d8576b\"],[0.6666666666666666,\"#ed7953\"],[0.7777777777777778,\"#fb9f3a\"],[0.8888888888888888,\"#fdca26\"],[1.0,\"#f0f921\"]],\"type\":\"surface\"}],\"table\":[{\"cells\":{\"fill\":{\"color\":\"#EBF0F8\"},\"line\":{\"color\":\"white\"}},\"header\":{\"fill\":{\"color\":\"#C8D4E3\"},\"line\":{\"color\":\"white\"}},\"type\":\"table\"}]},\"layout\":{\"annotationdefaults\":{\"arrowcolor\":\"#2a3f5f\",\"arrowhead\":0,\"arrowwidth\":1},\"autotypenumbers\":\"strict\",\"coloraxis\":{\"colorbar\":{\"outlinewidth\":0,\"ticks\":\"\"}},\"colorscale\":{\"diverging\":[[0,\"#8e0152\"],[0.1,\"#c51b7d\"],[0.2,\"#de77ae\"],[0.3,\"#f1b6da\"],[0.4,\"#fde0ef\"],[0.5,\"#f7f7f7\"],[0.6,\"#e6f5d0\"],[0.7,\"#b8e186\"],[0.8,\"#7fbc41\"],[0.9,\"#4d9221\"],[1,\"#276419\"]],\"sequential\":[[0.0,\"#0d0887\"],[0.1111111111111111,\"#46039f\"],[0.2222222222222222,\"#7201a8\"],[0.3333333333333333,\"#9c179e\"],[0.4444444444444444,\"#bd3786\"],[0.5555555555555556,\"#d8576b\"],[0.6666666666666666,\"#ed7953\"],[0.7777777777777778,\"#fb9f3a\"],[0.8888888888888888,\"#fdca26\"],[1.0,\"#f0f921\"]],\"sequentialminus\":[[0.0,\"#0d0887\"],[0.1111111111111111,\"#46039f\"],[0.2222222222222222,\"#7201a8\"],[0.3333333333333333,\"#9c179e\"],[0.4444444444444444,\"#bd3786\"],[0.5555555555555556,\"#d8576b\"],[0.6666666666666666,\"#ed7953\"],[0.7777777777777778,\"#fb9f3a\"],[0.8888888888888888,\"#fdca26\"],[1.0,\"#f0f921\"]]},\"colorway\":[\"#636efa\",\"#EF553B\",\"#00cc96\",\"#ab63fa\",\"#FFA15A\",\"#19d3f3\",\"#FF6692\",\"#B6E880\",\"#FF97FF\",\"#FECB52\"],\"font\":{\"color\":\"#2a3f5f\"},\"geo\":{\"bgcolor\":\"white\",\"lakecolor\":\"white\",\"landcolor\":\"#E5ECF6\",\"showlakes\":true,\"showland\":true,\"subunitcolor\":\"white\"},\"hoverlabel\":{\"align\":\"left\"},\"hovermode\":\"closest\",\"mapbox\":{\"style\":\"light\"},\"paper_bgcolor\":\"white\",\"plot_bgcolor\":\"#E5ECF6\",\"polar\":{\"angularaxis\":{\"gridcolor\":\"white\",\"linecolor\":\"white\",\"ticks\":\"\"},\"bgcolor\":\"#E5ECF6\",\"radialaxis\":{\"gridcolor\":\"white\",\"linecolor\":\"white\",\"ticks\":\"\"}},\"scene\":{\"xaxis\":{\"backgroundcolor\":\"#E5ECF6\",\"gridcolor\":\"white\",\"gridwidth\":2,\"linecolor\":\"white\",\"showbackground\":true,\"ticks\":\"\",\"zerolinecolor\":\"white\"},\"yaxis\":{\"backgroundcolor\":\"#E5ECF6\",\"gridcolor\":\"white\",\"gridwidth\":2,\"linecolor\":\"white\",\"showbackground\":true,\"ticks\":\"\",\"zerolinecolor\":\"white\"},\"zaxis\":{\"backgroundcolor\":\"#E5ECF6\",\"gridcolor\":\"white\",\"gridwidth\":2,\"linecolor\":\"white\",\"showbackground\":true,\"ticks\":\"\",\"zerolinecolor\":\"white\"}},\"shapedefaults\":{\"line\":{\"color\":\"#2a3f5f\"}},\"ternary\":{\"aaxis\":{\"gridcolor\":\"white\",\"linecolor\":\"white\",\"ticks\":\"\"},\"baxis\":{\"gridcolor\":\"white\",\"linecolor\":\"white\",\"ticks\":\"\"},\"bgcolor\":\"#E5ECF6\",\"caxis\":{\"gridcolor\":\"white\",\"linecolor\":\"white\",\"ticks\":\"\"}},\"title\":{\"x\":0.05},\"xaxis\":{\"automargin\":true,\"gridcolor\":\"white\",\"linecolor\":\"white\",\"ticks\":\"\",\"title\":{\"standoff\":15},\"zerolinecolor\":\"white\",\"zerolinewidth\":2},\"yaxis\":{\"automargin\":true,\"gridcolor\":\"white\",\"linecolor\":\"white\",\"ticks\":\"\",\"title\":{\"standoff\":15},\"zerolinecolor\":\"white\",\"zerolinewidth\":2}}},\"xaxis\":{\"anchor\":\"y\",\"domain\":[0.0,1.0],\"title\":{\"text\":\"Category\"}},\"yaxis\":{\"anchor\":\"x\",\"domain\":[0.0,1.0],\"title\":{\"text\":\"Videos/Category\"}},\"coloraxis\":{\"colorbar\":{\"title\":{\"text\":\"Videos/Category\"}},\"colorscale\":[[0.0,\"#0d0887\"],[0.1111111111111111,\"#46039f\"],[0.2222222222222222,\"#7201a8\"],[0.3333333333333333,\"#9c179e\"],[0.4444444444444444,\"#bd3786\"],[0.5555555555555556,\"#d8576b\"],[0.6666666666666666,\"#ed7953\"],[0.7777777777777778,\"#fb9f3a\"],[0.8888888888888888,\"#fdca26\"],[1.0,\"#f0f921\"]]},\"legend\":{\"tracegroupgap\":0},\"margin\":{\"t\":60},\"barmode\":\"relative\",\"height\":400,\"plot_bgcolor\":\"rgba(0, 0, 0, 0)\",\"paper_bgcolor\":\"rgba(0, 0, 0, 0)\"},                        {\"responsive\": true}                    ).then(function(){\n",
              "                            \n",
              "var gd = document.getElementById('f6b6466a-5cea-4a15-97c3-312d0597bd5a');\n",
              "var x = new MutationObserver(function (mutations, observer) {{\n",
              "        var display = window.getComputedStyle(gd).display;\n",
              "        if (!display || display === 'none') {{\n",
              "            console.log([gd, 'removed!']);\n",
              "            Plotly.purge(gd);\n",
              "            observer.disconnect();\n",
              "        }}\n",
              "}});\n",
              "\n",
              "// Listen for the removal of the full notebook cells\n",
              "var notebookContainer = gd.closest('#notebook-container');\n",
              "if (notebookContainer) {{\n",
              "    x.observe(notebookContainer, {childList: true});\n",
              "}}\n",
              "\n",
              "// Listen for the clearing of the current output cell\n",
              "var outputEl = gd.closest('.output');\n",
              "if (outputEl) {{\n",
              "    x.observe(outputEl, {childList: true});\n",
              "}}\n",
              "\n",
              "                        })                };                            </script>        </div>\n",
              "</body>\n",
              "</html>"
            ]
          },
          "metadata": {}
        }
      ]
    },
    {
      "cell_type": "code",
      "metadata": {
        "colab": {
          "base_uri": "https://localhost:8080/",
          "height": 759
        },
        "id": "pHjiLd2a-Jgu",
        "outputId": "3644651b-0a28-4950-febc-ab8723a75fd4"
      },
      "source": [
        "##2-Distribution of views against categories, using boxplot and views on log scale\n",
        "fig, ax = pyplot.subplots(figsize=(15,10))\n",
        "sns.boxplot(x=\"category\", y=\"views_log\", data=combined_data[['category','views_log']]),plt.xticks(rotation = 45)\n",
        "ax.set_title(\"Distribution of Views against Categories\",fontsize=20),ax.set_xlabel('Video Category',fontsize=15),ax.set_ylabel(ylabel='View Logs',fontsize=15)          \n",
        "# #To close the warning\n",
        "# fill with colors"
      ],
      "execution_count": 19,
      "outputs": [
        {
          "output_type": "execute_result",
          "data": {
            "text/plain": [
              "(Text(0.5, 1.0, 'Distribution of Views against Categories'),\n",
              " Text(0.5, 0, 'Video Category'),\n",
              " Text(0, 0.5, 'View Logs'))"
            ]
          },
          "metadata": {},
          "execution_count": 19
        },
        {
          "output_type": "display_data",
          "data": {
            "text/plain": [
              "<Figure size 1080x720 with 1 Axes>"
            ],
            "image/png": "[encoded data removed]"
          },
          "metadata": {
            "needs_background": "light"
          }
        }
      ]
    },
    {
      "cell_type": "code",
      "metadata": {
        "colab": {
          "base_uri": "https://localhost:8080/",
          "height": 759
        },
        "id": "IZ4RDFye-PrR",
        "outputId": "7b27613a-8e3a-44bd-db9e-2fe668b1ca18"
      },
      "source": [
        "##3-Distribution of dislikes against categories, Using boxplot and dislikes on log scale\n",
        "fig, ax = pyplot.subplots(figsize=(15,10))\n",
        "sns.boxplot(x=\"category\", y=\"dislikes_log\", data=combined_data[['category','dislikes_log']]),plt.xticks(rotation = 45)\n",
        "ax.set_title(\"Distribution of Dislikes against Categories\",fontsize=20),ax.set_xlabel('Video Category',fontsize=15),ax.set_ylabel(ylabel='Dislike Logs',fontsize=15)  \n"
      ],
      "execution_count": 20,
      "outputs": [
        {
          "output_type": "execute_result",
          "data": {
            "text/plain": [
              "(Text(0.5, 1.0, 'Distribution of Dislikes against Categories'),\n",
              " Text(0.5, 0, 'Video Category'),\n",
              " Text(0, 0.5, 'Dislike Logs'))"
            ]
          },
          "metadata": {},
          "execution_count": 20
        },
        {
          "output_type": "display_data",
          "data": {
            "text/plain": [
              "<Figure size 1080x720 with 1 Axes>"
            ],
            "image/png": "[encoded data removed]"
          },
          "metadata": {
            "needs_background": "light"
          }
        }
      ]
    },
    {
      "cell_type": "code",
      "metadata": {
        "id": "y8PhjR_duC_L"
      },
      "source": [
        "#How long does a video trend in a country?\n",
        "#What are some videos which got popular because they were disliked?"
      ],
      "execution_count": 21,
      "outputs": []
    },
    {
      "cell_type": "markdown",
      "metadata": {
        "id": "6QXEF6oTA2t1"
      },
      "source": [
        "**How long does a video trend in a country?**"
      ]
    },
    {
      "cell_type": "code",
      "metadata": {
        "colab": {
          "base_uri": "https://localhost:8080/",
          "height": 498
        },
        "id": "CEsFWhHGuCsP",
        "outputId": "d10673ee-ef6f-4f31-b1e1-c9de05d1fad4"
      },
      "source": [
        "df=combined_data.drop_duplicates()\n",
        "df1=df.groupby(['title','country']).size().reset_index(name='count')\n",
        "trending=df1.groupby('country')['count'].mean().to_frame().reset_index().rename(columns={\"country\": \"Country\", \"count\": \"Mean Trinding days\"})\n",
        "\n",
        "fig, ax = pyplot.subplots(figsize=(10, 7)),sns.set(font_scale=1.5)\n",
        "sns.barplot(x=\"Country\", y=\"Mean Trinding days\", data=trending,ax=ax),plt.title('Number of Mean Video Trending in Each Country ',color='Blue')"
      ],
      "execution_count": 22,
      "outputs": [
        {
          "output_type": "execute_result",
          "data": {
            "text/plain": [
              "(<AxesSubplot:title={'center':'Number of Mean Video Trending in Each Country '}, xlabel='Country', ylabel='Mean Trinding days'>,\n",
              " Text(0.5, 1.0, 'Number of Mean Video Trending in Each Country '))"
            ]
          },
          "metadata": {},
          "execution_count": 22
        },
        {
          "output_type": "display_data",
          "data": {
            "text/plain": [
              "<Figure size 720x504 with 1 Axes>"
            ],
            "image/png": "[encoded data removed]"
          },
          "metadata": {
            "needs_background": "light"
          }
        }
      ]
    },
    {
      "cell_type": "markdown",
      "metadata": {
        "id": "tkDLuxGaBFGv"
      },
      "source": [
        "**What are some videos which got popular because they were disliked?**"
      ]
    },
    {
      "cell_type": "code",
      "metadata": {
        "colab": {
          "base_uri": "https://localhost:8080/"
        },
        "id": "RoHi1dx2BEoT",
        "outputId": "e8ce5ad3-91c0-45f2-fa82-3f9519e69c1b"
      },
      "source": [
        "df2=df.groupby(['title','dislikes','likes']).size().reset_index(name='Trend_Days')\n",
        "trending_dislikes=df2.loc[(df2['dislikes'] > df2['likes']) & (df2['Trend_Days'] >= 3)] #Videos which got trends and have dislikes more than likes#\n",
        "trending_dislikes=trending_dislikes.sort_values(['Trend_Days'],ascending=[ False])\n",
        "print('Videos which got popular because they were disliked: \\n \\n',trending_dislikes.title.to_string(index=False))"
      ],
      "execution_count": 23,
      "outputs": [
        {
          "output_type": "stream",
          "name": "stdout",
          "text": [
            "Videos which got popular because they were disliked: \n",
            " \n",
            " Jeffrey Tambor Fired From 'Transparent' Followi...\n",
            "5 Things You Missed at the 2018 SAG Awards | E!...\n",
            "Fergie Performs The U.S. National Anthem / 2018...\n",
            "                        Staudt on Sports I 1-22-18\n",
            "         WATCH: Sen. Mitch McConnell on tax reform\n",
            "                               二贵摔跤 - tienghoa.net\n"
          ]
        }
      ]
    },
    {
      "cell_type": "markdown",
      "metadata": {
        "id": "a9l7UZPoGBcB"
      },
      "source": [
        "#### 5.2.5: Feature Engineering (8 pts)\n"
      ]
    },
    {
      "cell_type": "markdown",
      "metadata": {
        "id": "bUSsAlnaI4Ep"
      },
      "source": [
        "\n",
        "##### a. Processing tags (1 pt)\n",
        "\n",
        "The feature tags in the dataset has a delimiter, use that delimiter to count the number of tags, create a feature called num_tags and add that to the dataset."
      ]
    },
    {
      "cell_type": "code",
      "metadata": {
        "colab": {
          "base_uri": "https://localhost:8080/",
          "height": 1000
        },
        "id": "4L_6WcapHPDl",
        "outputId": "c26c69ff-305c-404a-a6d3-d8aede5666ca"
      },
      "source": [
        "# Add your code here\n",
        "num_tags=[]\n",
        "xdf=combined_data.reset_index(drop=True)\n",
        "for i in range(len(combined_data)):\n",
        "  if xdf.at[i,'tags']=='[none]': #some videos has no tags but instead [none], so we are going to consider it as Zero tags.\n",
        "    count=0\n",
        "  else:\n",
        "    count=(xdf.at[i,'tags']).count(\"|\") + 1 \n",
        "  num_tags.append(count)\n",
        "combined_data['num_tags']=num_tags\n",
        "combined_data\n"
      ],
      "execution_count": 24,
      "outputs": [
        {
          "output_type": "execute_result",
          "data": {
            "text/plain": [
              "            trending_date                                              title  \\\n",
              "video_id                                                                       \n",
              "kzwfHumJyYc    2017-11-14  Sharry Mann: Cute Munda ( Song Teaser) | Parmi...   \n",
              "zUZ1z7FwLc8    2017-11-14  पीरियड्स के समय, पेट पर पति करता ऐसा, देखकर दं...   \n",
              "10L1hZ9qa58    2017-11-14  Stylish Star Allu Arjun @ ChaySam Wedding Rece...   \n",
              "N1vE8iiEg64    2017-11-14                     Eruma Saani | Tamil vs English   \n",
              "kJzGH0PVQHQ    2017-11-14  why Samantha became EMOTIONAL @ Samantha naga ...   \n",
              "...                   ...                                                ...   \n",
              "1PhPYr_9zRY    2018-06-14  BTS Plays With Puppies While Answering Fan Que...   \n",
              "BZt0qjTWNhw    2018-06-14                       The Cat Who Caught the Laser   \n",
              "D6Oy4LfoqsU    2018-06-14  I GAVE SAFIYA NYGAARD A PERFECT HAIR MAKEOVER ...   \n",
              "oV0zkMe1K8s    2018-06-14                How Black Panther Should Have Ended   \n",
              "ooyjaVdt-jA    2018-06-14  Official Call of Duty®: Black Ops 4 — Multipla...   \n",
              "\n",
              "                        channel_title category_id        publish_time  \\\n",
              "video_id                                                                \n",
              "kzwfHumJyYc           Lokdhun Punjabi           1 2017-11-12 12:20:39   \n",
              "zUZ1z7FwLc8                   HJ NEWS          25 2017-11-13 05:43:56   \n",
              "10L1hZ9qa58                      TFPC          24 2017-11-12 15:48:08   \n",
              "N1vE8iiEg64               Eruma Saani          23 2017-11-12 07:08:48   \n",
              "kJzGH0PVQHQ                Filmylooks          24 2017-11-13 01:14:16   \n",
              "...                               ...         ...                 ...   \n",
              "1PhPYr_9zRY            BuzzFeed Celeb          22 2018-05-18 16:39:29   \n",
              "BZt0qjTWNhw             AaronsAnimals          15 2018-05-18 13:00:04   \n",
              "D6Oy4LfoqsU                Brad Mondo          24 2018-05-18 17:34:22   \n",
              "oV0zkMe1K8s  How It Should Have Ended           1 2018-05-17 17:00:04   \n",
              "ooyjaVdt-jA              Call of Duty          20 2018-05-17 17:09:38   \n",
              "\n",
              "                                                          tags     views  \\\n",
              "video_id                                                                   \n",
              "kzwfHumJyYc  sharry mann|\"sharry mann new song\"|\"sharry man...   1096327   \n",
              "zUZ1z7FwLc8  पीरियड्स के समय|\"पेट पर पति करता ऐसा\"|\"देखकर द...    590101   \n",
              "10L1hZ9qa58  Stylish Star Allu Arjun @ ChaySam Wedding Rece...    473988   \n",
              "N1vE8iiEg64  Eruma Saani|\"Tamil Comedy Videos\"|\"Films\"|\"Mov...   1242680   \n",
              "kJzGH0PVQHQ  Filmylooks|\"latest news\"|\"telugu movies\"|\"telu...    464015   \n",
              "...                                                        ...       ...   \n",
              "1PhPYr_9zRY  BuzzFeed|\"BuzzFeedVideo\"|\"Puppy Interview\"|\"pu...   8259128   \n",
              "BZt0qjTWNhw  aarons animals|\"aarons\"|\"animals\"|\"cat\"|\"cats\"...   1685609   \n",
              "D6Oy4LfoqsU  I gave safiya nygaard a perfect hair makeover ...   1066451   \n",
              "oV0zkMe1K8s  Black Panther|\"HISHE\"|\"Marvel\"|\"Infinity War\"|...   5660813   \n",
              "ooyjaVdt-jA      call of duty|\"cod\"|\"activision\"|\"Black Ops 4\"  10306119   \n",
              "\n",
              "              likes  dislikes  comment_count  ... ratings_disabled  \\\n",
              "video_id                                      ...                    \n",
              "kzwfHumJyYc   33966       798            882  ...            False   \n",
              "zUZ1z7FwLc8     735       904              0  ...            False   \n",
              "10L1hZ9qa58    2011       243            149  ...            False   \n",
              "N1vE8iiEg64   70353      1624           2684  ...            False   \n",
              "kJzGH0PVQHQ     492       293             66  ...            False   \n",
              "...             ...       ...            ...  ...              ...   \n",
              "1PhPYr_9zRY  645888      4052          62610  ...            False   \n",
              "BZt0qjTWNhw   38160      1385           2657  ...            False   \n",
              "D6Oy4LfoqsU   48068      1032           3992  ...            False   \n",
              "oV0zkMe1K8s  192957      2846          13088  ...            False   \n",
              "ooyjaVdt-jA  357079    212976         144795  ...            False   \n",
              "\n",
              "             video_error_or_removed  \\\n",
              "video_id                              \n",
              "kzwfHumJyYc                   False   \n",
              "zUZ1z7FwLc8                   False   \n",
              "10L1hZ9qa58                   False   \n",
              "N1vE8iiEg64                   False   \n",
              "kJzGH0PVQHQ                   False   \n",
              "...                             ...   \n",
              "1PhPYr_9zRY                   False   \n",
              "BZt0qjTWNhw                   False   \n",
              "D6Oy4LfoqsU                   False   \n",
              "oV0zkMe1K8s                   False   \n",
              "ooyjaVdt-jA                   False   \n",
              "\n",
              "                                                   description  country  \\\n",
              "video_id                                                                  \n",
              "kzwfHumJyYc  Presenting Sharry Mann latest Punjabi Song  Cu...       IN   \n",
              "zUZ1z7FwLc8  पीरियड्स के समय, पेट पर पति करता ऐसा, देखकर दं...       IN   \n",
              "10L1hZ9qa58  Watch Stylish Star Allu Arjun @ ChaySam Weddin...       IN   \n",
              "N1vE8iiEg64  This video showcases the difference between pe...       IN   \n",
              "kJzGH0PVQHQ  why Samantha became EMOTIONAL @ Samantha naga ...       IN   \n",
              "...                                                        ...      ...   \n",
              "1PhPYr_9zRY  BTS with the PPS, the puppies. These adorable ...       US   \n",
              "BZt0qjTWNhw     The Cat Who Caught the Laser - Aaron's Animals       US   \n",
              "D6Oy4LfoqsU  I had so much fun transforming Safiyas hair in...       US   \n",
              "oV0zkMe1K8s  How Black Panther Should Have EndedWatch More ...       US   \n",
              "ooyjaVdt-jA  Call of Duty: Black Ops 4 Multiplayer raises t...       US   \n",
              "\n",
              "                     category  likes_log  views_log  dislikes_log  \\\n",
              "video_id                                                            \n",
              "kzwfHumJyYc  Film & Animation  10.433145  13.907477      6.683361   \n",
              "zUZ1z7FwLc8   News & Politics   6.601230  13.288051      6.807935   \n",
              "10L1hZ9qa58     Entertainment   7.606885  13.068939      5.497168   \n",
              "N1vE8iiEg64            Comedy  11.161295  14.032782      7.393263   \n",
              "kJzGH0PVQHQ     Entertainment   6.200509  13.047674      5.683580   \n",
              "...                       ...        ...        ...           ...   \n",
              "1PhPYr_9zRY    People & Blogs  13.378383  15.926830      8.307213   \n",
              "BZt0qjTWNhw    Pets & Animals  10.549569  14.337638      7.234177   \n",
              "D6Oy4LfoqsU     Entertainment  10.780393  13.879848      6.940222   \n",
              "oV0zkMe1K8s  Film & Animation  12.170228  15.549078      7.954021   \n",
              "ooyjaVdt-jA            Gaming  12.785715  16.148248     12.268939   \n",
              "\n",
              "             comment_log  num_tags  \n",
              "video_id                            \n",
              "kzwfHumJyYc     6.783325        15  \n",
              "zUZ1z7FwLc8     0.000000        19  \n",
              "10L1hZ9qa58     5.010635        14  \n",
              "N1vE8iiEg64     7.895436        20  \n",
              "kJzGH0PVQHQ     4.204693        11  \n",
              "...                  ...       ...  \n",
              "1PhPYr_9zRY    11.044696        27  \n",
              "BZt0qjTWNhw     7.885329        14  \n",
              "D6Oy4LfoqsU     8.292298        24  \n",
              "oV0zkMe1K8s     9.479527        22  \n",
              "ooyjaVdt-jA    11.883081         4  \n",
              "\n",
              "[154567 rows x 22 columns]"
            ],
            "text/html": [
              "\n",
              "  <div id=\"df-3d1895a6-61f2-45ac-af67-08a7238d42e0\">\n",
              "    <div class=\"colab-df-container\">\n",
              "      <div>\n",
              "<style scoped>\n",
              "    .dataframe tbody tr th:only-of-type {\n",
              "        vertical-align: middle;\n",
              "    }\n",
              "\n",
              "    .dataframe tbody tr th {\n",
              "        vertical-align: top;\n",
              "    }\n",
              "\n",
              "    .dataframe thead th {\n",
              "        text-align: right;\n",
              "    }\n",
              "</style>\n",
              "<table border=\"1\" class=\"dataframe\">\n",
              "  <thead>\n",
              "    <tr style=\"text-align: right;\">\n",
              "      <th></th>\n",
              "      <th>trending_date</th>\n",
              "      <th>title</th>\n",
              "      <th>channel_title</th>\n",
              "      <th>category_id</th>\n",
              "      <th>publish_time</th>\n",
              "      <th>tags</th>\n",
              "      <th>views</th>\n",
              "      <th>likes</th>\n",
              "      <th>dislikes</th>\n",
              "      <th>comment_count</th>\n",
              "      <th>...</th>\n",
              "      <th>ratings_disabled</th>\n",
              "      <th>video_error_or_removed</th>\n",
              "      <th>description</th>\n",
              "      <th>country</th>\n",
              "      <th>category</th>\n",
              "      <th>likes_log</th>\n",
              "      <th>views_log</th>\n",
              "      <th>dislikes_log</th>\n",
              "      <th>comment_log</th>\n",
              "      <th>num_tags</th>\n",
              "    </tr>\n",
              "    <tr>\n",
              "      <th>video_id</th>\n",
              "      <th></th>\n",
              "      <th></th>\n",
              "      <th></th>\n",
              "      <th></th>\n",
              "      <th></th>\n",
              "      <th></th>\n",
              "      <th></th>\n",
              "      <th></th>\n",
              "      <th></th>\n",
              "      <th></th>\n",
              "      <th></th>\n",
              "      <th></th>\n",
              "      <th></th>\n",
              "      <th></th>\n",
              "      <th></th>\n",
              "      <th></th>\n",
              "      <th></th>\n",
              "      <th></th>\n",
              "      <th></th>\n",
              "      <th></th>\n",
              "      <th></th>\n",
              "    </tr>\n",
              "  </thead>\n",
              "  <tbody>\n",
              "    <tr>\n",
              "      <th>kzwfHumJyYc</th>\n",
              "      <td>2017-11-14</td>\n",
              "      <td>Sharry Mann: Cute Munda ( Song Teaser) | Parmi...</td>\n",
              "      <td>Lokdhun Punjabi</td>\n",
              "      <td>1</td>\n",
              "      <td>2017-11-12 12:20:39</td>\n",
              "      <td>sharry mann|\"sharry mann new song\"|\"sharry man...</td>\n",
              "      <td>1096327</td>\n",
              "      <td>33966</td>\n",
              "      <td>798</td>\n",
              "      <td>882</td>\n",
              "      <td>...</td>\n",
              "      <td>False</td>\n",
              "      <td>False</td>\n",
              "      <td>Presenting Sharry Mann latest Punjabi Song  Cu...</td>\n",
              "      <td>IN</td>\n",
              "      <td>Film &amp; Animation</td>\n",
              "      <td>10.433145</td>\n",
              "      <td>13.907477</td>\n",
              "      <td>6.683361</td>\n",
              "      <td>6.783325</td>\n",
              "      <td>15</td>\n",
              "    </tr>\n",
              "    <tr>\n",
              "      <th>zUZ1z7FwLc8</th>\n",
              "      <td>2017-11-14</td>\n",
              "      <td>पीरियड्स के समय, पेट पर पति करता ऐसा, देखकर दं...</td>\n",
              "      <td>HJ NEWS</td>\n",
              "      <td>25</td>\n",
              "      <td>2017-11-13 05:43:56</td>\n",
              "      <td>पीरियड्स के समय|\"पेट पर पति करता ऐसा\"|\"देखकर द...</td>\n",
              "      <td>590101</td>\n",
              "      <td>735</td>\n",
              "      <td>904</td>\n",
              "      <td>0</td>\n",
              "      <td>...</td>\n",
              "      <td>False</td>\n",
              "      <td>False</td>\n",
              "      <td>पीरियड्स के समय, पेट पर पति करता ऐसा, देखकर दं...</td>\n",
              "      <td>IN</td>\n",
              "      <td>News &amp; Politics</td>\n",
              "      <td>6.601230</td>\n",
              "      <td>13.288051</td>\n",
              "      <td>6.807935</td>\n",
              "      <td>0.000000</td>\n",
              "      <td>19</td>\n",
              "    </tr>\n",
              "    <tr>\n",
              "      <th>10L1hZ9qa58</th>\n",
              "      <td>2017-11-14</td>\n",
              "      <td>Stylish Star Allu Arjun @ ChaySam Wedding Rece...</td>\n",
              "      <td>TFPC</td>\n",
              "      <td>24</td>\n",
              "      <td>2017-11-12 15:48:08</td>\n",
              "      <td>Stylish Star Allu Arjun @ ChaySam Wedding Rece...</td>\n",
              "      <td>473988</td>\n",
              "      <td>2011</td>\n",
              "      <td>243</td>\n",
              "      <td>149</td>\n",
              "      <td>...</td>\n",
              "      <td>False</td>\n",
              "      <td>False</td>\n",
              "      <td>Watch Stylish Star Allu Arjun @ ChaySam Weddin...</td>\n",
              "      <td>IN</td>\n",
              "      <td>Entertainment</td>\n",
              "      <td>7.606885</td>\n",
              "      <td>13.068939</td>\n",
              "      <td>5.497168</td>\n",
              "      <td>5.010635</td>\n",
              "      <td>14</td>\n",
              "    </tr>\n",
              "    <tr>\n",
              "      <th>N1vE8iiEg64</th>\n",
              "      <td>2017-11-14</td>\n",
              "      <td>Eruma Saani | Tamil vs English</td>\n",
              "      <td>Eruma Saani</td>\n",
              "      <td>23</td>\n",
              "      <td>2017-11-12 07:08:48</td>\n",
              "      <td>Eruma Saani|\"Tamil Comedy Videos\"|\"Films\"|\"Mov...</td>\n",
              "      <td>1242680</td>\n",
              "      <td>70353</td>\n",
              "      <td>1624</td>\n",
              "      <td>2684</td>\n",
              "      <td>...</td>\n",
              "      <td>False</td>\n",
              "      <td>False</td>\n",
              "      <td>This video showcases the difference between pe...</td>\n",
              "      <td>IN</td>\n",
              "      <td>Comedy</td>\n",
              "      <td>11.161295</td>\n",
              "      <td>14.032782</td>\n",
              "      <td>7.393263</td>\n",
              "      <td>7.895436</td>\n",
              "      <td>20</td>\n",
              "    </tr>\n",
              "    <tr>\n",
              "      <th>kJzGH0PVQHQ</th>\n",
              "      <td>2017-11-14</td>\n",
              "      <td>why Samantha became EMOTIONAL @ Samantha naga ...</td>\n",
              "      <td>Filmylooks</td>\n",
              "      <td>24</td>\n",
              "      <td>2017-11-13 01:14:16</td>\n",
              "      <td>Filmylooks|\"latest news\"|\"telugu movies\"|\"telu...</td>\n",
              "      <td>464015</td>\n",
              "      <td>492</td>\n",
              "      <td>293</td>\n",
              "      <td>66</td>\n",
              "      <td>...</td>\n",
              "      <td>False</td>\n",
              "      <td>False</td>\n",
              "      <td>why Samantha became EMOTIONAL @ Samantha naga ...</td>\n",
              "      <td>IN</td>\n",
              "      <td>Entertainment</td>\n",
              "      <td>6.200509</td>\n",
              "      <td>13.047674</td>\n",
              "      <td>5.683580</td>\n",
              "      <td>4.204693</td>\n",
              "      <td>11</td>\n",
              "    </tr>\n",
              "    <tr>\n",
              "      <th>...</th>\n",
              "      <td>...</td>\n",
              "      <td>...</td>\n",
              "      <td>...</td>\n",
              "      <td>...</td>\n",
              "      <td>...</td>\n",
              "      <td>...</td>\n",
              "      <td>...</td>\n",
              "      <td>...</td>\n",
              "      <td>...</td>\n",
              "      <td>...</td>\n",
              "      <td>...</td>\n",
              "      <td>...</td>\n",
              "      <td>...</td>\n",
              "      <td>...</td>\n",
              "      <td>...</td>\n",
              "      <td>...</td>\n",
              "      <td>...</td>\n",
              "      <td>...</td>\n",
              "      <td>...</td>\n",
              "      <td>...</td>\n",
              "      <td>...</td>\n",
              "    </tr>\n",
              "    <tr>\n",
              "      <th>1PhPYr_9zRY</th>\n",
              "      <td>2018-06-14</td>\n",
              "      <td>BTS Plays With Puppies While Answering Fan Que...</td>\n",
              "      <td>BuzzFeed Celeb</td>\n",
              "      <td>22</td>\n",
              "      <td>2018-05-18 16:39:29</td>\n",
              "      <td>BuzzFeed|\"BuzzFeedVideo\"|\"Puppy Interview\"|\"pu...</td>\n",
              "      <td>8259128</td>\n",
              "      <td>645888</td>\n",
              "      <td>4052</td>\n",
              "      <td>62610</td>\n",
              "      <td>...</td>\n",
              "      <td>False</td>\n",
              "      <td>False</td>\n",
              "      <td>BTS with the PPS, the puppies. These adorable ...</td>\n",
              "      <td>US</td>\n",
              "      <td>People &amp; Blogs</td>\n",
              "      <td>13.378383</td>\n",
              "      <td>15.926830</td>\n",
              "      <td>8.307213</td>\n",
              "      <td>11.044696</td>\n",
              "      <td>27</td>\n",
              "    </tr>\n",
              "    <tr>\n",
              "      <th>BZt0qjTWNhw</th>\n",
              "      <td>2018-06-14</td>\n",
              "      <td>The Cat Who Caught the Laser</td>\n",
              "      <td>AaronsAnimals</td>\n",
              "      <td>15</td>\n",
              "      <td>2018-05-18 13:00:04</td>\n",
              "      <td>aarons animals|\"aarons\"|\"animals\"|\"cat\"|\"cats\"...</td>\n",
              "      <td>1685609</td>\n",
              "      <td>38160</td>\n",
              "      <td>1385</td>\n",
              "      <td>2657</td>\n",
              "      <td>...</td>\n",
              "      <td>False</td>\n",
              "      <td>False</td>\n",
              "      <td>The Cat Who Caught the Laser - Aaron's Animals</td>\n",
              "      <td>US</td>\n",
              "      <td>Pets &amp; Animals</td>\n",
              "      <td>10.549569</td>\n",
              "      <td>14.337638</td>\n",
              "      <td>7.234177</td>\n",
              "      <td>7.885329</td>\n",
              "      <td>14</td>\n",
              "    </tr>\n",
              "    <tr>\n",
              "      <th>D6Oy4LfoqsU</th>\n",
              "      <td>2018-06-14</td>\n",
              "      <td>I GAVE SAFIYA NYGAARD A PERFECT HAIR MAKEOVER ...</td>\n",
              "      <td>Brad Mondo</td>\n",
              "      <td>24</td>\n",
              "      <td>2018-05-18 17:34:22</td>\n",
              "      <td>I gave safiya nygaard a perfect hair makeover ...</td>\n",
              "      <td>1066451</td>\n",
              "      <td>48068</td>\n",
              "      <td>1032</td>\n",
              "      <td>3992</td>\n",
              "      <td>...</td>\n",
              "      <td>False</td>\n",
              "      <td>False</td>\n",
              "      <td>I had so much fun transforming Safiyas hair in...</td>\n",
              "      <td>US</td>\n",
              "      <td>Entertainment</td>\n",
              "      <td>10.780393</td>\n",
              "      <td>13.879848</td>\n",
              "      <td>6.940222</td>\n",
              "      <td>8.292298</td>\n",
              "      <td>24</td>\n",
              "    </tr>\n",
              "    <tr>\n",
              "      <th>oV0zkMe1K8s</th>\n",
              "      <td>2018-06-14</td>\n",
              "      <td>How Black Panther Should Have Ended</td>\n",
              "      <td>How It Should Have Ended</td>\n",
              "      <td>1</td>\n",
              "      <td>2018-05-17 17:00:04</td>\n",
              "      <td>Black Panther|\"HISHE\"|\"Marvel\"|\"Infinity War\"|...</td>\n",
              "      <td>5660813</td>\n",
              "      <td>192957</td>\n",
              "      <td>2846</td>\n",
              "      <td>13088</td>\n",
              "      <td>...</td>\n",
              "      <td>False</td>\n",
              "      <td>False</td>\n",
              "      <td>How Black Panther Should Have EndedWatch More ...</td>\n",
              "      <td>US</td>\n",
              "      <td>Film &amp; Animation</td>\n",
              "      <td>12.170228</td>\n",
              "      <td>15.549078</td>\n",
              "      <td>7.954021</td>\n",
              "      <td>9.479527</td>\n",
              "      <td>22</td>\n",
              "    </tr>\n",
              "    <tr>\n",
              "      <th>ooyjaVdt-jA</th>\n",
              "      <td>2018-06-14</td>\n",
              "      <td>Official Call of Duty®: Black Ops 4 — Multipla...</td>\n",
              "      <td>Call of Duty</td>\n",
              "      <td>20</td>\n",
              "      <td>2018-05-17 17:09:38</td>\n",
              "      <td>call of duty|\"cod\"|\"activision\"|\"Black Ops 4\"</td>\n",
              "      <td>10306119</td>\n",
              "      <td>357079</td>\n",
              "      <td>212976</td>\n",
              "      <td>144795</td>\n",
              "      <td>...</td>\n",
              "      <td>False</td>\n",
              "      <td>False</td>\n",
              "      <td>Call of Duty: Black Ops 4 Multiplayer raises t...</td>\n",
              "      <td>US</td>\n",
              "      <td>Gaming</td>\n",
              "      <td>12.785715</td>\n",
              "      <td>16.148248</td>\n",
              "      <td>12.268939</td>\n",
              "      <td>11.883081</td>\n",
              "      <td>4</td>\n",
              "    </tr>\n",
              "  </tbody>\n",
              "</table>\n",
              "<p>154567 rows × 22 columns</p>\n",
              "</div>\n",
              "      <button class=\"colab-df-convert\" onclick=\"convertToInteractive('df-3d1895a6-61f2-45ac-af67-08a7238d42e0')\"\n",
              "              title=\"Convert this dataframe to an interactive table.\"\n",
              "              style=\"display:none;\">\n",
              "        \n",
              "  <svg xmlns=\"http://www.w3.org/2000/svg\" height=\"24px\"viewBox=\"0 0 24 24\"\n",
              "       width=\"24px\">\n",
              "    <path d=\"M0 0h24v24H0V0z\" fill=\"none\"/>\n",
              "    <path d=\"M18.56 5.44l.94 2.06.94-2.06 2.06-.94-2.06-.94-.94-2.06-.94 2.06-2.06.94zm-11 1L8.5 8.5l.94-2.06 2.06-.94-2.06-.94L8.5 2.5l-.94 2.06-2.06.94zm10 10l.94 2.06.94-2.06 2.06-.94-2.06-.94-.94-2.06-.94 2.06-2.06.94z\"/><path d=\"M17.41 7.96l-1.37-1.37c-.4-.4-.92-.59-1.43-.59-.52 0-1.04.2-1.43.59L10.3 9.45l-7.72 7.72c-.78.78-.78 2.05 0 2.83L4 21.41c.39.39.9.59 1.41.59.51 0 1.02-.2 1.41-.59l7.78-7.78 2.81-2.81c.8-.78.8-2.07 0-2.86zM5.41 20L4 18.59l7.72-7.72 1.47 1.35L5.41 20z\"/>\n",
              "  </svg>\n",
              "      </button>\n",
              "      \n",
              "  <style>\n",
              "    .colab-df-container {\n",
              "      display:flex;\n",
              "      flex-wrap:wrap;\n",
              "      gap: 12px;\n",
              "    }\n",
              "\n",
              "    .colab-df-convert {\n",
              "      background-color: #E8F0FE;\n",
              "      border: none;\n",
              "      border-radius: 50%;\n",
              "      cursor: pointer;\n",
              "      display: none;\n",
              "      fill: #1967D2;\n",
              "      height: 32px;\n",
              "      padding: 0 0 0 0;\n",
              "      width: 32px;\n",
              "    }\n",
              "\n",
              "    .colab-df-convert:hover {\n",
              "      background-color: #E2EBFA;\n",
              "      box-shadow: 0px 1px 2px rgba(60, 64, 67, 0.3), 0px 1px 3px 1px rgba(60, 64, 67, 0.15);\n",
              "      fill: #174EA6;\n",
              "    }\n",
              "\n",
              "    [theme=dark] .colab-df-convert {\n",
              "      background-color: #3B4455;\n",
              "      fill: #D2E3FC;\n",
              "    }\n",
              "\n",
              "    [theme=dark] .colab-df-convert:hover {\n",
              "      background-color: #434B5C;\n",
              "      box-shadow: 0px 1px 3px 1px rgba(0, 0, 0, 0.15);\n",
              "      filter: drop-shadow(0px 1px 2px rgba(0, 0, 0, 0.3));\n",
              "      fill: #FFFFFF;\n",
              "    }\n",
              "  </style>\n",
              "\n",
              "      <script>\n",
              "        const buttonEl =\n",
              "          document.querySelector('#df-3d1895a6-61f2-45ac-af67-08a7238d42e0 button.colab-df-convert');\n",
              "        buttonEl.style.display =\n",
              "          google.colab.kernel.accessAllowed ? 'block' : 'none';\n",
              "\n",
              "        async function convertToInteractive(key) {\n",
              "          const element = document.querySelector('#df-3d1895a6-61f2-45ac-af67-08a7238d42e0');\n",
              "          const dataTable =\n",
              "            await google.colab.kernel.invokeFunction('convertToInteractive',\n",
              "                                                     [key], {});\n",
              "          if (!dataTable) return;\n",
              "\n",
              "          const docLinkHtml = 'Like what you see? Visit the ' +\n",
              "            '<a target=\"_blank\" href=https://colab.research.google.com/notebooks/data_table.ipynb>data table notebook</a>'\n",
              "            + ' to learn more about interactive tables.';\n",
              "          element.innerHTML = '';\n",
              "          dataTable['output_type'] = 'display_data';\n",
              "          await google.colab.output.renderOutput(dataTable, element);\n",
              "          const docLink = document.createElement('div');\n",
              "          docLink.innerHTML = docLinkHtml;\n",
              "          element.appendChild(docLink);\n",
              "        }\n",
              "      </script>\n",
              "    </div>\n",
              "  </div>\n",
              "  "
            ]
          },
          "metadata": {},
          "execution_count": 24
        }
      ]
    },
    {
      "cell_type": "markdown",
      "metadata": {
        "id": "8bnJqokpI1Mj"
      },
      "source": [
        "##### b. Processing description and title (2 pts.)\n",
        "\n",
        "Calculate the length of description and title and add them as features to the dataset"
      ]
    },
    {
      "cell_type": "code",
      "metadata": {
        "id": "NJyWb54zHes2"
      },
      "source": [
        "# Add your code here\n",
        "combined_data[\"desc_len\"]=combined_data[\"description\"].apply(lambda x: len(x))"
      ],
      "execution_count": 25,
      "outputs": []
    },
    {
      "cell_type": "code",
      "metadata": {
        "id": "ZPMnQhbJHgx0"
      },
      "source": [
        "# Add your code here\n",
        "\n",
        "combined_data[\"len_title\"]=combined_data[\"title\"].apply(lambda x: len(x))"
      ],
      "execution_count": 26,
      "outputs": []
    },
    {
      "cell_type": "code",
      "metadata": {
        "colab": {
          "base_uri": "https://localhost:8080/"
        },
        "id": "ksE7fNPQS_qr",
        "outputId": "a5343c16-d42a-4dae-c437-ada6c8525587"
      },
      "source": [
        "# Print cell\n",
        "print('check_tags_title_description \\n',([combined_data['num_tags'].describe(),combined_data['desc_len'].describe(),combined_data['len_title'].describe()]))"
      ],
      "execution_count": 27,
      "outputs": [
        {
          "output_type": "stream",
          "name": "stdout",
          "text": [
            "check_tags_title_description \n",
            " [count    154567.000000\n",
            "mean         18.580551\n",
            "std          11.929906\n",
            "min           0.000000\n",
            "25%           9.000000\n",
            "50%          17.000000\n",
            "75%          26.000000\n",
            "max         124.000000\n",
            "Name: num_tags, dtype: float64, count    154567.000000\n",
            "mean        959.949426\n",
            "std         857.504028\n",
            "min           1.000000\n",
            "25%         363.000000\n",
            "50%         717.000000\n",
            "75%        1288.000000\n",
            "max        5260.000000\n",
            "Name: desc_len, dtype: float64, count    154567.000000\n",
            "mean         56.408541\n",
            "std          22.976198\n",
            "min           2.000000\n",
            "25%          38.000000\n",
            "50%          54.000000\n",
            "75%          74.000000\n",
            "max         100.000000\n",
            "Name: len_title, dtype: float64]\n"
          ]
        }
      ]
    },
    {
      "cell_type": "markdown",
      "metadata": {
        "id": "aOaB6ZbCJTBv"
      },
      "source": [
        "##### c. Processing publish_time. (4 pts.)\n",
        "\n",
        "\n",
        "Split 'publish_time' feature into three parts time, date, and weekday, where time will contain the time component of the original feature and date and weekday will store the corresponding date and weekday number respectively. Start with 1 for Monday and end with 7 for Sunday."
      ]
    },
    {
      "cell_type": "code",
      "metadata": {
        "id": "ZH_SGsb2rnF2"
      },
      "source": [
        "date_data=combined_data['publish_time']"
      ],
      "execution_count": 28,
      "outputs": []
    },
    {
      "cell_type": "code",
      "metadata": {
        "id": "ZVJTEJRFHrI5"
      },
      "source": [
        "# Add your code here\n",
        "combined_data['publish_time'] =date_data.apply(lambda x: pd.to_datetime(x).time())\n",
        "combined_data['publish_date'] =date_data.apply(lambda x: pd.to_datetime(x).date())\n",
        "\n",
        "#day on which video was published\n",
        "combined_data['publish_weekday']=date_data.apply(lambda x: x.dayofweek)+1\n",
        "\n",
        "import random\n",
        "random_index = random.randint(0,combined_data.shape[0]-1)\n"
      ],
      "execution_count": 29,
      "outputs": []
    },
    {
      "cell_type": "code",
      "metadata": {
        "colab": {
          "base_uri": "https://localhost:8080/"
        },
        "id": "Ud5dPVljTDoQ",
        "outputId": "fc3ee291-7449-4bc5-a757-f0a654c6f2c7"
      },
      "source": [
        "# Print cell\n",
        "print('check_date_time_processing',([combined_data['publish_time'].iloc[random_index],combined_data['publish_date'].iloc[random_index],sorted(list(combined_data[\"publish_weekday\"].value_counts()))]))"
      ],
      "execution_count": 30,
      "outputs": [
        {
          "output_type": "stream",
          "name": "stdout",
          "text": [
            "check_date_time_processing [datetime.time(16, 33, 54), datetime.date(2018, 6, 12), [18641, 18931, 22146, 22501, 22523, 23573, 26252]]\n"
          ]
        }
      ]
    },
    {
      "cell_type": "markdown",
      "metadata": {
        "id": "mx1JPowWKKE7"
      },
      "source": [
        "##### d. Number of videos per weekday (1 pt)\n",
        "\n",
        "Calculate the number of videos published per day of the week. Which day of the week do people publish most videos? Make a visualization demonstrating the result."
      ]
    },
    {
      "cell_type": "code",
      "metadata": {
        "colab": {
          "base_uri": "https://localhost:8080/",
          "height": 680
        },
        "id": "IYNXbH9AKhzy",
        "outputId": "d9824d8c-e746-48d0-dc04-1a2bad59e8fd"
      },
      "source": [
        "# Add your code for plot here\n",
        "\n",
        "##Creating dataframe after deleting videos which stay trending for more than one day according to the Video ID\n",
        "dfx=combined_data.reset_index(level=0)[['video_id','publish_weekday']].drop_duplicates(subset = ['video_id'], keep = 'last')\n",
        "\n",
        "##Mapping the day number : day name\n",
        "dayOfWeek={1:'Monday', 2:'Tuesday', 3:'Wednesday', 4:'Thursday', 5:'Friday', 6:'Saturday', 7:'Sunday'}\n",
        "dfx['publish_weekday'] = dfx['publish_weekday'].map(dayOfWeek)\n",
        "\n",
        "##Calculating and plotting\n",
        "videos_weekday = dfx['publish_weekday'].value_counts().to_frame().reset_index().rename(columns={\"index\": \"Week_Days\", \"publish_weekday\": \"No_of_videos\"})\n",
        "fig, ax = pyplot.subplots(figsize=(15, 10)),sns.set(font_scale=1.5)\n",
        "sns.barplot(x=\"Week_Days\", y=\"No_of_videos\", data=videos_weekday,ax=ax),plt.title('Number of puplished videos per week days ',color='Green')\n",
        "# Plots will be manually graded"
      ],
      "execution_count": 31,
      "outputs": [
        {
          "output_type": "execute_result",
          "data": {
            "text/plain": [
              "(<AxesSubplot:title={'center':'Number of puplished videos per week days '}, xlabel='Week_Days', ylabel='No_of_videos'>,\n",
              " Text(0.5, 1.0, 'Number of puplished videos per week days '))"
            ]
          },
          "metadata": {},
          "execution_count": 31
        },
        {
          "output_type": "display_data",
          "data": {
            "text/plain": [
              "<Figure size 1080x720 with 1 Axes>"
            ],
            "image/png": "[encoded data removed]"
          },
          "metadata": {}
        }
      ]
    },
    {
      "cell_type": "markdown",
      "metadata": {
        "id": "qd7dG7GTKrVQ"
      },
      "source": [
        "#### 5.2.6: Dropping irrelevant non numeric columns (1 pt.)\n",
        "\n",
        "Drop all the columns that are non-numeric as we have processed them and stored the information captured in them in the dataset as numbers. \n",
        "\n",
        "Note that a few key columns are non-numeric but should be kept in the dataframe:\n",
        "\n",
        "comments_disabled, ratings_disabled, video_error_or_removed, country\n",
        "\n",
        "Also drop original views, like, comments and dislikes as you have processed them as logs and stored them as separate feature. "
      ]
    },
    {
      "cell_type": "code",
      "metadata": {
        "colab": {
          "base_uri": "https://localhost:8080/"
        },
        "id": "3xaCcVfhkSG_",
        "outputId": "66efa541-166f-4eea-f22d-7d8371b20725"
      },
      "source": [
        "combined_data.columns"
      ],
      "execution_count": 32,
      "outputs": [
        {
          "output_type": "execute_result",
          "data": {
            "text/plain": [
              "Index(['trending_date', 'title', 'channel_title', 'category_id',\n",
              "       'publish_time', 'tags', 'views', 'likes', 'dislikes', 'comment_count',\n",
              "       'thumbnail_link', 'comments_disabled', 'ratings_disabled',\n",
              "       'video_error_or_removed', 'description', 'country', 'category',\n",
              "       'likes_log', 'views_log', 'dislikes_log', 'comment_log', 'num_tags',\n",
              "       'desc_len', 'len_title', 'publish_date', 'publish_weekday'],\n",
              "      dtype='object')"
            ]
          },
          "metadata": {},
          "execution_count": 32
        }
      ]
    },
    {
      "cell_type": "code",
      "metadata": {
        "id": "UtSoKgf7IOrJ"
      },
      "source": [
        "# Add your code here\n",
        "combined_data.drop(['trending_date', 'title', 'channel_title', 'category_id',\n",
        "                    'publish_time', 'tags', 'views', 'likes', 'dislikes', 'comment_count',\n",
        "                    'thumbnail_link', 'description', 'publish_date'], axis = 1,inplace = True)"
      ],
      "execution_count": 33,
      "outputs": []
    },
    {
      "cell_type": "code",
      "metadata": {
        "colab": {
          "base_uri": "https://localhost:8080/",
          "height": 606
        },
        "id": "n4J6_aq9mAIa",
        "outputId": "60e050ec-57d5-479b-8afb-14562fbd30c7"
      },
      "source": [
        "combined_data"
      ],
      "execution_count": 34,
      "outputs": [
        {
          "output_type": "execute_result",
          "data": {
            "text/plain": [
              "             comments_disabled  ratings_disabled  video_error_or_removed  \\\n",
              "video_id                                                                   \n",
              "kzwfHumJyYc              False             False                   False   \n",
              "zUZ1z7FwLc8               True             False                   False   \n",
              "10L1hZ9qa58              False             False                   False   \n",
              "N1vE8iiEg64              False             False                   False   \n",
              "kJzGH0PVQHQ              False             False                   False   \n",
              "...                        ...               ...                     ...   \n",
              "1PhPYr_9zRY              False             False                   False   \n",
              "BZt0qjTWNhw              False             False                   False   \n",
              "D6Oy4LfoqsU              False             False                   False   \n",
              "oV0zkMe1K8s              False             False                   False   \n",
              "ooyjaVdt-jA              False             False                   False   \n",
              "\n",
              "            country          category  likes_log  views_log  dislikes_log  \\\n",
              "video_id                                                                    \n",
              "kzwfHumJyYc      IN  Film & Animation  10.433145  13.907477      6.683361   \n",
              "zUZ1z7FwLc8      IN   News & Politics   6.601230  13.288051      6.807935   \n",
              "10L1hZ9qa58      IN     Entertainment   7.606885  13.068939      5.497168   \n",
              "N1vE8iiEg64      IN            Comedy  11.161295  14.032782      7.393263   \n",
              "kJzGH0PVQHQ      IN     Entertainment   6.200509  13.047674      5.683580   \n",
              "...             ...               ...        ...        ...           ...   \n",
              "1PhPYr_9zRY      US    People & Blogs  13.378383  15.926830      8.307213   \n",
              "BZt0qjTWNhw      US    Pets & Animals  10.549569  14.337638      7.234177   \n",
              "D6Oy4LfoqsU      US     Entertainment  10.780393  13.879848      6.940222   \n",
              "oV0zkMe1K8s      US  Film & Animation  12.170228  15.549078      7.954021   \n",
              "ooyjaVdt-jA      US            Gaming  12.785715  16.148248     12.268939   \n",
              "\n",
              "             comment_log  num_tags  desc_len  len_title  publish_weekday  \n",
              "video_id                                                                  \n",
              "kzwfHumJyYc     6.783325        15       920         81                7  \n",
              "zUZ1z7FwLc8     0.000000        19      2232         58                1  \n",
              "10L1hZ9qa58     5.010635        14       482         58                7  \n",
              "N1vE8iiEg64     7.895436        20       263         30                7  \n",
              "kJzGH0PVQHQ     4.204693        11       753         88                1  \n",
              "...                  ...       ...       ...        ...              ...  \n",
              "1PhPYr_9zRY    11.044696        27       926         52                5  \n",
              "BZt0qjTWNhw     7.885329        14        46         28                5  \n",
              "D6Oy4LfoqsU     8.292298        24       775         84                5  \n",
              "oV0zkMe1K8s     9.479527        22      3268         35                4  \n",
              "ooyjaVdt-jA    11.883081         4       709         64                4  \n",
              "\n",
              "[154567 rows x 13 columns]"
            ],
            "text/html": [
              "\n",
              "  <div id=\"df-da617727-c8eb-48cf-873b-bed0d8578c6c\">\n",
              "    <div class=\"colab-df-container\">\n",
              "      <div>\n",
              "<style scoped>\n",
              "    .dataframe tbody tr th:only-of-type {\n",
              "        vertical-align: middle;\n",
              "    }\n",
              "\n",
              "    .dataframe tbody tr th {\n",
              "        vertical-align: top;\n",
              "    }\n",
              "\n",
              "    .dataframe thead th {\n",
              "        text-align: right;\n",
              "    }\n",
              "</style>\n",
              "<table border=\"1\" class=\"dataframe\">\n",
              "  <thead>\n",
              "    <tr style=\"text-align: right;\">\n",
              "      <th></th>\n",
              "      <th>comments_disabled</th>\n",
              "      <th>ratings_disabled</th>\n",
              "      <th>video_error_or_removed</th>\n",
              "      <th>country</th>\n",
              "      <th>category</th>\n",
              "      <th>likes_log</th>\n",
              "      <th>views_log</th>\n",
              "      <th>dislikes_log</th>\n",
              "      <th>comment_log</th>\n",
              "      <th>num_tags</th>\n",
              "      <th>desc_len</th>\n",
              "      <th>len_title</th>\n",
              "      <th>publish_weekday</th>\n",
              "    </tr>\n",
              "    <tr>\n",
              "      <th>video_id</th>\n",
              "      <th></th>\n",
              "      <th></th>\n",
              "      <th></th>\n",
              "      <th></th>\n",
              "      <th></th>\n",
              "      <th></th>\n",
              "      <th></th>\n",
              "      <th></th>\n",
              "      <th></th>\n",
              "      <th></th>\n",
              "      <th></th>\n",
              "      <th></th>\n",
              "      <th></th>\n",
              "    </tr>\n",
              "  </thead>\n",
              "  <tbody>\n",
              "    <tr>\n",
              "      <th>kzwfHumJyYc</th>\n",
              "      <td>False</td>\n",
              "      <td>False</td>\n",
              "      <td>False</td>\n",
              "      <td>IN</td>\n",
              "      <td>Film &amp; Animation</td>\n",
              "      <td>10.433145</td>\n",
              "      <td>13.907477</td>\n",
              "      <td>6.683361</td>\n",
              "      <td>6.783325</td>\n",
              "      <td>15</td>\n",
              "      <td>920</td>\n",
              "      <td>81</td>\n",
              "      <td>7</td>\n",
              "    </tr>\n",
              "    <tr>\n",
              "      <th>zUZ1z7FwLc8</th>\n",
              "      <td>True</td>\n",
              "      <td>False</td>\n",
              "      <td>False</td>\n",
              "      <td>IN</td>\n",
              "      <td>News &amp; Politics</td>\n",
              "      <td>6.601230</td>\n",
              "      <td>13.288051</td>\n",
              "      <td>6.807935</td>\n",
              "      <td>0.000000</td>\n",
              "      <td>19</td>\n",
              "      <td>2232</td>\n",
              "      <td>58</td>\n",
              "      <td>1</td>\n",
              "    </tr>\n",
              "    <tr>\n",
              "      <th>10L1hZ9qa58</th>\n",
              "      <td>False</td>\n",
              "      <td>False</td>\n",
              "      <td>False</td>\n",
              "      <td>IN</td>\n",
              "      <td>Entertainment</td>\n",
              "      <td>7.606885</td>\n",
              "      <td>13.068939</td>\n",
              "      <td>5.497168</td>\n",
              "      <td>5.010635</td>\n",
              "      <td>14</td>\n",
              "      <td>482</td>\n",
              "      <td>58</td>\n",
              "      <td>7</td>\n",
              "    </tr>\n",
              "    <tr>\n",
              "      <th>N1vE8iiEg64</th>\n",
              "      <td>False</td>\n",
              "      <td>False</td>\n",
              "      <td>False</td>\n",
              "      <td>IN</td>\n",
              "      <td>Comedy</td>\n",
              "      <td>11.161295</td>\n",
              "      <td>14.032782</td>\n",
              "      <td>7.393263</td>\n",
              "      <td>7.895436</td>\n",
              "      <td>20</td>\n",
              "      <td>263</td>\n",
              "      <td>30</td>\n",
              "      <td>7</td>\n",
              "    </tr>\n",
              "    <tr>\n",
              "      <th>kJzGH0PVQHQ</th>\n",
              "      <td>False</td>\n",
              "      <td>False</td>\n",
              "      <td>False</td>\n",
              "      <td>IN</td>\n",
              "      <td>Entertainment</td>\n",
              "      <td>6.200509</td>\n",
              "      <td>13.047674</td>\n",
              "      <td>5.683580</td>\n",
              "      <td>4.204693</td>\n",
              "      <td>11</td>\n",
              "      <td>753</td>\n",
              "      <td>88</td>\n",
              "      <td>1</td>\n",
              "    </tr>\n",
              "    <tr>\n",
              "      <th>...</th>\n",
              "      <td>...</td>\n",
              "      <td>...</td>\n",
              "      <td>...</td>\n",
              "      <td>...</td>\n",
              "      <td>...</td>\n",
              "      <td>...</td>\n",
              "      <td>...</td>\n",
              "      <td>...</td>\n",
              "      <td>...</td>\n",
              "      <td>...</td>\n",
              "      <td>...</td>\n",
              "      <td>...</td>\n",
              "      <td>...</td>\n",
              "    </tr>\n",
              "    <tr>\n",
              "      <th>1PhPYr_9zRY</th>\n",
              "      <td>False</td>\n",
              "      <td>False</td>\n",
              "      <td>False</td>\n",
              "      <td>US</td>\n",
              "      <td>People &amp; Blogs</td>\n",
              "      <td>13.378383</td>\n",
              "      <td>15.926830</td>\n",
              "      <td>8.307213</td>\n",
              "      <td>11.044696</td>\n",
              "      <td>27</td>\n",
              "      <td>926</td>\n",
              "      <td>52</td>\n",
              "      <td>5</td>\n",
              "    </tr>\n",
              "    <tr>\n",
              "      <th>BZt0qjTWNhw</th>\n",
              "      <td>False</td>\n",
              "      <td>False</td>\n",
              "      <td>False</td>\n",
              "      <td>US</td>\n",
              "      <td>Pets &amp; Animals</td>\n",
              "      <td>10.549569</td>\n",
              "      <td>14.337638</td>\n",
              "      <td>7.234177</td>\n",
              "      <td>7.885329</td>\n",
              "      <td>14</td>\n",
              "      <td>46</td>\n",
              "      <td>28</td>\n",
              "      <td>5</td>\n",
              "    </tr>\n",
              "    <tr>\n",
              "      <th>D6Oy4LfoqsU</th>\n",
              "      <td>False</td>\n",
              "      <td>False</td>\n",
              "      <td>False</td>\n",
              "      <td>US</td>\n",
              "      <td>Entertainment</td>\n",
              "      <td>10.780393</td>\n",
              "      <td>13.879848</td>\n",
              "      <td>6.940222</td>\n",
              "      <td>8.292298</td>\n",
              "      <td>24</td>\n",
              "      <td>775</td>\n",
              "      <td>84</td>\n",
              "      <td>5</td>\n",
              "    </tr>\n",
              "    <tr>\n",
              "      <th>oV0zkMe1K8s</th>\n",
              "      <td>False</td>\n",
              "      <td>False</td>\n",
              "      <td>False</td>\n",
              "      <td>US</td>\n",
              "      <td>Film &amp; Animation</td>\n",
              "      <td>12.170228</td>\n",
              "      <td>15.549078</td>\n",
              "      <td>7.954021</td>\n",
              "      <td>9.479527</td>\n",
              "      <td>22</td>\n",
              "      <td>3268</td>\n",
              "      <td>35</td>\n",
              "      <td>4</td>\n",
              "    </tr>\n",
              "    <tr>\n",
              "      <th>ooyjaVdt-jA</th>\n",
              "      <td>False</td>\n",
              "      <td>False</td>\n",
              "      <td>False</td>\n",
              "      <td>US</td>\n",
              "      <td>Gaming</td>\n",
              "      <td>12.785715</td>\n",
              "      <td>16.148248</td>\n",
              "      <td>12.268939</td>\n",
              "      <td>11.883081</td>\n",
              "      <td>4</td>\n",
              "      <td>709</td>\n",
              "      <td>64</td>\n",
              "      <td>4</td>\n",
              "    </tr>\n",
              "  </tbody>\n",
              "</table>\n",
              "<p>154567 rows × 13 columns</p>\n",
              "</div>\n",
              "      <button class=\"colab-df-convert\" onclick=\"convertToInteractive('df-da617727-c8eb-48cf-873b-bed0d8578c6c')\"\n",
              "              title=\"Convert this dataframe to an interactive table.\"\n",
              "              style=\"display:none;\">\n",
              "        \n",
              "  <svg xmlns=\"http://www.w3.org/2000/svg\" height=\"24px\"viewBox=\"0 0 24 24\"\n",
              "       width=\"24px\">\n",
              "    <path d=\"M0 0h24v24H0V0z\" fill=\"none\"/>\n",
              "    <path d=\"M18.56 5.44l.94 2.06.94-2.06 2.06-.94-2.06-.94-.94-2.06-.94 2.06-2.06.94zm-11 1L8.5 8.5l.94-2.06 2.06-.94-2.06-.94L8.5 2.5l-.94 2.06-2.06.94zm10 10l.94 2.06.94-2.06 2.06-.94-2.06-.94-.94-2.06-.94 2.06-2.06.94z\"/><path d=\"M17.41 7.96l-1.37-1.37c-.4-.4-.92-.59-1.43-.59-.52 0-1.04.2-1.43.59L10.3 9.45l-7.72 7.72c-.78.78-.78 2.05 0 2.83L4 21.41c.39.39.9.59 1.41.59.51 0 1.02-.2 1.41-.59l7.78-7.78 2.81-2.81c.8-.78.8-2.07 0-2.86zM5.41 20L4 18.59l7.72-7.72 1.47 1.35L5.41 20z\"/>\n",
              "  </svg>\n",
              "      </button>\n",
              "      \n",
              "  <style>\n",
              "    .colab-df-container {\n",
              "      display:flex;\n",
              "      flex-wrap:wrap;\n",
              "      gap: 12px;\n",
              "    }\n",
              "\n",
              "    .colab-df-convert {\n",
              "      background-color: #E8F0FE;\n",
              "      border: none;\n",
              "      border-radius: 50%;\n",
              "      cursor: pointer;\n",
              "      display: none;\n",
              "      fill: #1967D2;\n",
              "      height: 32px;\n",
              "      padding: 0 0 0 0;\n",
              "      width: 32px;\n",
              "    }\n",
              "\n",
              "    .colab-df-convert:hover {\n",
              "      background-color: #E2EBFA;\n",
              "      box-shadow: 0px 1px 2px rgba(60, 64, 67, 0.3), 0px 1px 3px 1px rgba(60, 64, 67, 0.15);\n",
              "      fill: #174EA6;\n",
              "    }\n",
              "\n",
              "    [theme=dark] .colab-df-convert {\n",
              "      background-color: #3B4455;\n",
              "      fill: #D2E3FC;\n",
              "    }\n",
              "\n",
              "    [theme=dark] .colab-df-convert:hover {\n",
              "      background-color: #434B5C;\n",
              "      box-shadow: 0px 1px 3px 1px rgba(0, 0, 0, 0.15);\n",
              "      filter: drop-shadow(0px 1px 2px rgba(0, 0, 0, 0.3));\n",
              "      fill: #FFFFFF;\n",
              "    }\n",
              "  </style>\n",
              "\n",
              "      <script>\n",
              "        const buttonEl =\n",
              "          document.querySelector('#df-da617727-c8eb-48cf-873b-bed0d8578c6c button.colab-df-convert');\n",
              "        buttonEl.style.display =\n",
              "          google.colab.kernel.accessAllowed ? 'block' : 'none';\n",
              "\n",
              "        async function convertToInteractive(key) {\n",
              "          const element = document.querySelector('#df-da617727-c8eb-48cf-873b-bed0d8578c6c');\n",
              "          const dataTable =\n",
              "            await google.colab.kernel.invokeFunction('convertToInteractive',\n",
              "                                                     [key], {});\n",
              "          if (!dataTable) return;\n",
              "\n",
              "          const docLinkHtml = 'Like what you see? Visit the ' +\n",
              "            '<a target=\"_blank\" href=https://colab.research.google.com/notebooks/data_table.ipynb>data table notebook</a>'\n",
              "            + ' to learn more about interactive tables.';\n",
              "          element.innerHTML = '';\n",
              "          dataTable['output_type'] = 'display_data';\n",
              "          await google.colab.output.renderOutput(dataTable, element);\n",
              "          const docLink = document.createElement('div');\n",
              "          docLink.innerHTML = docLinkHtml;\n",
              "          element.appendChild(docLink);\n",
              "        }\n",
              "      </script>\n",
              "    </div>\n",
              "  </div>\n",
              "  "
            ]
          },
          "metadata": {},
          "execution_count": 34
        }
      ]
    },
    {
      "cell_type": "markdown",
      "metadata": {
        "id": "_HtmJiKYLlxx"
      },
      "source": [
        "#### 5.2.7: Convert categorical features in the dataset into one hot vectors. (3 pts)\n",
        "\n",
        "There are three categorical features remaining in the dataset, identify them and convert them into one hot vectors. Be sure that when you one hot encode, the original column is replaced."
      ]
    },
    {
      "cell_type": "code",
      "metadata": {
        "id": "63tJVBE0Kkju"
      },
      "source": [
        "combined_data.publish_weekday = combined_data.publish_weekday.astype('category')\n",
        "combined_data.country = combined_data.country.astype('category')\n",
        "combined_data.category = combined_data.category.astype('category')\n",
        "combined_data= pd.get_dummies(combined_data)\n",
        "# Hint: Use pd.get_dummies()range. "
      ],
      "execution_count": 35,
      "outputs": []
    },
    {
      "cell_type": "code",
      "metadata": {
        "colab": {
          "base_uri": "https://localhost:8080/",
          "height": 536
        },
        "id": "Ovbz1_K3hyfV",
        "outputId": "5c59a90a-b5c6-40ff-dab7-f1b178044ec1"
      },
      "source": [
        "combined_data"
      ],
      "execution_count": 36,
      "outputs": [
        {
          "output_type": "execute_result",
          "data": {
            "text/plain": [
              "             comments_disabled  ratings_disabled  video_error_or_removed  \\\n",
              "video_id                                                                   \n",
              "kzwfHumJyYc              False             False                   False   \n",
              "zUZ1z7FwLc8               True             False                   False   \n",
              "10L1hZ9qa58              False             False                   False   \n",
              "N1vE8iiEg64              False             False                   False   \n",
              "kJzGH0PVQHQ              False             False                   False   \n",
              "...                        ...               ...                     ...   \n",
              "1PhPYr_9zRY              False             False                   False   \n",
              "BZt0qjTWNhw              False             False                   False   \n",
              "D6Oy4LfoqsU              False             False                   False   \n",
              "oV0zkMe1K8s              False             False                   False   \n",
              "ooyjaVdt-jA              False             False                   False   \n",
              "\n",
              "             likes_log  views_log  dislikes_log  comment_log  num_tags  \\\n",
              "video_id                                                                 \n",
              "kzwfHumJyYc  10.433145  13.907477      6.683361     6.783325        15   \n",
              "zUZ1z7FwLc8   6.601230  13.288051      6.807935     0.000000        19   \n",
              "10L1hZ9qa58   7.606885  13.068939      5.497168     5.010635        14   \n",
              "N1vE8iiEg64  11.161295  14.032782      7.393263     7.895436        20   \n",
              "kJzGH0PVQHQ   6.200509  13.047674      5.683580     4.204693        11   \n",
              "...                ...        ...           ...          ...       ...   \n",
              "1PhPYr_9zRY  13.378383  15.926830      8.307213    11.044696        27   \n",
              "BZt0qjTWNhw  10.549569  14.337638      7.234177     7.885329        14   \n",
              "D6Oy4LfoqsU  10.780393  13.879848      6.940222     8.292298        24   \n",
              "oV0zkMe1K8s  12.170228  15.549078      7.954021     9.479527        22   \n",
              "ooyjaVdt-jA  12.785715  16.148248     12.268939    11.883081         4   \n",
              "\n",
              "             desc_len  len_title  ...  category_Sports  category_Trailers  \\\n",
              "video_id                          ...                                       \n",
              "kzwfHumJyYc       920         81  ...                0                  0   \n",
              "zUZ1z7FwLc8      2232         58  ...                0                  0   \n",
              "10L1hZ9qa58       482         58  ...                0                  0   \n",
              "N1vE8iiEg64       263         30  ...                0                  0   \n",
              "kJzGH0PVQHQ       753         88  ...                0                  0   \n",
              "...               ...        ...  ...              ...                ...   \n",
              "1PhPYr_9zRY       926         52  ...                0                  0   \n",
              "BZt0qjTWNhw        46         28  ...                0                  0   \n",
              "D6Oy4LfoqsU       775         84  ...                0                  0   \n",
              "oV0zkMe1K8s      3268         35  ...                0                  0   \n",
              "ooyjaVdt-jA       709         64  ...                0                  0   \n",
              "\n",
              "             category_Travel & Events  publish_weekday_1  publish_weekday_2  \\\n",
              "video_id                                                                      \n",
              "kzwfHumJyYc                         0                  0                  0   \n",
              "zUZ1z7FwLc8                         0                  1                  0   \n",
              "10L1hZ9qa58                         0                  0                  0   \n",
              "N1vE8iiEg64                         0                  0                  0   \n",
              "kJzGH0PVQHQ                         0                  1                  0   \n",
              "...                               ...                ...                ...   \n",
              "1PhPYr_9zRY                         0                  0                  0   \n",
              "BZt0qjTWNhw                         0                  0                  0   \n",
              "D6Oy4LfoqsU                         0                  0                  0   \n",
              "oV0zkMe1K8s                         0                  0                  0   \n",
              "ooyjaVdt-jA                         0                  0                  0   \n",
              "\n",
              "             publish_weekday_3  publish_weekday_4  publish_weekday_5  \\\n",
              "video_id                                                               \n",
              "kzwfHumJyYc                  0                  0                  0   \n",
              "zUZ1z7FwLc8                  0                  0                  0   \n",
              "10L1hZ9qa58                  0                  0                  0   \n",
              "N1vE8iiEg64                  0                  0                  0   \n",
              "kJzGH0PVQHQ                  0                  0                  0   \n",
              "...                        ...                ...                ...   \n",
              "1PhPYr_9zRY                  0                  0                  1   \n",
              "BZt0qjTWNhw                  0                  0                  1   \n",
              "D6Oy4LfoqsU                  0                  0                  1   \n",
              "oV0zkMe1K8s                  0                  1                  0   \n",
              "ooyjaVdt-jA                  0                  1                  0   \n",
              "\n",
              "             publish_weekday_6  publish_weekday_7  \n",
              "video_id                                           \n",
              "kzwfHumJyYc                  0                  1  \n",
              "zUZ1z7FwLc8                  0                  0  \n",
              "10L1hZ9qa58                  0                  1  \n",
              "N1vE8iiEg64                  0                  1  \n",
              "kJzGH0PVQHQ                  0                  0  \n",
              "...                        ...                ...  \n",
              "1PhPYr_9zRY                  0                  0  \n",
              "BZt0qjTWNhw                  0                  0  \n",
              "D6Oy4LfoqsU                  0                  0  \n",
              "oV0zkMe1K8s                  0                  0  \n",
              "ooyjaVdt-jA                  0                  0  \n",
              "\n",
              "[154567 rows x 39 columns]"
            ],
            "text/html": [
              "\n",
              "  <div id=\"df-8ebdbe94-1877-46b0-b73d-27eee69d3779\">\n",
              "    <div class=\"colab-df-container\">\n",
              "      <div>\n",
              "<style scoped>\n",
              "    .dataframe tbody tr th:only-of-type {\n",
              "        vertical-align: middle;\n",
              "    }\n",
              "\n",
              "    .dataframe tbody tr th {\n",
              "        vertical-align: top;\n",
              "    }\n",
              "\n",
              "    .dataframe thead th {\n",
              "        text-align: right;\n",
              "    }\n",
              "</style>\n",
              "<table border=\"1\" class=\"dataframe\">\n",
              "  <thead>\n",
              "    <tr style=\"text-align: right;\">\n",
              "      <th></th>\n",
              "      <th>comments_disabled</th>\n",
              "      <th>ratings_disabled</th>\n",
              "      <th>video_error_or_removed</th>\n",
              "      <th>likes_log</th>\n",
              "      <th>views_log</th>\n",
              "      <th>dislikes_log</th>\n",
              "      <th>comment_log</th>\n",
              "      <th>num_tags</th>\n",
              "      <th>desc_len</th>\n",
              "      <th>len_title</th>\n",
              "      <th>...</th>\n",
              "      <th>category_Sports</th>\n",
              "      <th>category_Trailers</th>\n",
              "      <th>category_Travel &amp; Events</th>\n",
              "      <th>publish_weekday_1</th>\n",
              "      <th>publish_weekday_2</th>\n",
              "      <th>publish_weekday_3</th>\n",
              "      <th>publish_weekday_4</th>\n",
              "      <th>publish_weekday_5</th>\n",
              "      <th>publish_weekday_6</th>\n",
              "      <th>publish_weekday_7</th>\n",
              "    </tr>\n",
              "    <tr>\n",
              "      <th>video_id</th>\n",
              "      <th></th>\n",
              "      <th></th>\n",
              "      <th></th>\n",
              "      <th></th>\n",
              "      <th></th>\n",
              "      <th></th>\n",
              "      <th></th>\n",
              "      <th></th>\n",
              "      <th></th>\n",
              "      <th></th>\n",
              "      <th></th>\n",
              "      <th></th>\n",
              "      <th></th>\n",
              "      <th></th>\n",
              "      <th></th>\n",
              "      <th></th>\n",
              "      <th></th>\n",
              "      <th></th>\n",
              "      <th></th>\n",
              "      <th></th>\n",
              "      <th></th>\n",
              "    </tr>\n",
              "  </thead>\n",
              "  <tbody>\n",
              "    <tr>\n",
              "      <th>kzwfHumJyYc</th>\n",
              "      <td>False</td>\n",
              "      <td>False</td>\n",
              "      <td>False</td>\n",
              "      <td>10.433145</td>\n",
              "      <td>13.907477</td>\n",
              "      <td>6.683361</td>\n",
              "      <td>6.783325</td>\n",
              "      <td>15</td>\n",
              "      <td>920</td>\n",
              "      <td>81</td>\n",
              "      <td>...</td>\n",
              "      <td>0</td>\n",
              "      <td>0</td>\n",
              "      <td>0</td>\n",
              "      <td>0</td>\n",
              "      <td>0</td>\n",
              "      <td>0</td>\n",
              "      <td>0</td>\n",
              "      <td>0</td>\n",
              "      <td>0</td>\n",
              "      <td>1</td>\n",
              "    </tr>\n",
              "    <tr>\n",
              "      <th>zUZ1z7FwLc8</th>\n",
              "      <td>True</td>\n",
              "      <td>False</td>\n",
              "      <td>False</td>\n",
              "      <td>6.601230</td>\n",
              "      <td>13.288051</td>\n",
              "      <td>6.807935</td>\n",
              "      <td>0.000000</td>\n",
              "      <td>19</td>\n",
              "      <td>2232</td>\n",
              "      <td>58</td>\n",
              "      <td>...</td>\n",
              "      <td>0</td>\n",
              "      <td>0</td>\n",
              "      <td>0</td>\n",
              "      <td>1</td>\n",
              "      <td>0</td>\n",
              "      <td>0</td>\n",
              "      <td>0</td>\n",
              "      <td>0</td>\n",
              "      <td>0</td>\n",
              "      <td>0</td>\n",
              "    </tr>\n",
              "    <tr>\n",
              "      <th>10L1hZ9qa58</th>\n",
              "      <td>False</td>\n",
              "      <td>False</td>\n",
              "      <td>False</td>\n",
              "      <td>7.606885</td>\n",
              "      <td>13.068939</td>\n",
              "      <td>5.497168</td>\n",
              "      <td>5.010635</td>\n",
              "      <td>14</td>\n",
              "      <td>482</td>\n",
              "      <td>58</td>\n",
              "      <td>...</td>\n",
              "      <td>0</td>\n",
              "      <td>0</td>\n",
              "      <td>0</td>\n",
              "      <td>0</td>\n",
              "      <td>0</td>\n",
              "      <td>0</td>\n",
              "      <td>0</td>\n",
              "      <td>0</td>\n",
              "      <td>0</td>\n",
              "      <td>1</td>\n",
              "    </tr>\n",
              "    <tr>\n",
              "      <th>N1vE8iiEg64</th>\n",
              "      <td>False</td>\n",
              "      <td>False</td>\n",
              "      <td>False</td>\n",
              "      <td>11.161295</td>\n",
              "      <td>14.032782</td>\n",
              "      <td>7.393263</td>\n",
              "      <td>7.895436</td>\n",
              "      <td>20</td>\n",
              "      <td>263</td>\n",
              "      <td>30</td>\n",
              "      <td>...</td>\n",
              "      <td>0</td>\n",
              "      <td>0</td>\n",
              "      <td>0</td>\n",
              "      <td>0</td>\n",
              "      <td>0</td>\n",
              "      <td>0</td>\n",
              "      <td>0</td>\n",
              "      <td>0</td>\n",
              "      <td>0</td>\n",
              "      <td>1</td>\n",
              "    </tr>\n",
              "    <tr>\n",
              "      <th>kJzGH0PVQHQ</th>\n",
              "      <td>False</td>\n",
              "      <td>False</td>\n",
              "      <td>False</td>\n",
              "      <td>6.200509</td>\n",
              "      <td>13.047674</td>\n",
              "      <td>5.683580</td>\n",
              "      <td>4.204693</td>\n",
              "      <td>11</td>\n",
              "      <td>753</td>\n",
              "      <td>88</td>\n",
              "      <td>...</td>\n",
              "      <td>0</td>\n",
              "      <td>0</td>\n",
              "      <td>0</td>\n",
              "      <td>1</td>\n",
              "      <td>0</td>\n",
              "      <td>0</td>\n",
              "      <td>0</td>\n",
              "      <td>0</td>\n",
              "      <td>0</td>\n",
              "      <td>0</td>\n",
              "    </tr>\n",
              "    <tr>\n",
              "      <th>...</th>\n",
              "      <td>...</td>\n",
              "      <td>...</td>\n",
              "      <td>...</td>\n",
              "      <td>...</td>\n",
              "      <td>...</td>\n",
              "      <td>...</td>\n",
              "      <td>...</td>\n",
              "      <td>...</td>\n",
              "      <td>...</td>\n",
              "      <td>...</td>\n",
              "      <td>...</td>\n",
              "      <td>...</td>\n",
              "      <td>...</td>\n",
              "      <td>...</td>\n",
              "      <td>...</td>\n",
              "      <td>...</td>\n",
              "      <td>...</td>\n",
              "      <td>...</td>\n",
              "      <td>...</td>\n",
              "      <td>...</td>\n",
              "      <td>...</td>\n",
              "    </tr>\n",
              "    <tr>\n",
              "      <th>1PhPYr_9zRY</th>\n",
              "      <td>False</td>\n",
              "      <td>False</td>\n",
              "      <td>False</td>\n",
              "      <td>13.378383</td>\n",
              "      <td>15.926830</td>\n",
              "      <td>8.307213</td>\n",
              "      <td>11.044696</td>\n",
              "      <td>27</td>\n",
              "      <td>926</td>\n",
              "      <td>52</td>\n",
              "      <td>...</td>\n",
              "      <td>0</td>\n",
              "      <td>0</td>\n",
              "      <td>0</td>\n",
              "      <td>0</td>\n",
              "      <td>0</td>\n",
              "      <td>0</td>\n",
              "      <td>0</td>\n",
              "      <td>1</td>\n",
              "      <td>0</td>\n",
              "      <td>0</td>\n",
              "    </tr>\n",
              "    <tr>\n",
              "      <th>BZt0qjTWNhw</th>\n",
              "      <td>False</td>\n",
              "      <td>False</td>\n",
              "      <td>False</td>\n",
              "      <td>10.549569</td>\n",
              "      <td>14.337638</td>\n",
              "      <td>7.234177</td>\n",
              "      <td>7.885329</td>\n",
              "      <td>14</td>\n",
              "      <td>46</td>\n",
              "      <td>28</td>\n",
              "      <td>...</td>\n",
              "      <td>0</td>\n",
              "      <td>0</td>\n",
              "      <td>0</td>\n",
              "      <td>0</td>\n",
              "      <td>0</td>\n",
              "      <td>0</td>\n",
              "      <td>0</td>\n",
              "      <td>1</td>\n",
              "      <td>0</td>\n",
              "      <td>0</td>\n",
              "    </tr>\n",
              "    <tr>\n",
              "      <th>D6Oy4LfoqsU</th>\n",
              "      <td>False</td>\n",
              "      <td>False</td>\n",
              "      <td>False</td>\n",
              "      <td>10.780393</td>\n",
              "      <td>13.879848</td>\n",
              "      <td>6.940222</td>\n",
              "      <td>8.292298</td>\n",
              "      <td>24</td>\n",
              "      <td>775</td>\n",
              "      <td>84</td>\n",
              "      <td>...</td>\n",
              "      <td>0</td>\n",
              "      <td>0</td>\n",
              "      <td>0</td>\n",
              "      <td>0</td>\n",
              "      <td>0</td>\n",
              "      <td>0</td>\n",
              "      <td>0</td>\n",
              "      <td>1</td>\n",
              "      <td>0</td>\n",
              "      <td>0</td>\n",
              "    </tr>\n",
              "    <tr>\n",
              "      <th>oV0zkMe1K8s</th>\n",
              "      <td>False</td>\n",
              "      <td>False</td>\n",
              "      <td>False</td>\n",
              "      <td>12.170228</td>\n",
              "      <td>15.549078</td>\n",
              "      <td>7.954021</td>\n",
              "      <td>9.479527</td>\n",
              "      <td>22</td>\n",
              "      <td>3268</td>\n",
              "      <td>35</td>\n",
              "      <td>...</td>\n",
              "      <td>0</td>\n",
              "      <td>0</td>\n",
              "      <td>0</td>\n",
              "      <td>0</td>\n",
              "      <td>0</td>\n",
              "      <td>0</td>\n",
              "      <td>1</td>\n",
              "      <td>0</td>\n",
              "      <td>0</td>\n",
              "      <td>0</td>\n",
              "    </tr>\n",
              "    <tr>\n",
              "      <th>ooyjaVdt-jA</th>\n",
              "      <td>False</td>\n",
              "      <td>False</td>\n",
              "      <td>False</td>\n",
              "      <td>12.785715</td>\n",
              "      <td>16.148248</td>\n",
              "      <td>12.268939</td>\n",
              "      <td>11.883081</td>\n",
              "      <td>4</td>\n",
              "      <td>709</td>\n",
              "      <td>64</td>\n",
              "      <td>...</td>\n",
              "      <td>0</td>\n",
              "      <td>0</td>\n",
              "      <td>0</td>\n",
              "      <td>0</td>\n",
              "      <td>0</td>\n",
              "      <td>0</td>\n",
              "      <td>1</td>\n",
              "      <td>0</td>\n",
              "      <td>0</td>\n",
              "      <td>0</td>\n",
              "    </tr>\n",
              "  </tbody>\n",
              "</table>\n",
              "<p>154567 rows × 39 columns</p>\n",
              "</div>\n",
              "      <button class=\"colab-df-convert\" onclick=\"convertToInteractive('df-8ebdbe94-1877-46b0-b73d-27eee69d3779')\"\n",
              "              title=\"Convert this dataframe to an interactive table.\"\n",
              "              style=\"display:none;\">\n",
              "        \n",
              "  <svg xmlns=\"http://www.w3.org/2000/svg\" height=\"24px\"viewBox=\"0 0 24 24\"\n",
              "       width=\"24px\">\n",
              "    <path d=\"M0 0h24v24H0V0z\" fill=\"none\"/>\n",
              "    <path d=\"M18.56 5.44l.94 2.06.94-2.06 2.06-.94-2.06-.94-.94-2.06-.94 2.06-2.06.94zm-11 1L8.5 8.5l.94-2.06 2.06-.94-2.06-.94L8.5 2.5l-.94 2.06-2.06.94zm10 10l.94 2.06.94-2.06 2.06-.94-2.06-.94-.94-2.06-.94 2.06-2.06.94z\"/><path d=\"M17.41 7.96l-1.37-1.37c-.4-.4-.92-.59-1.43-.59-.52 0-1.04.2-1.43.59L10.3 9.45l-7.72 7.72c-.78.78-.78 2.05 0 2.83L4 21.41c.39.39.9.59 1.41.59.51 0 1.02-.2 1.41-.59l7.78-7.78 2.81-2.81c.8-.78.8-2.07 0-2.86zM5.41 20L4 18.59l7.72-7.72 1.47 1.35L5.41 20z\"/>\n",
              "  </svg>\n",
              "      </button>\n",
              "      \n",
              "  <style>\n",
              "    .colab-df-container {\n",
              "      display:flex;\n",
              "      flex-wrap:wrap;\n",
              "      gap: 12px;\n",
              "    }\n",
              "\n",
              "    .colab-df-convert {\n",
              "      background-color: #E8F0FE;\n",
              "      border: none;\n",
              "      border-radius: 50%;\n",
              "      cursor: pointer;\n",
              "      display: none;\n",
              "      fill: #1967D2;\n",
              "      height: 32px;\n",
              "      padding: 0 0 0 0;\n",
              "      width: 32px;\n",
              "    }\n",
              "\n",
              "    .colab-df-convert:hover {\n",
              "      background-color: #E2EBFA;\n",
              "      box-shadow: 0px 1px 2px rgba(60, 64, 67, 0.3), 0px 1px 3px 1px rgba(60, 64, 67, 0.15);\n",
              "      fill: #174EA6;\n",
              "    }\n",
              "\n",
              "    [theme=dark] .colab-df-convert {\n",
              "      background-color: #3B4455;\n",
              "      fill: #D2E3FC;\n",
              "    }\n",
              "\n",
              "    [theme=dark] .colab-df-convert:hover {\n",
              "      background-color: #434B5C;\n",
              "      box-shadow: 0px 1px 3px 1px rgba(0, 0, 0, 0.15);\n",
              "      filter: drop-shadow(0px 1px 2px rgba(0, 0, 0, 0.3));\n",
              "      fill: #FFFFFF;\n",
              "    }\n",
              "  </style>\n",
              "\n",
              "      <script>\n",
              "        const buttonEl =\n",
              "          document.querySelector('#df-8ebdbe94-1877-46b0-b73d-27eee69d3779 button.colab-df-convert');\n",
              "        buttonEl.style.display =\n",
              "          google.colab.kernel.accessAllowed ? 'block' : 'none';\n",
              "\n",
              "        async function convertToInteractive(key) {\n",
              "          const element = document.querySelector('#df-8ebdbe94-1877-46b0-b73d-27eee69d3779');\n",
              "          const dataTable =\n",
              "            await google.colab.kernel.invokeFunction('convertToInteractive',\n",
              "                                                     [key], {});\n",
              "          if (!dataTable) return;\n",
              "\n",
              "          const docLinkHtml = 'Like what you see? Visit the ' +\n",
              "            '<a target=\"_blank\" href=https://colab.research.google.com/notebooks/data_table.ipynb>data table notebook</a>'\n",
              "            + ' to learn more about interactive tables.';\n",
              "          element.innerHTML = '';\n",
              "          dataTable['output_type'] = 'display_data';\n",
              "          await google.colab.output.renderOutput(dataTable, element);\n",
              "          const docLink = document.createElement('div');\n",
              "          docLink.innerHTML = docLinkHtml;\n",
              "          element.appendChild(docLink);\n",
              "        }\n",
              "      </script>\n",
              "    </div>\n",
              "  </div>\n",
              "  "
            ]
          },
          "metadata": {},
          "execution_count": 36
        }
      ]
    },
    {
      "cell_type": "code",
      "metadata": {
        "colab": {
          "base_uri": "https://localhost:8080/"
        },
        "id": "xoC5xvGGPw-X",
        "outputId": "3abac28c-ada4-4a84-e560-de214bfa8db7"
      },
      "source": [
        "# Print cell.\n",
        "print('check_final_df',(combined_data.shape))"
      ],
      "execution_count": 37,
      "outputs": [
        {
          "output_type": "stream",
          "name": "stdout",
          "text": [
            "check_final_df (154567, 39)\n"
          ]
        }
      ]
    },
    {
      "cell_type": "markdown",
      "metadata": {
        "id": "kAsgbsEn6lzv"
      },
      "source": [
        "Let's write out the modified data we created to a file so that we can reuse it in Section 2."
      ]
    },
    {
      "cell_type": "code",
      "metadata": {
        "id": "-t8fKXq36k6P"
      },
      "source": [
        "combined_data_sec_2 = combined_data.copy()\n",
        "combined_data_sec_2.rename(columns = {'views_log':'label'}, inplace = True) \n",
        "combined_data_sec_2.to_csv('combined_data.csv')"
      ],
      "execution_count": 38,
      "outputs": []
    },
    {
      "cell_type": "markdown",
      "metadata": {
        "id": "FIcXjRtDMlFt"
      },
      "source": [
        "#### 5.2.8: Split into x and y (1 pt)\n",
        "\n",
        "Split the data into features and label, in this case the features are anything but views_log and the label is views_log."
      ]
    },
    {
      "cell_type": "code",
      "metadata": {
        "colab": {
          "base_uri": "https://localhost:8080/"
        },
        "id": "8OnpKl4JaSxi",
        "outputId": "88447b06-e2ec-4ffa-c37f-dcf8e69ea46c"
      },
      "source": [
        "combined_data.columns"
      ],
      "execution_count": 39,
      "outputs": [
        {
          "output_type": "execute_result",
          "data": {
            "text/plain": [
              "Index(['comments_disabled', 'ratings_disabled', 'video_error_or_removed',\n",
              "       'likes_log', 'views_log', 'dislikes_log', 'comment_log', 'num_tags',\n",
              "       'desc_len', 'len_title', 'country_CA', 'country_FR', 'country_IN',\n",
              "       'country_US', 'category_Autos & Vehicles', 'category_Comedy',\n",
              "       'category_Education', 'category_Entertainment',\n",
              "       'category_Film & Animation', 'category_Gaming',\n",
              "       'category_Howto & Style', 'category_Movies', 'category_Music',\n",
              "       'category_News & Politics', 'category_Nonprofits & Activism',\n",
              "       'category_People & Blogs', 'category_Pets & Animals',\n",
              "       'category_Science & Technology', 'category_Shows', 'category_Sports',\n",
              "       'category_Trailers', 'category_Travel & Events', 'publish_weekday_1',\n",
              "       'publish_weekday_2', 'publish_weekday_3', 'publish_weekday_4',\n",
              "       'publish_weekday_5', 'publish_weekday_6', 'publish_weekday_7'],\n",
              "      dtype='object')"
            ]
          },
          "metadata": {},
          "execution_count": 39
        }
      ]
    },
    {
      "cell_type": "code",
      "metadata": {
        "id": "3nSwRvMSSFa3"
      },
      "source": [
        "# Add your code here\n",
        "combined_data=pd.read_csv('combined_data.csv').set_index('video_id')\n",
        "label = combined_data['label']\n",
        "features = combined_data.drop(['label'],axis=1)"
      ],
      "execution_count": 40,
      "outputs": []
    },
    {
      "cell_type": "code",
      "metadata": {
        "colab": {
          "base_uri": "https://localhost:8080/",
          "height": 536
        },
        "id": "PhRsyfRLPvyQ",
        "outputId": "3339a3a4-c818-47ec-e2cd-b7bbb6a55b9a"
      },
      "source": [
        "combined_data"
      ],
      "execution_count": 41,
      "outputs": [
        {
          "output_type": "execute_result",
          "data": {
            "text/plain": [
              "             comments_disabled  ratings_disabled  video_error_or_removed  \\\n",
              "video_id                                                                   \n",
              "kzwfHumJyYc              False             False                   False   \n",
              "zUZ1z7FwLc8               True             False                   False   \n",
              "10L1hZ9qa58              False             False                   False   \n",
              "N1vE8iiEg64              False             False                   False   \n",
              "kJzGH0PVQHQ              False             False                   False   \n",
              "...                        ...               ...                     ...   \n",
              "1PhPYr_9zRY              False             False                   False   \n",
              "BZt0qjTWNhw              False             False                   False   \n",
              "D6Oy4LfoqsU              False             False                   False   \n",
              "oV0zkMe1K8s              False             False                   False   \n",
              "ooyjaVdt-jA              False             False                   False   \n",
              "\n",
              "             likes_log      label  dislikes_log  comment_log  num_tags  \\\n",
              "video_id                                                                 \n",
              "kzwfHumJyYc  10.433145  13.907477      6.683361     6.783325        15   \n",
              "zUZ1z7FwLc8   6.601230  13.288051      6.807935     0.000000        19   \n",
              "10L1hZ9qa58   7.606885  13.068939      5.497168     5.010635        14   \n",
              "N1vE8iiEg64  11.161295  14.032782      7.393263     7.895436        20   \n",
              "kJzGH0PVQHQ   6.200509  13.047674      5.683580     4.204693        11   \n",
              "...                ...        ...           ...          ...       ...   \n",
              "1PhPYr_9zRY  13.378383  15.926830      8.307213    11.044696        27   \n",
              "BZt0qjTWNhw  10.549569  14.337638      7.234177     7.885329        14   \n",
              "D6Oy4LfoqsU  10.780393  13.879848      6.940222     8.292298        24   \n",
              "oV0zkMe1K8s  12.170228  15.549078      7.954021     9.479527        22   \n",
              "ooyjaVdt-jA  12.785715  16.148248     12.268939    11.883081         4   \n",
              "\n",
              "             desc_len  len_title  ...  category_Sports  category_Trailers  \\\n",
              "video_id                          ...                                       \n",
              "kzwfHumJyYc       920         81  ...                0                  0   \n",
              "zUZ1z7FwLc8      2232         58  ...                0                  0   \n",
              "10L1hZ9qa58       482         58  ...                0                  0   \n",
              "N1vE8iiEg64       263         30  ...                0                  0   \n",
              "kJzGH0PVQHQ       753         88  ...                0                  0   \n",
              "...               ...        ...  ...              ...                ...   \n",
              "1PhPYr_9zRY       926         52  ...                0                  0   \n",
              "BZt0qjTWNhw        46         28  ...                0                  0   \n",
              "D6Oy4LfoqsU       775         84  ...                0                  0   \n",
              "oV0zkMe1K8s      3268         35  ...                0                  0   \n",
              "ooyjaVdt-jA       709         64  ...                0                  0   \n",
              "\n",
              "             category_Travel & Events  publish_weekday_1  publish_weekday_2  \\\n",
              "video_id                                                                      \n",
              "kzwfHumJyYc                         0                  0                  0   \n",
              "zUZ1z7FwLc8                         0                  1                  0   \n",
              "10L1hZ9qa58                         0                  0                  0   \n",
              "N1vE8iiEg64                         0                  0                  0   \n",
              "kJzGH0PVQHQ                         0                  1                  0   \n",
              "...                               ...                ...                ...   \n",
              "1PhPYr_9zRY                         0                  0                  0   \n",
              "BZt0qjTWNhw                         0                  0                  0   \n",
              "D6Oy4LfoqsU                         0                  0                  0   \n",
              "oV0zkMe1K8s                         0                  0                  0   \n",
              "ooyjaVdt-jA                         0                  0                  0   \n",
              "\n",
              "             publish_weekday_3  publish_weekday_4  publish_weekday_5  \\\n",
              "video_id                                                               \n",
              "kzwfHumJyYc                  0                  0                  0   \n",
              "zUZ1z7FwLc8                  0                  0                  0   \n",
              "10L1hZ9qa58                  0                  0                  0   \n",
              "N1vE8iiEg64                  0                  0                  0   \n",
              "kJzGH0PVQHQ                  0                  0                  0   \n",
              "...                        ...                ...                ...   \n",
              "1PhPYr_9zRY                  0                  0                  1   \n",
              "BZt0qjTWNhw                  0                  0                  1   \n",
              "D6Oy4LfoqsU                  0                  0                  1   \n",
              "oV0zkMe1K8s                  0                  1                  0   \n",
              "ooyjaVdt-jA                  0                  1                  0   \n",
              "\n",
              "             publish_weekday_6  publish_weekday_7  \n",
              "video_id                                           \n",
              "kzwfHumJyYc                  0                  1  \n",
              "zUZ1z7FwLc8                  0                  0  \n",
              "10L1hZ9qa58                  0                  1  \n",
              "N1vE8iiEg64                  0                  1  \n",
              "kJzGH0PVQHQ                  0                  0  \n",
              "...                        ...                ...  \n",
              "1PhPYr_9zRY                  0                  0  \n",
              "BZt0qjTWNhw                  0                  0  \n",
              "D6Oy4LfoqsU                  0                  0  \n",
              "oV0zkMe1K8s                  0                  0  \n",
              "ooyjaVdt-jA                  0                  0  \n",
              "\n",
              "[154567 rows x 39 columns]"
            ],
            "text/html": [
              "\n",
              "  <div id=\"df-0b7cfacb-98a6-4458-902b-4d09734c6844\">\n",
              "    <div class=\"colab-df-container\">\n",
              "      <div>\n",
              "<style scoped>\n",
              "    .dataframe tbody tr th:only-of-type {\n",
              "        vertical-align: middle;\n",
              "    }\n",
              "\n",
              "    .dataframe tbody tr th {\n",
              "        vertical-align: top;\n",
              "    }\n",
              "\n",
              "    .dataframe thead th {\n",
              "        text-align: right;\n",
              "    }\n",
              "</style>\n",
              "<table border=\"1\" class=\"dataframe\">\n",
              "  <thead>\n",
              "    <tr style=\"text-align: right;\">\n",
              "      <th></th>\n",
              "      <th>comments_disabled</th>\n",
              "      <th>ratings_disabled</th>\n",
              "      <th>video_error_or_removed</th>\n",
              "      <th>likes_log</th>\n",
              "      <th>label</th>\n",
              "      <th>dislikes_log</th>\n",
              "      <th>comment_log</th>\n",
              "      <th>num_tags</th>\n",
              "      <th>desc_len</th>\n",
              "      <th>len_title</th>\n",
              "      <th>...</th>\n",
              "      <th>category_Sports</th>\n",
              "      <th>category_Trailers</th>\n",
              "      <th>category_Travel &amp; Events</th>\n",
              "      <th>publish_weekday_1</th>\n",
              "      <th>publish_weekday_2</th>\n",
              "      <th>publish_weekday_3</th>\n",
              "      <th>publish_weekday_4</th>\n",
              "      <th>publish_weekday_5</th>\n",
              "      <th>publish_weekday_6</th>\n",
              "      <th>publish_weekday_7</th>\n",
              "    </tr>\n",
              "    <tr>\n",
              "      <th>video_id</th>\n",
              "      <th></th>\n",
              "      <th></th>\n",
              "      <th></th>\n",
              "      <th></th>\n",
              "      <th></th>\n",
              "      <th></th>\n",
              "      <th></th>\n",
              "      <th></th>\n",
              "      <th></th>\n",
              "      <th></th>\n",
              "      <th></th>\n",
              "      <th></th>\n",
              "      <th></th>\n",
              "      <th></th>\n",
              "      <th></th>\n",
              "      <th></th>\n",
              "      <th></th>\n",
              "      <th></th>\n",
              "      <th></th>\n",
              "      <th></th>\n",
              "      <th></th>\n",
              "    </tr>\n",
              "  </thead>\n",
              "  <tbody>\n",
              "    <tr>\n",
              "      <th>kzwfHumJyYc</th>\n",
              "      <td>False</td>\n",
              "      <td>False</td>\n",
              "      <td>False</td>\n",
              "      <td>10.433145</td>\n",
              "      <td>13.907477</td>\n",
              "      <td>6.683361</td>\n",
              "      <td>6.783325</td>\n",
              "      <td>15</td>\n",
              "      <td>920</td>\n",
              "      <td>81</td>\n",
              "      <td>...</td>\n",
              "      <td>0</td>\n",
              "      <td>0</td>\n",
              "      <td>0</td>\n",
              "      <td>0</td>\n",
              "      <td>0</td>\n",
              "      <td>0</td>\n",
              "      <td>0</td>\n",
              "      <td>0</td>\n",
              "      <td>0</td>\n",
              "      <td>1</td>\n",
              "    </tr>\n",
              "    <tr>\n",
              "      <th>zUZ1z7FwLc8</th>\n",
              "      <td>True</td>\n",
              "      <td>False</td>\n",
              "      <td>False</td>\n",
              "      <td>6.601230</td>\n",
              "      <td>13.288051</td>\n",
              "      <td>6.807935</td>\n",
              "      <td>0.000000</td>\n",
              "      <td>19</td>\n",
              "      <td>2232</td>\n",
              "      <td>58</td>\n",
              "      <td>...</td>\n",
              "      <td>0</td>\n",
              "      <td>0</td>\n",
              "      <td>0</td>\n",
              "      <td>1</td>\n",
              "      <td>0</td>\n",
              "      <td>0</td>\n",
              "      <td>0</td>\n",
              "      <td>0</td>\n",
              "      <td>0</td>\n",
              "      <td>0</td>\n",
              "    </tr>\n",
              "    <tr>\n",
              "      <th>10L1hZ9qa58</th>\n",
              "      <td>False</td>\n",
              "      <td>False</td>\n",
              "      <td>False</td>\n",
              "      <td>7.606885</td>\n",
              "      <td>13.068939</td>\n",
              "      <td>5.497168</td>\n",
              "      <td>5.010635</td>\n",
              "      <td>14</td>\n",
              "      <td>482</td>\n",
              "      <td>58</td>\n",
              "      <td>...</td>\n",
              "      <td>0</td>\n",
              "      <td>0</td>\n",
              "      <td>0</td>\n",
              "      <td>0</td>\n",
              "      <td>0</td>\n",
              "      <td>0</td>\n",
              "      <td>0</td>\n",
              "      <td>0</td>\n",
              "      <td>0</td>\n",
              "      <td>1</td>\n",
              "    </tr>\n",
              "    <tr>\n",
              "      <th>N1vE8iiEg64</th>\n",
              "      <td>False</td>\n",
              "      <td>False</td>\n",
              "      <td>False</td>\n",
              "      <td>11.161295</td>\n",
              "      <td>14.032782</td>\n",
              "      <td>7.393263</td>\n",
              "      <td>7.895436</td>\n",
              "      <td>20</td>\n",
              "      <td>263</td>\n",
              "      <td>30</td>\n",
              "      <td>...</td>\n",
              "      <td>0</td>\n",
              "      <td>0</td>\n",
              "      <td>0</td>\n",
              "      <td>0</td>\n",
              "      <td>0</td>\n",
              "      <td>0</td>\n",
              "      <td>0</td>\n",
              "      <td>0</td>\n",
              "      <td>0</td>\n",
              "      <td>1</td>\n",
              "    </tr>\n",
              "    <tr>\n",
              "      <th>kJzGH0PVQHQ</th>\n",
              "      <td>False</td>\n",
              "      <td>False</td>\n",
              "      <td>False</td>\n",
              "      <td>6.200509</td>\n",
              "      <td>13.047674</td>\n",
              "      <td>5.683580</td>\n",
              "      <td>4.204693</td>\n",
              "      <td>11</td>\n",
              "      <td>753</td>\n",
              "      <td>88</td>\n",
              "      <td>...</td>\n",
              "      <td>0</td>\n",
              "      <td>0</td>\n",
              "      <td>0</td>\n",
              "      <td>1</td>\n",
              "      <td>0</td>\n",
              "      <td>0</td>\n",
              "      <td>0</td>\n",
              "      <td>0</td>\n",
              "      <td>0</td>\n",
              "      <td>0</td>\n",
              "    </tr>\n",
              "    <tr>\n",
              "      <th>...</th>\n",
              "      <td>...</td>\n",
              "      <td>...</td>\n",
              "      <td>...</td>\n",
              "      <td>...</td>\n",
              "      <td>...</td>\n",
              "      <td>...</td>\n",
              "      <td>...</td>\n",
              "      <td>...</td>\n",
              "      <td>...</td>\n",
              "      <td>...</td>\n",
              "      <td>...</td>\n",
              "      <td>...</td>\n",
              "      <td>...</td>\n",
              "      <td>...</td>\n",
              "      <td>...</td>\n",
              "      <td>...</td>\n",
              "      <td>...</td>\n",
              "      <td>...</td>\n",
              "      <td>...</td>\n",
              "      <td>...</td>\n",
              "      <td>...</td>\n",
              "    </tr>\n",
              "    <tr>\n",
              "      <th>1PhPYr_9zRY</th>\n",
              "      <td>False</td>\n",
              "      <td>False</td>\n",
              "      <td>False</td>\n",
              "      <td>13.378383</td>\n",
              "      <td>15.926830</td>\n",
              "      <td>8.307213</td>\n",
              "      <td>11.044696</td>\n",
              "      <td>27</td>\n",
              "      <td>926</td>\n",
              "      <td>52</td>\n",
              "      <td>...</td>\n",
              "      <td>0</td>\n",
              "      <td>0</td>\n",
              "      <td>0</td>\n",
              "      <td>0</td>\n",
              "      <td>0</td>\n",
              "      <td>0</td>\n",
              "      <td>0</td>\n",
              "      <td>1</td>\n",
              "      <td>0</td>\n",
              "      <td>0</td>\n",
              "    </tr>\n",
              "    <tr>\n",
              "      <th>BZt0qjTWNhw</th>\n",
              "      <td>False</td>\n",
              "      <td>False</td>\n",
              "      <td>False</td>\n",
              "      <td>10.549569</td>\n",
              "      <td>14.337638</td>\n",
              "      <td>7.234177</td>\n",
              "      <td>7.885329</td>\n",
              "      <td>14</td>\n",
              "      <td>46</td>\n",
              "      <td>28</td>\n",
              "      <td>...</td>\n",
              "      <td>0</td>\n",
              "      <td>0</td>\n",
              "      <td>0</td>\n",
              "      <td>0</td>\n",
              "      <td>0</td>\n",
              "      <td>0</td>\n",
              "      <td>0</td>\n",
              "      <td>1</td>\n",
              "      <td>0</td>\n",
              "      <td>0</td>\n",
              "    </tr>\n",
              "    <tr>\n",
              "      <th>D6Oy4LfoqsU</th>\n",
              "      <td>False</td>\n",
              "      <td>False</td>\n",
              "      <td>False</td>\n",
              "      <td>10.780393</td>\n",
              "      <td>13.879848</td>\n",
              "      <td>6.940222</td>\n",
              "      <td>8.292298</td>\n",
              "      <td>24</td>\n",
              "      <td>775</td>\n",
              "      <td>84</td>\n",
              "      <td>...</td>\n",
              "      <td>0</td>\n",
              "      <td>0</td>\n",
              "      <td>0</td>\n",
              "      <td>0</td>\n",
              "      <td>0</td>\n",
              "      <td>0</td>\n",
              "      <td>0</td>\n",
              "      <td>1</td>\n",
              "      <td>0</td>\n",
              "      <td>0</td>\n",
              "    </tr>\n",
              "    <tr>\n",
              "      <th>oV0zkMe1K8s</th>\n",
              "      <td>False</td>\n",
              "      <td>False</td>\n",
              "      <td>False</td>\n",
              "      <td>12.170228</td>\n",
              "      <td>15.549078</td>\n",
              "      <td>7.954021</td>\n",
              "      <td>9.479527</td>\n",
              "      <td>22</td>\n",
              "      <td>3268</td>\n",
              "      <td>35</td>\n",
              "      <td>...</td>\n",
              "      <td>0</td>\n",
              "      <td>0</td>\n",
              "      <td>0</td>\n",
              "      <td>0</td>\n",
              "      <td>0</td>\n",
              "      <td>0</td>\n",
              "      <td>1</td>\n",
              "      <td>0</td>\n",
              "      <td>0</td>\n",
              "      <td>0</td>\n",
              "    </tr>\n",
              "    <tr>\n",
              "      <th>ooyjaVdt-jA</th>\n",
              "      <td>False</td>\n",
              "      <td>False</td>\n",
              "      <td>False</td>\n",
              "      <td>12.785715</td>\n",
              "      <td>16.148248</td>\n",
              "      <td>12.268939</td>\n",
              "      <td>11.883081</td>\n",
              "      <td>4</td>\n",
              "      <td>709</td>\n",
              "      <td>64</td>\n",
              "      <td>...</td>\n",
              "      <td>0</td>\n",
              "      <td>0</td>\n",
              "      <td>0</td>\n",
              "      <td>0</td>\n",
              "      <td>0</td>\n",
              "      <td>0</td>\n",
              "      <td>1</td>\n",
              "      <td>0</td>\n",
              "      <td>0</td>\n",
              "      <td>0</td>\n",
              "    </tr>\n",
              "  </tbody>\n",
              "</table>\n",
              "<p>154567 rows × 39 columns</p>\n",
              "</div>\n",
              "      <button class=\"colab-df-convert\" onclick=\"convertToInteractive('df-0b7cfacb-98a6-4458-902b-4d09734c6844')\"\n",
              "              title=\"Convert this dataframe to an interactive table.\"\n",
              "              style=\"display:none;\">\n",
              "        \n",
              "  <svg xmlns=\"http://www.w3.org/2000/svg\" height=\"24px\"viewBox=\"0 0 24 24\"\n",
              "       width=\"24px\">\n",
              "    <path d=\"M0 0h24v24H0V0z\" fill=\"none\"/>\n",
              "    <path d=\"M18.56 5.44l.94 2.06.94-2.06 2.06-.94-2.06-.94-.94-2.06-.94 2.06-2.06.94zm-11 1L8.5 8.5l.94-2.06 2.06-.94-2.06-.94L8.5 2.5l-.94 2.06-2.06.94zm10 10l.94 2.06.94-2.06 2.06-.94-2.06-.94-.94-2.06-.94 2.06-2.06.94z\"/><path d=\"M17.41 7.96l-1.37-1.37c-.4-.4-.92-.59-1.43-.59-.52 0-1.04.2-1.43.59L10.3 9.45l-7.72 7.72c-.78.78-.78 2.05 0 2.83L4 21.41c.39.39.9.59 1.41.59.51 0 1.02-.2 1.41-.59l7.78-7.78 2.81-2.81c.8-.78.8-2.07 0-2.86zM5.41 20L4 18.59l7.72-7.72 1.47 1.35L5.41 20z\"/>\n",
              "  </svg>\n",
              "      </button>\n",
              "      \n",
              "  <style>\n",
              "    .colab-df-container {\n",
              "      display:flex;\n",
              "      flex-wrap:wrap;\n",
              "      gap: 12px;\n",
              "    }\n",
              "\n",
              "    .colab-df-convert {\n",
              "      background-color: #E8F0FE;\n",
              "      border: none;\n",
              "      border-radius: 50%;\n",
              "      cursor: pointer;\n",
              "      display: none;\n",
              "      fill: #1967D2;\n",
              "      height: 32px;\n",
              "      padding: 0 0 0 0;\n",
              "      width: 32px;\n",
              "    }\n",
              "\n",
              "    .colab-df-convert:hover {\n",
              "      background-color: #E2EBFA;\n",
              "      box-shadow: 0px 1px 2px rgba(60, 64, 67, 0.3), 0px 1px 3px 1px rgba(60, 64, 67, 0.15);\n",
              "      fill: #174EA6;\n",
              "    }\n",
              "\n",
              "    [theme=dark] .colab-df-convert {\n",
              "      background-color: #3B4455;\n",
              "      fill: #D2E3FC;\n",
              "    }\n",
              "\n",
              "    [theme=dark] .colab-df-convert:hover {\n",
              "      background-color: #434B5C;\n",
              "      box-shadow: 0px 1px 3px 1px rgba(0, 0, 0, 0.15);\n",
              "      filter: drop-shadow(0px 1px 2px rgba(0, 0, 0, 0.3));\n",
              "      fill: #FFFFFF;\n",
              "    }\n",
              "  </style>\n",
              "\n",
              "      <script>\n",
              "        const buttonEl =\n",
              "          document.querySelector('#df-0b7cfacb-98a6-4458-902b-4d09734c6844 button.colab-df-convert');\n",
              "        buttonEl.style.display =\n",
              "          google.colab.kernel.accessAllowed ? 'block' : 'none';\n",
              "\n",
              "        async function convertToInteractive(key) {\n",
              "          const element = document.querySelector('#df-0b7cfacb-98a6-4458-902b-4d09734c6844');\n",
              "          const dataTable =\n",
              "            await google.colab.kernel.invokeFunction('convertToInteractive',\n",
              "                                                     [key], {});\n",
              "          if (!dataTable) return;\n",
              "\n",
              "          const docLinkHtml = 'Like what you see? Visit the ' +\n",
              "            '<a target=\"_blank\" href=https://colab.research.google.com/notebooks/data_table.ipynb>data table notebook</a>'\n",
              "            + ' to learn more about interactive tables.';\n",
              "          element.innerHTML = '';\n",
              "          dataTable['output_type'] = 'display_data';\n",
              "          await google.colab.output.renderOutput(dataTable, element);\n",
              "          const docLink = document.createElement('div');\n",
              "          docLink.innerHTML = docLinkHtml;\n",
              "          element.appendChild(docLink);\n",
              "        }\n",
              "      </script>\n",
              "    </div>\n",
              "  </div>\n",
              "  "
            ]
          },
          "metadata": {},
          "execution_count": 41
        }
      ]
    },
    {
      "cell_type": "code",
      "metadata": {
        "colab": {
          "base_uri": "https://localhost:8080/"
        },
        "id": "r6opJ4LOPygd",
        "outputId": "a71e9627-8136-4c39-db0d-4133f0bc0fd8"
      },
      "source": [
        "# print cell\n",
        "print('check_x_y_split',([features.shape, label.describe()]))"
      ],
      "execution_count": 42,
      "outputs": [
        {
          "output_type": "stream",
          "name": "stdout",
          "text": [
            "check_x_y_split [(154567, 38), count    154567.000000\n",
            "mean         12.552680\n",
            "std           1.816821\n",
            "min           5.411646\n",
            "25%          11.469496\n",
            "50%          12.655328\n",
            "75%          13.761413\n",
            "max          19.232552\n",
            "Name: label, dtype: float64]\n"
          ]
        }
      ]
    },
    {
      "cell_type": "markdown",
      "metadata": {
        "id": "a9rwVcftQJwu"
      },
      "source": [
        "## 5.3 : Machine Learning using sklearn (15 pts)\n",
        "\n",
        "Scikit-learn (formerly scikits.learn and also known as sklearn) is a free software machine learning library for the Python programming language. It features various classification, regression and clustering algorithms including support vector machines, random forests, gradient boosting, k-means and DBSCAN, and is designed to interoperate with the Python numerical and scientific libraries NumPy and SciPy.\n",
        "\n",
        "You can find the documentation [here](https://scikit-learn.org/stable/modules/classes.html)\n",
        "\n",
        "Now we will train some machine learning models using sklearn to predict views, rather than predicting views directly we will predict views_log to avoid numerical instability issues"
      ]
    },
    {
      "cell_type": "markdown",
      "metadata": {
        "id": "5955JflOaxtP"
      },
      "source": [
        "### 5.3.1 : Split data into train and test (1 pt)\n",
        "\n",
        "Use sklearn's train_test_split library and split data into train and test sets, the split should be 80-20 meaning 80% for training and rest for testing.\n"
      ]
    },
    {
      "cell_type": "code",
      "metadata": {
        "id": "1b5bKkQkR9lT"
      },
      "source": [
        "from sklearn.model_selection import train_test_split\n",
        "# Add your code here\n",
        "x_train, x_test, y_train, y_test = train_test_split(features.values, label.values, test_size=0.2, random_state=0)\n",
        "from sklearn.preprocessing import StandardScaler\n",
        "sc = StandardScaler()\n",
        "x_train = sc.fit_transform(x_train)\n",
        "x_test = sc.transform(x_test)"
      ],
      "execution_count": 43,
      "outputs": []
    },
    {
      "cell_type": "code",
      "metadata": {
        "colab": {
          "base_uri": "https://localhost:8080/"
        },
        "id": "azYR-gZ1QKwK",
        "outputId": "b53bfd5c-3a7b-4cb9-a873-246c6aa79323"
      },
      "source": [
        "# print cell.\n",
        "print('check_data_split',[x_train.shape,x_test.shape,y_train.shape,y_test.shape])"
      ],
      "execution_count": 44,
      "outputs": [
        {
          "output_type": "stream",
          "name": "stdout",
          "text": [
            "check_data_split [(123653, 38), (30914, 38), (123653,), (30914,)]\n"
          ]
        }
      ]
    },
    {
      "cell_type": "markdown",
      "metadata": {
        "id": "dbfiYK_8RGKI"
      },
      "source": [
        "### 5.3.2: Train Machine Learning Models."
      ]
    },
    {
      "cell_type": "markdown",
      "metadata": {
        "id": "7EPYfVVMRMDd"
      },
      "source": [
        "#### 5.3.2.1 Linear Regression (3 pts)\n",
        "\n",
        "In this step we will train a linear regression model using sklearn. Train using the training data and then make predictions of test, report the mean squared error obtained on both train and test sets."
      ]
    },
    {
      "cell_type": "code",
      "metadata": {
        "colab": {
          "base_uri": "https://localhost:8080/"
        },
        "id": "A6wS3Rc_TZGT",
        "outputId": "619139c2-560b-4aa4-bd96-184b6c9e7ab6"
      },
      "source": [
        "from sklearn.linear_model import LinearRegression\n",
        "from sklearn.metrics import mean_squared_error\n",
        "# Add your code here\n",
        "from sklearn.metrics import accuracy_score, mean_absolute_error, mean_squared_error\n",
        "\n",
        "# Create linear regression object\n",
        "lin_R = LinearRegression()\n",
        "\n",
        "# Train the model using the training sets\n",
        "lin_R.fit(x_train, y_train)\n",
        "\n",
        "# Make predictions\n",
        "\n",
        "y_predict_test = lin_R.predict(x_test)\n",
        "y_predict_train= lin_R.predict(x_train)\n",
        "\n",
        "# The coefficients\n",
        "#print('Coefficients: \\n', lin_R.coef_)\n",
        "\n",
        "print('r Squared: %.2f'\n",
        "      % lin_R.score(x_test, y_test))\n",
        "\n",
        "print('mse_value of Test=',mean_squared_error(y_test, y_predict_test))\n",
        "print('mse_value of Train=',mean_squared_error(y_train, y_predict_train))\n",
        "mse_test= mean_squared_error(y_test, y_predict_test)"
      ],
      "execution_count": 45,
      "outputs": [
        {
          "output_type": "stream",
          "name": "stdout",
          "text": [
            "r Squared: 0.87\n",
            "mse_value of Test= 0.44619795965771836\n",
            "mse_value of Train= 0.4454890280845554\n"
          ]
        }
      ]
    },
    {
      "cell_type": "code",
      "metadata": {
        "id": "YmSfKICYQLuh",
        "colab": {
          "base_uri": "https://localhost:8080/"
        },
        "outputId": "87285df5-daac-483a-8043-b79b1d7346e3"
      },
      "source": [
        "print('check_lr', (np.sqrt(mean_squared_error(y_test, y_predict_test))))"
      ],
      "execution_count": 46,
      "outputs": [
        {
          "output_type": "stream",
          "name": "stdout",
          "text": [
            "check_lr 0.6679805084414652\n"
          ]
        }
      ]
    },
    {
      "cell_type": "markdown",
      "metadata": {
        "id": "jpu9aiyYbAUS"
      },
      "source": [
        "#### 5.3.2.2  Dimensionality reduction with PCA (6 pts)\n",
        "\n"
      ]
    },
    {
      "cell_type": "markdown",
      "metadata": {
        "id": "aTqcy4x-TXv9"
      },
      "source": [
        "##### Step 1: Fitting PCA and explained_variance_ratiio\n",
        "Use Principal component analysis to reduce number of dimensions of the dataset, as a first step fit a pca model on your train set and then plot the explained_variance_ratio against the number of components to decide the number of components you should keep. (3 pts)"
      ]
    },
    {
      "cell_type": "code",
      "metadata": {
        "id": "NjpuExM0Vx8s",
        "colab": {
          "base_uri": "https://localhost:8080/",
          "height": 332
        },
        "outputId": "5db6ea92-76f4-45d9-fad9-fbdafa15d394"
      },
      "source": [
        "import numpy as np\n",
        "from sklearn.decomposition import PCA\n",
        "from sklearn.preprocessing import StandardScaler\n",
        "# Add your code here\n",
        "\n",
        "pca = PCA()\n",
        "sc = StandardScaler()\n",
        "x_train_std=pca.fit_transform(x_train)\n",
        "np.set_printoptions(suppress=True)\n",
        "var_vs_pca = np.cumsum(pca.explained_variance_ratio_)\n",
        "print([(i,x) for i, x in enumerate(var_vs_pca)])\n",
        "# plotting the explained_variance_ratio against the number of components\n",
        "plt.plot(var_vs_pca)"
      ],
      "execution_count": 47,
      "outputs": [
        {
          "output_type": "stream",
          "name": "stdout",
          "text": [
            "[(0, 0.09115519280825651), (1, 0.13958318926248847), (2, 0.17827771788686086), (3, 0.21660452532355026), (4, 0.2507000371814869), (5, 0.2841311945831447), (6, 0.31695500401346827), (7, 0.3484584471561597), (8, 0.3796155283820963), (9, 0.4106051332235178), (10, 0.44116855746369343), (11, 0.4710178167134483), (12, 0.5005390043481894), (13, 0.5293549532522641), (14, 0.5577740247266977), (15, 0.5857778381496183), (16, 0.6132548974589934), (17, 0.6402641211091159), (18, 0.6670780439509041), (19, 0.6937153946954869), (20, 0.720188218346846), (21, 0.7465187895519567), (22, 0.7728352495925651), (23, 0.7990089702536445), (24, 0.8247501503676918), (25, 0.8503006099999767), (26, 0.8752632491439942), (27, 0.8998882203209904), (28, 0.9225058175039436), (29, 0.942989191504285), (30, 0.9621286810012457), (31, 0.9794212796033664), (32, 0.9948917602425853), (33, 0.9982954701179623), (34, 0.9999999999999999), (35, 0.9999999999999999), (36, 0.9999999999999999), (37, 0.9999999999999999)]\n"
          ]
        },
        {
          "output_type": "execute_result",
          "data": {
            "text/plain": [
              "[<matplotlib.lines.Line2D at 0x7f8b63b74dc0>]"
            ]
          },
          "metadata": {},
          "execution_count": 47
        },
        {
          "output_type": "display_data",
          "data": {
            "text/plain": [
              "<Figure size 432x288 with 1 Axes>"
            ],
            "image/png": "[encoded data removed]"
          },
          "metadata": {}
        }
      ]
    },
    {
      "cell_type": "code",
      "metadata": {
        "id": "tMkDsHu0MW81",
        "colab": {
          "base_uri": "https://localhost:8080/",
          "height": 332
        },
        "outputId": "08093906-613e-4717-c647-8e2a86afa7a1"
      },
      "source": [
        "#It is strating faltten with number of component = 34 (99% of variance)\n",
        "pca = PCA(34)\n",
        "x_train_std=pca.fit_transform(x_train)\n",
        "np.set_printoptions(suppress=True)\n",
        "var_vs_pca = np.cumsum(pca.explained_variance_ratio_)\n",
        "print([(i,x) for i, x in enumerate(var_vs_pca)])\n",
        "# plotting the explained_variance_ratio against the number of components\n",
        "plt.plot(var_vs_pca)\n",
        "plt.plot(pd.Series(pca.explained_variance_ratio_))"
      ],
      "execution_count": 48,
      "outputs": [
        {
          "output_type": "stream",
          "name": "stdout",
          "text": [
            "[(0, 0.09115519280825651), (1, 0.13958318926248847), (2, 0.17827771788686086), (3, 0.21660452532355026), (4, 0.2507000371814869), (5, 0.2841311945831447), (6, 0.31695500401346827), (7, 0.3484584471561597), (8, 0.3796155283820963), (9, 0.4106051332235178), (10, 0.44116855746369343), (11, 0.4710178167134483), (12, 0.5005390043481894), (13, 0.5293549532522641), (14, 0.5577740247266977), (15, 0.5857778381496183), (16, 0.6132548974589934), (17, 0.6402641211091159), (18, 0.6670780439509041), (19, 0.6937153946954869), (20, 0.720188218346846), (21, 0.7465187895519567), (22, 0.7728352495925651), (23, 0.7990089702536445), (24, 0.8247501503676918), (25, 0.8503006099999767), (26, 0.8752632491439942), (27, 0.8998882203209904), (28, 0.9225058175039436), (29, 0.942989191504285), (30, 0.9621286810012457), (31, 0.9794212796033664), (32, 0.9948917602425853), (33, 0.9982954701179623)]\n"
          ]
        },
        {
          "output_type": "execute_result",
          "data": {
            "text/plain": [
              "[<matplotlib.lines.Line2D at 0x7f8b63d6e280>]"
            ]
          },
          "metadata": {},
          "execution_count": 48
        },
        {
          "output_type": "display_data",
          "data": {
            "text/plain": [
              "<Figure size 432x288 with 1 Axes>"
            ],
            "image/png": "[encoded data removed]"
          },
          "metadata": {}
        }
      ]
    },
    {
      "cell_type": "markdown",
      "metadata": {
        "id": "jPbEQwiRR2Ta"
      },
      "source": [
        "##### Step 2: Deciding number of components to keep\n",
        "Use the plot to decide the number of components to keep, choose a number that explains atleast 95% of variance in the dataset. Then fit and transform your pca on training set using the number of components you decided. (1 pts)\n",
        "\n",
        "**Remember that your pca should be trained on the training set (and transformed here) but only transformed on the test set.**"
      ]
    },
    {
      "cell_type": "code",
      "metadata": {
        "id": "5OfN7anNQNFy"
      },
      "source": [
        "# Add your code here\n",
        "pca = PCA(n_components=34)\n",
        "x_train_Trans=pca.fit_transform(x_train)\n",
        "x_test_Trans=pca.transform(x_test)"
      ],
      "execution_count": 49,
      "outputs": []
    },
    {
      "cell_type": "code",
      "metadata": {
        "id": "lPiFyPW2XmPr",
        "colab": {
          "base_uri": "https://localhost:8080/"
        },
        "outputId": "06f05a2b-e8c5-44f5-be9c-c437a7c36046"
      },
      "source": [
        "# Print cell.\n",
        "print('check_pca', (x_train_Trans[:50,:]))"
      ],
      "execution_count": 50,
      "outputs": [
        {
          "output_type": "stream",
          "name": "stdout",
          "text": [
            "check_pca [[ 1.30957174 -1.49160918  1.27755133 ...  0.8880177  -0.5174053\n",
            "   0.35804414]\n",
            " [ 1.57292642 -1.34215966 -0.74480146 ... -0.24467492  0.73412419\n",
            "  -0.77592337]\n",
            " [ 1.47923611 -2.07921416  0.4958444  ...  0.20974823  0.155579\n",
            "  -0.25534992]\n",
            " ...\n",
            " [-0.47229094  1.06549725 -0.90243102 ...  1.62480956  1.1262418\n",
            "  -0.17709165]\n",
            " [ 1.34259387 -0.56208244 -0.67964645 ... -0.02482437 -0.91392081\n",
            "   0.66588963]\n",
            " [ 1.1132019   0.1754874  -0.90656239 ...  0.35778915 -0.36258812\n",
            "  -0.00645859]]\n"
          ]
        }
      ]
    },
    {
      "cell_type": "markdown",
      "metadata": {
        "id": "4sw_JKLLbMcc"
      },
      "source": [
        "### 5.3.2.3 Random Forest. (10 pts)\n",
        "\n"
      ]
    },
    {
      "cell_type": "code",
      "source": [
        "from google.colab import drive\n",
        "drive.mount('/content/drive')"
      ],
      "metadata": {
        "colab": {
          "base_uri": "https://localhost:8080/"
        },
        "id": "u6vK20uRXHqB",
        "outputId": "9d9a8702-1cbe-4970-de25-64ff1c7045dc"
      },
      "execution_count": 51,
      "outputs": [
        {
          "output_type": "stream",
          "name": "stdout",
          "text": [
            "Mounted at /content/drive\n"
          ]
        }
      ]
    },
    {
      "cell_type": "markdown",
      "metadata": {
        "id": "UwTfPha2TUub"
      },
      "source": [
        "##### Step 1: Hyperparameter tuning. \n",
        "Use grid search and train a random forest model on the transformed train dataset. Take a look at the sklearn `RandomForestRegressor` documentation and tune the max_depth hyperparameter using grid search. We have already tested the number of estimators hyperparameter for you. Note this section may take a while to run depending on how large your grid is. \n",
        "\n",
        "(Hint: refer to the GridSearchCV documentation and do some reading on how the max_depth in a RF model affects the result - while theory may help guide a rough estimate of possible hyperparameters, we can cross validate values using tools like GridSearch.\n",
        "\n",
        "Our autograder has tiered points for this question depending on your final MSE value but is fairly generous; we are not requiring that you find the **most** optimal value for this hyperparameter but rather demonstrate understanding of grid search optimization. (4 pts)\n"
      ]
    },
    {
      "cell_type": "code",
      "metadata": {
        "id": "W08Wd5JKZWyz",
        "colab": {
          "base_uri": "https://localhost:8080/"
        },
        "outputId": "8cca2a4b-d30b-40f5-e5e5-93c1ff1bd4e3"
      },
      "source": [
        "from sklearn.ensemble import ExtraTreesRegressor\n",
        "from sklearn.model_selection import GridSearchCV\n",
        "# Add your code here\n",
        "# Only tune the max depth of the trees in the RF hyperparameter.\n",
        "grid = GridSearchCV(estimator=ExtraTreesRegressor(), param_grid={'n_estimators':[100],'random_state':[0,100]})\n",
        "grid.fit(x_train_Trans, y_train)\n",
        "grid.best_params_\n",
        "# depth = [40]\n",
        "# nEstimator = [140]"
      ],
      "execution_count": 54,
      "outputs": [
        {
          "output_type": "execute_result",
          "data": {
            "text/plain": [
              "{'n_estimators': 100, 'random_state': 0}"
            ]
          },
          "metadata": {},
          "execution_count": 54
        }
      ]
    },
    {
      "cell_type": "markdown",
      "metadata": {
        "id": "cLnVsNVzS2Co"
      },
      "source": [
        "##### Step 2: Fitting RF\n",
        "Fit the random forest on the training data using the parameters you computed above. Then make predictions on the test set, report the root mean squared error for the test set. (3 pts)"
      ]
    },
    {
      "cell_type": "code",
      "metadata": {
        "id": "3avoNnIaZe3P"
      },
      "source": [
        "# Add your code here\n",
        "# Set n_estimators = 140\n",
        "reg_RF = ExtraTreesRegressor(n_estimators=100, random_state=0)\n",
        "reg_RF.fit(x_train_Trans, y_train)\n",
        "y_pred_RF = reg_RF.predict(x_test_Trans)"
      ],
      "execution_count": 55,
      "outputs": []
    },
    {
      "cell_type": "code",
      "metadata": {
        "id": "XYrdo2CgTThM",
        "colab": {
          "base_uri": "https://localhost:8080/"
        },
        "outputId": "5c8c95eb-1016-4ea9-ba21-73698616bdf6"
      },
      "source": [
        "# Print cell\n",
        "print('check_rf', (np.sqrt(mean_squared_error(y_test, y_pred_RF))))"
      ],
      "execution_count": 56,
      "outputs": [
        {
          "output_type": "stream",
          "name": "stdout",
          "text": [
            "check_rf 0.44699451543640745\n"
          ]
        }
      ]
    },
    {
      "cell_type": "markdown",
      "metadata": {
        "id": "-ywlOaie7wVF"
      },
      "source": [
        "## Almost halfway there :)\n",
        "\n",
        "Well done! Almost halfway there :)\n",
        "\n"
      ]
    },
    {
      "cell_type": "markdown",
      "metadata": {
        "id": "q_eSiS5ZbVjf"
      },
      "source": [
        "# Section 2 : Distributed Machine Learning with Spark (55 Points)\n",
        "\n",
        "Apache Spark ML is the machine learning library consisting of common learning algorithms and utilities, including classification, regression, clustering, collaborative filtering, dimensionality reduction, and underlying optimization primitives.\n",
        "\n",
        "Why Spark ML?\n",
        "\n",
        "Moving to the Big Data Era requires heavy iterative computations on very big datasets. Standard implementations of machine learning algorithms require very powerful machines to be able to run. Depending on high-end machines is not advantageous due to their high price and improper costs of scaling up. The idea of using distributed computing engines is to distribute the calculations to multiple low-end machines (commodity hardware) instead of a single high-end one. This definitely speeds up the learning phase and allows us to create better models.\n",
        "\n",
        "Read more about it with the python documentation [here](https://spark.apache.org/docs/latest/ml-guide.html)"
      ]
    },
    {
      "cell_type": "markdown",
      "metadata": {
        "id": "R4nyIijZhTXK"
      },
      "source": [
        "### Initializing Spark Connection - Boring setup stuff again\n"
      ]
    },
    {
      "cell_type": "code",
      "metadata": {
        "id": "G8RH4R771X6n",
        "colab": {
          "base_uri": "https://localhost:8080/"
        },
        "outputId": "059532c3-6c46-4ca0-e863-b9198c74e07f"
      },
      "source": [
        "!apt install libkrb5-dev\n",
        "!wget https://www-us.apache.org/dist/spark/spark-2.4.5/spark-2.4.5-bin-hadoop2.7.tgz\n",
        "!tar xf spark-2.4.5-bin-hadoop2.7.tgz\n",
        "!pip install findspark\n",
        "!pip install sparkmagic\n",
        "!pip install pyspark\n",
        "!pip install pyspark --user\n",
        "!pip install seaborn --user\n",
        "!pip install plotly --user\n",
        "!pip install imageio --user\n",
        "!pip install folium --user"
      ],
      "execution_count": 57,
      "outputs": [
        {
          "output_type": "stream",
          "name": "stdout",
          "text": [
            "Reading package lists... Done\n",
            "Building dependency tree       \n",
            "Reading state information... Done\n",
            "libkrb5-dev is already the newest version (1.17-6ubuntu4.2).\n",
            "libkrb5-dev set to manually installed.\n",
            "0 upgraded, 0 newly installed, 0 to remove and 19 not upgraded.\n",
            "--2023-02-26 18:07:04--  https://www-us.apache.org/dist/spark/spark-2.4.5/spark-2.4.5-bin-hadoop2.7.tgz\n",
            "Resolving www-us.apache.org (www-us.apache.org)... failed: Name or service not known.\n",
            "wget: unable to resolve host address ‘www-us.apache.org’\n",
            "tar: spark-2.4.5-bin-hadoop2.7.tgz: Cannot open: No such file or directory\n",
            "tar: Error is not recoverable: exiting now\n",
            "Looking in indexes: https://pypi.org/simple, https://us-python.pkg.dev/colab-wheels/public/simple/\n",
            "Collecting findspark\n",
            "  Downloading findspark-2.0.1-py2.py3-none-any.whl (4.4 kB)\n",
            "Installing collected packages: findspark\n",
            "Successfully installed findspark-2.0.1\n",
            "Looking in indexes: https://pypi.org/simple, https://us-python.pkg.dev/colab-wheels/public/simple/\n",
            "Collecting sparkmagic\n",
            "  Downloading sparkmagic-0.20.4.tar.gz (44 kB)\n",
            "\u001b[2K     \u001b[90m━━━━━━━━━━━━━━━━━━━━━━━━━━━━━━━━━━━━━━━━\u001b[0m \u001b[32m44.3/44.3 KB\u001b[0m \u001b[31m2.8 MB/s\u001b[0m eta \u001b[36m0:00:00\u001b[0m\n",
            "\u001b[?25h  Preparing metadata (setup.py) ... \u001b[?25l\u001b[?25hdone\n",
            "Collecting hdijupyterutils>=0.6\n",
            "  Downloading hdijupyterutils-0.20.4.tar.gz (5.1 kB)\n",
            "  Preparing metadata (setup.py) ... \u001b[?25l\u001b[?25hdone\n",
            "Collecting autovizwidget>=0.6\n",
            "  Downloading autovizwidget-0.20.4.tar.gz (9.0 kB)\n",
            "  Preparing metadata (setup.py) ... \u001b[?25l\u001b[?25hdone\n",
            "Requirement already satisfied: ipython>=4.0.2 in /usr/local/lib/python3.8/dist-packages (from sparkmagic) (7.9.0)\n",
            "Requirement already satisfied: pandas>=0.17.1 in /usr/local/lib/python3.8/dist-packages (from sparkmagic) (1.3.5)\n",
            "Requirement already satisfied: numpy in /usr/local/lib/python3.8/dist-packages (from sparkmagic) (1.24.2)\n",
            "Requirement already satisfied: requests in /usr/local/lib/python3.8/dist-packages (from sparkmagic) (2.25.1)\n",
            "Requirement already satisfied: ipykernel>=4.2.2 in /usr/local/lib/python3.8/dist-packages (from sparkmagic) (5.3.4)\n",
            "Requirement already satisfied: ipywidgets>5.0.0 in /usr/local/lib/python3.8/dist-packages (from sparkmagic) (7.7.1)\n",
            "Requirement already satisfied: notebook>=4.2 in /usr/local/lib/python3.8/dist-packages (from sparkmagic) (6.3.0)\n",
            "Requirement already satisfied: tornado>=4 in /usr/local/lib/python3.8/dist-packages (from sparkmagic) (6.2)\n",
            "Collecting requests_kerberos>=0.8.0\n",
            "  Downloading requests_kerberos-0.14.0-py2.py3-none-any.whl (11 kB)\n",
            "Collecting nest_asyncio==1.5.5\n",
            "  Downloading nest_asyncio-1.5.5-py3-none-any.whl (5.2 kB)\n",
            "Requirement already satisfied: plotly>=3 in /usr/local/lib/python3.8/dist-packages (from autovizwidget>=0.6->sparkmagic) (5.5.0)\n",
            "Collecting jupyter>=1\n",
            "  Downloading jupyter-1.0.0-py2.py3-none-any.whl (2.7 kB)\n",
            "Requirement already satisfied: jupyter-client in /usr/local/lib/python3.8/dist-packages (from ipykernel>=4.2.2->sparkmagic) (6.1.12)\n",
            "Requirement already satisfied: traitlets>=4.1.0 in /usr/local/lib/python3.8/dist-packages (from ipykernel>=4.2.2->sparkmagic) (5.7.1)\n",
            "Requirement already satisfied: prompt-toolkit<2.1.0,>=2.0.0 in /usr/local/lib/python3.8/dist-packages (from ipython>=4.0.2->sparkmagic) (2.0.10)\n",
            "Requirement already satisfied: setuptools>=18.5 in /usr/local/lib/python3.8/dist-packages (from ipython>=4.0.2->sparkmagic) (57.4.0)\n",
            "Requirement already satisfied: backcall in /usr/local/lib/python3.8/dist-packages (from ipython>=4.0.2->sparkmagic) (0.2.0)\n",
            "Requirement already satisfied: pexpect in /usr/local/lib/python3.8/dist-packages (from ipython>=4.0.2->sparkmagic) (4.8.0)\n",
            "Requirement already satisfied: pygments in /usr/local/lib/python3.8/dist-packages (from ipython>=4.0.2->sparkmagic) (2.6.1)\n",
            "Collecting jedi>=0.10\n",
            "  Downloading jedi-0.18.2-py2.py3-none-any.whl (1.6 MB)\n",
            "\u001b[2K     \u001b[90m━━━━━━━━━━━━━━━━━━━━━━━━━━━━━━━━━━━━━━━━\u001b[0m \u001b[32m1.6/1.6 MB\u001b[0m \u001b[31m26.2 MB/s\u001b[0m eta \u001b[36m0:00:00\u001b[0m\n",
            "\u001b[?25hRequirement already satisfied: pickleshare in /usr/local/lib/python3.8/dist-packages (from ipython>=4.0.2->sparkmagic) (0.7.5)\n",
            "Requirement already satisfied: decorator in /usr/local/lib/python3.8/dist-packages (from ipython>=4.0.2->sparkmagic) (4.4.2)\n",
            "Requirement already satisfied: ipython-genutils~=0.2.0 in /usr/local/lib/python3.8/dist-packages (from ipywidgets>5.0.0->sparkmagic) (0.2.0)\n",
            "Requirement already satisfied: jupyterlab-widgets>=1.0.0 in /usr/local/lib/python3.8/dist-packages (from ipywidgets>5.0.0->sparkmagic) (3.0.5)\n",
            "Requirement already satisfied: widgetsnbextension~=3.6.0 in /usr/local/lib/python3.8/dist-packages (from ipywidgets>5.0.0->sparkmagic) (3.6.2)\n",
            "Requirement already satisfied: nbformat in /usr/local/lib/python3.8/dist-packages (from notebook>=4.2->sparkmagic) (5.7.3)\n",
            "Requirement already satisfied: argon2-cffi in /usr/local/lib/python3.8/dist-packages (from notebook>=4.2->sparkmagic) (21.3.0)\n",
            "Requirement already satisfied: terminado>=0.8.3 in /usr/local/lib/python3.8/dist-packages (from notebook>=4.2->sparkmagic) (0.13.3)\n",
            "Requirement already satisfied: prometheus-client in /usr/local/lib/python3.8/dist-packages (from notebook>=4.2->sparkmagic) (0.16.0)\n",
            "Requirement already satisfied: nbconvert in /usr/local/lib/python3.8/dist-packages (from notebook>=4.2->sparkmagic) (5.6.1)\n",
            "Requirement already satisfied: pyzmq>=17 in /usr/local/lib/python3.8/dist-packages (from notebook>=4.2->sparkmagic) (23.2.1)\n",
            "Requirement already satisfied: jinja2 in /usr/local/lib/python3.8/dist-packages (from notebook>=4.2->sparkmagic) (2.11.3)\n",
            "Requirement already satisfied: jupyter-core>=4.6.1 in /usr/local/lib/python3.8/dist-packages (from notebook>=4.2->sparkmagic) (5.2.0)\n",
            "Requirement already satisfied: Send2Trash>=1.5.0 in /usr/local/lib/python3.8/dist-packages (from notebook>=4.2->sparkmagic) (1.8.0)\n",
            "Requirement already satisfied: python-dateutil>=2.7.3 in /usr/local/lib/python3.8/dist-packages (from pandas>=0.17.1->sparkmagic) (2.8.2)\n",
            "Requirement already satisfied: pytz>=2017.3 in /usr/local/lib/python3.8/dist-packages (from pandas>=0.17.1->sparkmagic) (2022.7.1)\n",
            "Collecting pyspnego[kerberos]\n",
            "  Downloading pyspnego-0.8.0-py3-none-any.whl (130 kB)\n",
            "\u001b[2K     \u001b[90m━━━━━━━━━━━━━━━━━━━━━━━━━━━━━━━━━━━━━━\u001b[0m \u001b[32m130.7/130.7 KB\u001b[0m \u001b[31m10.9 MB/s\u001b[0m eta \u001b[36m0:00:00\u001b[0m\n",
            "\u001b[?25hCollecting cryptography>=1.3\n",
            "  Downloading cryptography-39.0.1-cp36-abi3-manylinux_2_28_x86_64.whl (4.2 MB)\n",
            "\u001b[2K     \u001b[90m━━━━━━━━━━━━━━━━━━━━━━━━━━━━━━━━━━━━━━━━\u001b[0m \u001b[32m4.2/4.2 MB\u001b[0m \u001b[31m48.9 MB/s\u001b[0m eta \u001b[36m0:00:00\u001b[0m\n",
            "\u001b[?25hRequirement already satisfied: certifi>=2017.4.17 in /usr/local/lib/python3.8/dist-packages (from requests->sparkmagic) (2022.12.7)\n",
            "Requirement already satisfied: chardet<5,>=3.0.2 in /usr/local/lib/python3.8/dist-packages (from requests->sparkmagic) (4.0.0)\n",
            "Requirement already satisfied: urllib3<1.27,>=1.21.1 in /usr/local/lib/python3.8/dist-packages (from requests->sparkmagic) (1.24.3)\n",
            "Requirement already satisfied: idna<3,>=2.5 in /usr/local/lib/python3.8/dist-packages (from requests->sparkmagic) (2.10)\n",
            "Requirement already satisfied: cffi>=1.12 in /usr/local/lib/python3.8/dist-packages (from cryptography>=1.3->requests_kerberos>=0.8.0->sparkmagic) (1.15.1)\n",
            "Requirement already satisfied: parso<0.9.0,>=0.8.0 in /usr/local/lib/python3.8/dist-packages (from jedi>=0.10->ipython>=4.0.2->sparkmagic) (0.8.3)\n",
            "Collecting qtconsole\n",
            "  Downloading qtconsole-5.4.0-py3-none-any.whl (121 kB)\n",
            "\u001b[2K     \u001b[90m━━━━━━━━━━━━━━━━━━━━━━━━━━━━━━━━━━━━━━\u001b[0m \u001b[32m121.0/121.0 KB\u001b[0m \u001b[31m10.9 MB/s\u001b[0m eta \u001b[36m0:00:00\u001b[0m\n",
            "\u001b[?25hRequirement already satisfied: jupyter-console in /usr/local/lib/python3.8/dist-packages (from jupyter>=1->hdijupyterutils>=0.6->sparkmagic) (6.1.0)\n",
            "Requirement already satisfied: platformdirs>=2.5 in /usr/local/lib/python3.8/dist-packages (from jupyter-core>=4.6.1->notebook>=4.2->sparkmagic) (3.0.0)\n",
            "Requirement already satisfied: six in /usr/local/lib/python3.8/dist-packages (from plotly>=3->autovizwidget>=0.6->sparkmagic) (1.15.0)\n",
            "Requirement already satisfied: tenacity>=6.2.0 in /usr/local/lib/python3.8/dist-packages (from plotly>=3->autovizwidget>=0.6->sparkmagic) (8.2.1)\n",
            "Requirement already satisfied: wcwidth in /usr/local/lib/python3.8/dist-packages (from prompt-toolkit<2.1.0,>=2.0.0->ipython>=4.0.2->sparkmagic) (0.2.6)\n",
            "Requirement already satisfied: ptyprocess in /usr/local/lib/python3.8/dist-packages (from terminado>=0.8.3->notebook>=4.2->sparkmagic) (0.7.0)\n",
            "Requirement already satisfied: argon2-cffi-bindings in /usr/local/lib/python3.8/dist-packages (from argon2-cffi->notebook>=4.2->sparkmagic) (21.2.0)\n",
            "Requirement already satisfied: MarkupSafe>=0.23 in /usr/local/lib/python3.8/dist-packages (from jinja2->notebook>=4.2->sparkmagic) (2.0.1)\n",
            "Requirement already satisfied: defusedxml in /usr/local/lib/python3.8/dist-packages (from nbconvert->notebook>=4.2->sparkmagic) (0.7.1)\n",
            "Requirement already satisfied: entrypoints>=0.2.2 in /usr/local/lib/python3.8/dist-packages (from nbconvert->notebook>=4.2->sparkmagic) (0.4)\n",
            "Requirement already satisfied: testpath in /usr/local/lib/python3.8/dist-packages (from nbconvert->notebook>=4.2->sparkmagic) (0.6.0)\n",
            "Requirement already satisfied: mistune<2,>=0.8.1 in /usr/local/lib/python3.8/dist-packages (from nbconvert->notebook>=4.2->sparkmagic) (0.8.4)\n",
            "Requirement already satisfied: bleach in /usr/local/lib/python3.8/dist-packages (from nbconvert->notebook>=4.2->sparkmagic) (6.0.0)\n",
            "Requirement already satisfied: pandocfilters>=1.4.1 in /usr/local/lib/python3.8/dist-packages (from nbconvert->notebook>=4.2->sparkmagic) (1.5.0)\n",
            "Requirement already satisfied: fastjsonschema in /usr/local/lib/python3.8/dist-packages (from nbformat->notebook>=4.2->sparkmagic) (2.16.2)\n",
            "Requirement already satisfied: jsonschema>=2.6 in /usr/local/lib/python3.8/dist-packages (from nbformat->notebook>=4.2->sparkmagic) (4.3.3)\n",
            "Collecting gssapi>=1.6.0\n",
            "  Downloading gssapi-1.8.2.tar.gz (94 kB)\n",
            "\u001b[2K     \u001b[90m━━━━━━━━━━━━━━━━━━━━━━━━━━━━━━━━━━━━━━━━\u001b[0m \u001b[32m94.3/94.3 KB\u001b[0m \u001b[31m8.8 MB/s\u001b[0m eta \u001b[36m0:00:00\u001b[0m\n",
            "\u001b[?25h  Installing build dependencies ... \u001b[?25l\u001b[?25hdone\n",
            "  Getting requirements to build wheel ... \u001b[?25l\u001b[?25hdone\n",
            "  Installing backend dependencies ... \u001b[?25l\u001b[?25hdone\n",
            "  Preparing metadata (pyproject.toml) ... \u001b[?25l\u001b[?25hdone\n",
            "Collecting krb5>=0.3.0\n",
            "  Downloading krb5-0.5.0.tar.gz (220 kB)\n",
            "\u001b[2K     \u001b[90m━━━━━━━━━━━━━━━━━━━━━━━━━━━━━━━━━━━━━━\u001b[0m \u001b[32m221.0/221.0 KB\u001b[0m \u001b[31m18.6 MB/s\u001b[0m eta \u001b[36m0:00:00\u001b[0m\n",
            "\u001b[?25h  Installing build dependencies ... \u001b[?25l\u001b[?25hdone\n",
            "  Getting requirements to build wheel ... \u001b[?25l\u001b[?25hdone\n",
            "  Installing backend dependencies ... \u001b[?25l\u001b[?25hdone\n",
            "  Preparing metadata (pyproject.toml) ... \u001b[?25l\u001b[?25hdone\n",
            "Requirement already satisfied: pycparser in /usr/local/lib/python3.8/dist-packages (from cffi>=1.12->cryptography>=1.3->requests_kerberos>=0.8.0->sparkmagic) (2.21)\n",
            "Requirement already satisfied: pyrsistent!=0.17.0,!=0.17.1,!=0.17.2,>=0.14.0 in /usr/local/lib/python3.8/dist-packages (from jsonschema>=2.6->nbformat->notebook>=4.2->sparkmagic) (0.19.3)\n",
            "Requirement already satisfied: attrs>=17.4.0 in /usr/local/lib/python3.8/dist-packages (from jsonschema>=2.6->nbformat->notebook>=4.2->sparkmagic) (22.2.0)\n",
            "Requirement already satisfied: importlib-resources>=1.4.0 in /usr/local/lib/python3.8/dist-packages (from jsonschema>=2.6->nbformat->notebook>=4.2->sparkmagic) (5.12.0)\n",
            "Requirement already satisfied: webencodings in /usr/local/lib/python3.8/dist-packages (from bleach->nbconvert->notebook>=4.2->sparkmagic) (0.5.1)\n",
            "Collecting qtpy>=2.0.1\n",
            "  Downloading QtPy-2.3.0-py3-none-any.whl (83 kB)\n",
            "\u001b[2K     \u001b[90m━━━━━━━━━━━━━━━━━━━━━━━━━━━━━━━━━━━━━━━━\u001b[0m \u001b[32m83.6/83.6 KB\u001b[0m \u001b[31m7.6 MB/s\u001b[0m eta \u001b[36m0:00:00\u001b[0m\n",
            "\u001b[?25hRequirement already satisfied: zipp>=3.1.0 in /usr/local/lib/python3.8/dist-packages (from importlib-resources>=1.4.0->jsonschema>=2.6->nbformat->notebook>=4.2->sparkmagic) (3.14.0)\n",
            "Requirement already satisfied: packaging in /usr/local/lib/python3.8/dist-packages (from qtpy>=2.0.1->qtconsole->jupyter>=1->hdijupyterutils>=0.6->sparkmagic) (23.0)\n",
            "Building wheels for collected packages: sparkmagic, autovizwidget, hdijupyterutils, gssapi, krb5\n",
            "  Building wheel for sparkmagic (setup.py) ... \u001b[?25l\u001b[?25hdone\n",
            "  Created wheel for sparkmagic: filename=sparkmagic-0.20.4-py3-none-any.whl size=66610 sha256=3880709b2381c0fcedce87d7a40789076601d0c534cbdfeb3e79008b04f127c0\n",
            "  Stored in directory: /root/.cache/pip/wheels/92/ed/c4/e3ce0467862d17663ccba2452a3c2346cce1335b759fdc0b76\n",
            "  Building wheel for autovizwidget (setup.py) ... \u001b[?25l\u001b[?25hdone\n",
            "  Created wheel for autovizwidget: filename=autovizwidget-0.20.4-py3-none-any.whl size=14689 sha256=9ca9879add50315b26d46e343b04be6c7ff080339a7e24a92977ad100ef84cf6\n",
            "  Stored in directory: /root/.cache/pip/wheels/58/30/df/ece52dff09ef6411556c6167cc9153fcca5b533c82bdc3cb47\n",
            "  Building wheel for hdijupyterutils (setup.py) ... \u001b[?25l\u001b[?25hdone\n",
            "  Created wheel for hdijupyterutils: filename=hdijupyterutils-0.20.4-py3-none-any.whl size=7654 sha256=661a0c95e4951003d721d16b48ecd6cfc021dda7ad1a576e96ebb5828515e401\n",
            "  Stored in directory: /root/.cache/pip/wheels/66/d5/20/db872ecc9208754f6bf33b0b6dacdb861565f23c8c68d79c10\n",
            "  Building wheel for gssapi (pyproject.toml) ... \u001b[?25l\u001b[?25hdone\n",
            "  Created wheel for gssapi: filename=gssapi-1.8.2-cp38-cp38-linux_x86_64.whl size=3753937 sha256=2bbdbab1e4d1e9764e4c801abb9a50ff9cb6411d52e78f6b8e015c82fa7e63b2\n",
            "  Stored in directory: /root/.cache/pip/wheels/1a/9c/de/bcf42d46549ed9ebe297440653c62900202f06b90fd40151a3\n",
            "  Building wheel for krb5 (pyproject.toml) ... \u001b[?25l\u001b[?25hdone\n",
            "  Created wheel for krb5: filename=krb5-0.5.0-cp38-cp38-linux_x86_64.whl size=4580877 sha256=d65477980d6354d87c9a886a926ff64c0318327a2b4ba5dc1f16a4ee30da5fd4\n",
            "  Stored in directory: /root/.cache/pip/wheels/67/e1/11/7d8ba66b66872a817b16c74c6e3dee455b093f67318f3e2e92\n",
            "Successfully built sparkmagic autovizwidget hdijupyterutils gssapi krb5\n",
            "Installing collected packages: qtpy, nest_asyncio, krb5, jedi, gssapi, cryptography, pyspnego, qtconsole, requests_kerberos, jupyter, hdijupyterutils, autovizwidget, sparkmagic\n",
            "Successfully installed autovizwidget-0.20.4 cryptography-39.0.1 gssapi-1.8.2 hdijupyterutils-0.20.4 jedi-0.18.2 jupyter-1.0.0 krb5-0.5.0 nest_asyncio-1.5.5 pyspnego-0.8.0 qtconsole-5.4.0 qtpy-2.3.0 requests_kerberos-0.14.0 sparkmagic-0.20.4\n",
            "Looking in indexes: https://pypi.org/simple, https://us-python.pkg.dev/colab-wheels/public/simple/\n",
            "Requirement already satisfied: pyspark in /usr/local/lib/python3.8/dist-packages (3.3.2)\n",
            "Requirement already satisfied: py4j==0.10.9.5 in /usr/local/lib/python3.8/dist-packages (from pyspark) (0.10.9.5)\n",
            "Looking in indexes: https://pypi.org/simple, https://us-python.pkg.dev/colab-wheels/public/simple/\n",
            "Requirement already satisfied: pyspark in /usr/local/lib/python3.8/dist-packages (3.3.2)\n",
            "Requirement already satisfied: py4j==0.10.9.5 in /usr/local/lib/python3.8/dist-packages (from pyspark) (0.10.9.5)\n",
            "Looking in indexes: https://pypi.org/simple, https://us-python.pkg.dev/colab-wheels/public/simple/\n",
            "Requirement already satisfied: seaborn in /usr/local/lib/python3.8/dist-packages (0.11.2)\n",
            "Requirement already satisfied: pandas>=0.23 in /usr/local/lib/python3.8/dist-packages (from seaborn) (1.3.5)\n",
            "Requirement already satisfied: matplotlib>=2.2 in /usr/local/lib/python3.8/dist-packages (from seaborn) (3.5.3)\n",
            "Requirement already satisfied: scipy>=1.0 in /usr/local/lib/python3.8/dist-packages (from seaborn) (1.10.1)\n",
            "Requirement already satisfied: numpy>=1.15 in /usr/local/lib/python3.8/dist-packages (from seaborn) (1.24.2)\n",
            "Requirement already satisfied: fonttools>=4.22.0 in /usr/local/lib/python3.8/dist-packages (from matplotlib>=2.2->seaborn) (4.38.0)\n",
            "Requirement already satisfied: packaging>=20.0 in /usr/local/lib/python3.8/dist-packages (from matplotlib>=2.2->seaborn) (23.0)\n",
            "Requirement already satisfied: kiwisolver>=1.0.1 in /usr/local/lib/python3.8/dist-packages (from matplotlib>=2.2->seaborn) (1.4.4)\n",
            "Requirement already satisfied: pyparsing>=2.2.1 in /usr/local/lib/python3.8/dist-packages (from matplotlib>=2.2->seaborn) (3.0.9)\n",
            "Requirement already satisfied: pillow>=6.2.0 in /usr/local/lib/python3.8/dist-packages (from matplotlib>=2.2->seaborn) (7.1.2)\n",
            "Requirement already satisfied: cycler>=0.10 in /usr/local/lib/python3.8/dist-packages (from matplotlib>=2.2->seaborn) (0.11.0)\n",
            "Requirement already satisfied: python-dateutil>=2.7 in /usr/local/lib/python3.8/dist-packages (from matplotlib>=2.2->seaborn) (2.8.2)\n",
            "Requirement already satisfied: pytz>=2017.3 in /usr/local/lib/python3.8/dist-packages (from pandas>=0.23->seaborn) (2022.7.1)\n",
            "Requirement already satisfied: six>=1.5 in /usr/local/lib/python3.8/dist-packages (from python-dateutil>=2.7->matplotlib>=2.2->seaborn) (1.15.0)\n",
            "Looking in indexes: https://pypi.org/simple, https://us-python.pkg.dev/colab-wheels/public/simple/\n",
            "Requirement already satisfied: plotly in /usr/local/lib/python3.8/dist-packages (5.5.0)\n",
            "Requirement already satisfied: tenacity>=6.2.0 in /usr/local/lib/python3.8/dist-packages (from plotly) (8.2.1)\n",
            "Requirement already satisfied: six in /usr/local/lib/python3.8/dist-packages (from plotly) (1.15.0)\n",
            "Looking in indexes: https://pypi.org/simple, https://us-python.pkg.dev/colab-wheels/public/simple/\n",
            "Requirement already satisfied: imageio in /usr/local/lib/python3.8/dist-packages (2.9.0)\n",
            "Requirement already satisfied: pillow in /usr/local/lib/python3.8/dist-packages (from imageio) (7.1.2)\n",
            "Requirement already satisfied: numpy in /usr/local/lib/python3.8/dist-packages (from imageio) (1.24.2)\n",
            "Looking in indexes: https://pypi.org/simple, https://us-python.pkg.dev/colab-wheels/public/simple/\n",
            "Requirement already satisfied: folium in /usr/local/lib/python3.8/dist-packages (0.12.1.post1)\n",
            "Requirement already satisfied: branca>=0.3.0 in /usr/local/lib/python3.8/dist-packages (from folium) (0.6.0)\n",
            "Requirement already satisfied: jinja2>=2.9 in /usr/local/lib/python3.8/dist-packages (from folium) (2.11.3)\n",
            "Requirement already satisfied: numpy in /usr/local/lib/python3.8/dist-packages (from folium) (1.24.2)\n",
            "Requirement already satisfied: requests in /usr/local/lib/python3.8/dist-packages (from folium) (2.25.1)\n",
            "Requirement already satisfied: MarkupSafe>=0.23 in /usr/local/lib/python3.8/dist-packages (from jinja2>=2.9->folium) (2.0.1)\n",
            "Requirement already satisfied: chardet<5,>=3.0.2 in /usr/local/lib/python3.8/dist-packages (from requests->folium) (4.0.0)\n",
            "Requirement already satisfied: urllib3<1.27,>=1.21.1 in /usr/local/lib/python3.8/dist-packages (from requests->folium) (1.24.3)\n",
            "Requirement already satisfied: idna<3,>=2.5 in /usr/local/lib/python3.8/dist-packages (from requests->folium) (2.10)\n",
            "Requirement already satisfied: certifi>=2017.4.17 in /usr/local/lib/python3.8/dist-packages (from requests->folium) (2022.12.7)\n"
          ]
        }
      ]
    },
    {
      "cell_type": "code",
      "metadata": {
        "id": "pNctzcXRkexY",
        "colab": {
          "base_uri": "https://localhost:8080/"
        },
        "outputId": "a140a2d3-2e20-4993-c5c1-a3cdca0f5b7b"
      },
      "source": [
        "!apt update\n",
        "!apt install gcc python-dev libkrb5-dev"
      ],
      "execution_count": 58,
      "outputs": [
        {
          "output_type": "stream",
          "name": "stdout",
          "text": [
            "Get:1 https://cloud.r-project.org/bin/linux/ubuntu focal-cran40/ InRelease [3,622 B]\n",
            "Ign:2 https://developer.download.nvidia.com/compute/machine-learning/repos/ubuntu2004/x86_64  InRelease\n",
            "Hit:3 https://developer.download.nvidia.com/compute/cuda/repos/ubuntu2004/x86_64  InRelease\n",
            "Hit:4 https://developer.download.nvidia.com/compute/machine-learning/repos/ubuntu2004/x86_64  Release\n",
            "Hit:5 http://ppa.launchpad.net/c2d4u.team/c2d4u4.0+/ubuntu focal InRelease\n",
            "Get:6 http://security.ubuntu.com/ubuntu focal-security InRelease [114 kB]\n",
            "Hit:7 http://archive.ubuntu.com/ubuntu focal InRelease\n",
            "Get:8 http://archive.ubuntu.com/ubuntu focal-updates InRelease [114 kB]\n",
            "Hit:9 http://ppa.launchpad.net/cran/libgit2/ubuntu focal InRelease\n",
            "Hit:11 http://ppa.launchpad.net/deadsnakes/ppa/ubuntu focal InRelease\n",
            "Get:12 http://archive.ubuntu.com/ubuntu focal-backports InRelease [108 kB]\n",
            "Hit:13 http://ppa.launchpad.net/graphics-drivers/ppa/ubuntu focal InRelease\n",
            "Hit:14 http://ppa.launchpad.net/ubuntugis/ppa/ubuntu focal InRelease\n",
            "Get:15 http://security.ubuntu.com/ubuntu focal-security/universe amd64 Packages [1,000 kB]\n",
            "Get:16 http://archive.ubuntu.com/ubuntu focal-updates/main amd64 Packages [2,972 kB]\n",
            "Get:17 http://archive.ubuntu.com/ubuntu focal-updates/restricted amd64 Packages [2,069 kB]\n",
            "Get:18 http://archive.ubuntu.com/ubuntu focal-updates/universe amd64 Packages [1,299 kB]\n",
            "Fetched 7,679 kB in 3s (2,961 kB/s)\n",
            "Reading package lists... Done\n",
            "Building dependency tree       \n",
            "Reading state information... Done\n",
            "19 packages can be upgraded. Run 'apt list --upgradable' to see them.\n",
            "Reading package lists... Done\n",
            "Building dependency tree       \n",
            "Reading state information... Done\n",
            "Note, selecting 'python-dev-is-python2' instead of 'python-dev'\n",
            "gcc is already the newest version (4:9.3.0-1ubuntu2).\n",
            "gcc set to manually installed.\n",
            "libkrb5-dev is already the newest version (1.17-6ubuntu4.2).\n",
            "The following additional packages will be installed:\n",
            "  libpython2-dev libpython2-stdlib libpython2.7 libpython2.7-dev\n",
            "  python-is-python2 python2 python2-dev python2-minimal python2.7-dev\n",
            "Suggested packages:\n",
            "  python2-doc python-tk\n",
            "The following NEW packages will be installed:\n",
            "  libpython2-dev libpython2-stdlib libpython2.7 libpython2.7-dev\n",
            "  python-dev-is-python2 python-is-python2 python2 python2-dev python2-minimal\n",
            "  python2.7-dev\n",
            "0 upgraded, 10 newly installed, 0 to remove and 19 not upgraded.\n",
            "Need to get 3,870 kB of archives.\n",
            "After this operation, 18.0 MB of additional disk space will be used.\n",
            "Get:1 http://archive.ubuntu.com/ubuntu focal/universe amd64 python2-minimal amd64 2.7.17-2ubuntu4 [27.5 kB]\n",
            "Get:2 http://archive.ubuntu.com/ubuntu focal/universe amd64 libpython2-stdlib amd64 2.7.17-2ubuntu4 [7,072 B]\n",
            "Get:3 http://archive.ubuntu.com/ubuntu focal/universe amd64 python2 amd64 2.7.17-2ubuntu4 [26.5 kB]\n",
            "Get:4 http://archive.ubuntu.com/ubuntu focal-updates/universe amd64 libpython2.7 amd64 2.7.18-1~20.04.3 [1,037 kB]\n",
            "Get:5 http://archive.ubuntu.com/ubuntu focal-updates/universe amd64 libpython2.7-dev amd64 2.7.18-1~20.04.3 [2,466 kB]\n",
            "Get:6 http://archive.ubuntu.com/ubuntu focal/universe amd64 libpython2-dev amd64 2.7.17-2ubuntu4 [7,140 B]\n",
            "Get:7 http://archive.ubuntu.com/ubuntu focal/universe amd64 python-is-python2 all 2.7.17-4 [2,496 B]\n",
            "Get:8 http://archive.ubuntu.com/ubuntu focal-updates/universe amd64 python2.7-dev amd64 2.7.18-1~20.04.3 [293 kB]\n",
            "Get:9 http://archive.ubuntu.com/ubuntu focal/universe amd64 python2-dev amd64 2.7.17-2ubuntu4 [1,268 B]\n",
            "Get:10 http://archive.ubuntu.com/ubuntu focal/universe amd64 python-dev-is-python2 all 2.7.17-4 [1,396 B]\n",
            "Fetched 3,870 kB in 1s (3,123 kB/s)\n",
            "Selecting previously unselected package python2-minimal.\n",
            "(Reading database ... 128786 files and directories currently installed.)\n",
            "Preparing to unpack .../python2-minimal_2.7.17-2ubuntu4_amd64.deb ...\n",
            "Unpacking python2-minimal (2.7.17-2ubuntu4) ...\n",
            "Selecting previously unselected package libpython2-stdlib:amd64.\n",
            "Preparing to unpack .../libpython2-stdlib_2.7.17-2ubuntu4_amd64.deb ...\n",
            "Unpacking libpython2-stdlib:amd64 (2.7.17-2ubuntu4) ...\n",
            "Setting up python2-minimal (2.7.17-2ubuntu4) ...\n",
            "Selecting previously unselected package python2.\n",
            "(Reading database ... 128815 files and directories currently installed.)\n",
            "Preparing to unpack .../0-python2_2.7.17-2ubuntu4_amd64.deb ...\n",
            "Unpacking python2 (2.7.17-2ubuntu4) ...\n",
            "Selecting previously unselected package libpython2.7:amd64.\n",
            "Preparing to unpack .../1-libpython2.7_2.7.18-1~20.04.3_amd64.deb ...\n",
            "Unpacking libpython2.7:amd64 (2.7.18-1~20.04.3) ...\n",
            "Selecting previously unselected package libpython2.7-dev:amd64.\n",
            "Preparing to unpack .../2-libpython2.7-dev_2.7.18-1~20.04.3_amd64.deb ...\n",
            "Unpacking libpython2.7-dev:amd64 (2.7.18-1~20.04.3) ...\n",
            "Selecting previously unselected package libpython2-dev:amd64.\n",
            "Preparing to unpack .../3-libpython2-dev_2.7.17-2ubuntu4_amd64.deb ...\n",
            "Unpacking libpython2-dev:amd64 (2.7.17-2ubuntu4) ...\n",
            "Selecting previously unselected package python-is-python2.\n",
            "Preparing to unpack .../4-python-is-python2_2.7.17-4_all.deb ...\n",
            "Unpacking python-is-python2 (2.7.17-4) ...\n",
            "Selecting previously unselected package python2.7-dev.\n",
            "Preparing to unpack .../5-python2.7-dev_2.7.18-1~20.04.3_amd64.deb ...\n",
            "Unpacking python2.7-dev (2.7.18-1~20.04.3) ...\n",
            "Selecting previously unselected package python2-dev.\n",
            "Preparing to unpack .../6-python2-dev_2.7.17-2ubuntu4_amd64.deb ...\n",
            "Unpacking python2-dev (2.7.17-2ubuntu4) ...\n",
            "Selecting previously unselected package python-dev-is-python2.\n",
            "Preparing to unpack .../7-python-dev-is-python2_2.7.17-4_all.deb ...\n",
            "Unpacking python-dev-is-python2 (2.7.17-4) ...\n",
            "Setting up libpython2.7:amd64 (2.7.18-1~20.04.3) ...\n",
            "Setting up libpython2.7-dev:amd64 (2.7.18-1~20.04.3) ...\n",
            "Setting up libpython2-stdlib:amd64 (2.7.17-2ubuntu4) ...\n",
            "Setting up python2 (2.7.17-2ubuntu4) ...\n",
            "Setting up libpython2-dev:amd64 (2.7.17-2ubuntu4) ...\n",
            "Setting up python-is-python2 (2.7.17-4) ...\n",
            "Setting up python2.7-dev (2.7.18-1~20.04.3) ...\n",
            "Setting up python2-dev (2.7.17-2ubuntu4) ...\n",
            "Setting up python-dev-is-python2 (2.7.17-4) ...\n",
            "Processing triggers for man-db (2.9.1-1) ...\n",
            "Processing triggers for libc-bin (2.31-0ubuntu9.9) ...\n"
          ]
        }
      ]
    },
    {
      "cell_type": "code",
      "metadata": {
        "id": "PP28kxLekWG7"
      },
      "source": [
        "from pyspark.sql import SparkSession\n",
        "from pyspark.sql.types import *\n",
        "import pyspark.sql.functions as F\n",
        "\n",
        "import os\n",
        "\n",
        "spark = SparkSession.builder.appName('CA-5').getOrCreate()\n"
      ],
      "execution_count": 59,
      "outputs": []
    },
    {
      "cell_type": "code",
      "metadata": {
        "id": "7Gm6aXPq1Ulc"
      },
      "source": [
        "%load_ext sparkmagic.magics"
      ],
      "execution_count": 60,
      "outputs": []
    },
    {
      "cell_type": "code",
      "metadata": {
        "id": "NiGROEgu1gfN"
      },
      "source": [
        "#graph section\n",
        "import networkx as nx\n",
        "# SQLite RDBMS\n",
        "import sqlite3\n",
        "# Parallel processing\n",
        "# import swifter\n",
        "import pandas as pd\n",
        "# NoSQL DB\n",
        "from pymongo import MongoClient\n",
        "from pymongo.errors import DuplicateKeyError, OperationFailure\n",
        "\n",
        "import os\n",
        "os.environ['SPARK_HOME'] = '/content/spark-2.4.5-bin-hadoop2.7'\n",
        "os.environ[\"JAVA_HOME\"] = \"/usr/lib/jvm/java-8-openjdk-amd64\"\n",
        "import pyspark\n",
        "from pyspark.sql import SQLContext"
      ],
      "execution_count": 61,
      "outputs": []
    },
    {
      "cell_type": "code",
      "metadata": {
        "id": "bF0xipwC1hme"
      },
      "source": [
        "try:\n",
        "    if(spark == None):\n",
        "        spark = SparkSession.builder.appName('Initial').getOrCreate()\n",
        "        sqlContext=SQLContext(spark)\n",
        "except NameError:\n",
        "    spark = SparkSession.builder.appName('Initial').getOrCreate()\n",
        "    sqlContext=SQLContext(spark)\n"
      ],
      "execution_count": 62,
      "outputs": []
    },
    {
      "cell_type": "markdown",
      "metadata": {
        "id": "cbj7zOGQW7A2"
      },
      "source": [
        "### 5.1 Data Preparation for Spark ML (20 points)\n",
        "\n",
        "Once the spark setup ready. Next, we need the prepared data for our ML algorithms. We will use the same data you processed in Section 1 but now in spark. \n",
        "\n",
        "Read in the csv  into a spark dataframe. Set the \"inferSchema\" flag to True so that the columns are the correct datatypes and not all strings. Further, set the parameter to the first row as column headers."
      ]
    },
    {
      "cell_type": "code",
      "metadata": {
        "id": "EFfs7q3P1KHX"
      },
      "source": [
        "# Add your code here\n",
        "\n",
        "train_sdf = spark.read.format('csv').options(header='true', inferSchema='true').load('combined_data.csv')"
      ],
      "execution_count": 63,
      "outputs": []
    },
    {
      "cell_type": "markdown",
      "metadata": {
        "id": "CbC1qlzhXd6L"
      },
      "source": [
        "Let us make sure everything is smooth to proceed"
      ]
    },
    {
      "cell_type": "code",
      "metadata": {
        "id": "sTb1GN4-1EXc",
        "colab": {
          "base_uri": "https://localhost:8080/",
          "height": 519
        },
        "outputId": "937aa743-690e-4e10-b9eb-c2f395852834"
      },
      "source": [
        "display(train_sdf.show())"
      ],
      "execution_count": 64,
      "outputs": [
        {
          "output_type": "stream",
          "name": "stdout",
          "text": [
            "+-----------+-----------------+----------------+----------------------+------------------+------------------+------------------+------------------+--------+--------+---------+----------+----------+----------+----------+-------------------------+---------------+------------------+----------------------+-------------------------+---------------+----------------------+---------------+--------------+------------------------+------------------------------+-----------------------+-----------------------+-----------------------------+--------------+---------------+-----------------+------------------------+-----------------+-----------------+-----------------+-----------------+-----------------+-----------------+-----------------+\n",
            "|   video_id|comments_disabled|ratings_disabled|video_error_or_removed|         likes_log|             label|      dislikes_log|       comment_log|num_tags|desc_len|len_title|country_CA|country_FR|country_IN|country_US|category_Autos & Vehicles|category_Comedy|category_Education|category_Entertainment|category_Film & Animation|category_Gaming|category_Howto & Style|category_Movies|category_Music|category_News & Politics|category_Nonprofits & Activism|category_People & Blogs|category_Pets & Animals|category_Science & Technology|category_Shows|category_Sports|category_Trailers|category_Travel & Events|publish_weekday_1|publish_weekday_2|publish_weekday_3|publish_weekday_4|publish_weekday_5|publish_weekday_6|publish_weekday_7|\n",
            "+-----------+-----------------+----------------+----------------------+------------------+------------------+------------------+------------------+--------+--------+---------+----------+----------+----------+----------+-------------------------+---------------+------------------+----------------------+-------------------------+---------------+----------------------+---------------+--------------+------------------------+------------------------------+-----------------------+-----------------------+-----------------------------+--------------+---------------+-----------------+------------------------+-----------------+-----------------+-----------------+-----------------+-----------------+-----------------+-----------------+\n",
            "|kzwfHumJyYc|            false|           false|                 false|10.433144744037243|13.907476971790734| 6.683360945766275|  6.78332520060396|      15|     920|       81|         0|         0|         1|         0|                        0|              0|                 0|                     0|                        1|              0|                     0|              0|             0|                       0|                             0|                      0|                      0|                            0|             0|              0|                0|                       0|                0|                0|                0|                0|                0|                0|                1|\n",
            "|zUZ1z7FwLc8|             true|           false|                 false| 6.601230118728877|13.288050682295575| 6.807934943699926|               0.0|      19|    2232|       58|         0|         0|         1|         0|                        0|              0|                 0|                     0|                        0|              0|                     0|              0|             0|                       1|                             0|                      0|                      0|                            0|             0|              0|                0|                       0|                1|                0|                0|                0|                0|                0|                0|\n",
            "|10L1hZ9qa58|            false|           false|                 false|  7.60688453121963|13.068939393656878| 5.497168225293202|5.0106352940962555|      14|     482|       58|         0|         0|         1|         0|                        0|              0|                 0|                     1|                        0|              0|                     0|              0|             0|                       0|                             0|                      0|                      0|                            0|             0|              0|                0|                       0|                0|                0|                0|                0|                0|                0|                1|\n",
            "|N1vE8iiEg64|            false|           false|                 false| 11.16129491949047|14.032781700387753| 7.393263094763838| 7.895436006942965|      20|     263|       30|         0|         0|         1|         0|                        0|              1|                 0|                     0|                        0|              0|                     0|              0|             0|                       0|                             0|                      0|                      0|                            0|             0|              0|                0|                       0|                0|                0|                0|                0|                0|                0|                1|\n",
            "|kJzGH0PVQHQ|            false|           false|                 false|  6.20050917404269|13.047674313372497| 5.683579767338681| 4.204692619390966|      11|     753|       88|         0|         0|         1|         0|                        0|              0|                 0|                     1|                        0|              0|                     0|              0|             0|                       0|                             0|                      0|                      0|                            0|             0|              0|                0|                       0|                1|                0|                0|                0|                0|                0|                0|\n",
            "|il_pSa5l98w|            false|           false|                 false|11.498958377741612|15.624892174393528| 8.339500903005945|  8.46884293047519|      22|     449|       91|         0|         0|         1|         0|                        0|              0|                 0|                     1|                        0|              0|                     0|              0|             0|                       0|                             0|                      0|                      0|                            0|             0|              0|                0|                       0|                0|                0|                0|                0|                1|                0|                0|\n",
            "|7MxiQ4v0EnE|            false|           false|                 false|11.755699079672715|15.559263780679146| 8.872767529910936|  8.99516499031115|      18|    1411|       96|         0|         0|         1|         0|                        0|              0|                 0|                     0|                        0|              0|                     0|              0|             1|                       0|                             0|                      0|                      0|                            0|             0|              0|                0|                       0|                0|                0|                0|                0|                0|                1|                0|\n",
            "|c64I9HNpiOY|            false|           false|                 false|11.796140073147356| 16.17526697582603|  9.08398318309966| 9.291736010180177|      26|    1299|       96|         0|         0|         1|         0|                        0|              0|                 0|                     0|                        0|              0|                     0|              0|             1|                       0|                             0|                      0|                      0|                            0|             0|              0|                0|                       0|                0|                0|                0|                0|                0|                1|                0|\n",
            "|KObFEYCaRx8|            false|           false|                 false| 6.255750041753367| 11.68033640902843|3.9889840465642745|3.1780538303479458|      21|     509|       97|         0|         0|         1|         0|                        0|              0|                 0|                     1|                        0|              0|                     0|              0|             0|                       0|                             0|                      0|                      0|                            0|             0|              0|                0|                       0|                1|                0|                0|                0|                0|                0|                0|\n",
            "|g8QsfJhFpjY|            false|           false|                 false|10.998744217390875|13.784051882105244| 7.343426229147367| 7.785305182539862|      23|     477|       34|         0|         0|         1|         0|                        0|              0|                 0|                     1|                        0|              0|                     0|              0|             0|                       0|                             0|                      0|                      0|                            0|             0|              0|                0|                       0|                0|                0|                0|                0|                0|                0|                1|\n",
            "|4du1KXBl4YU|            false|           false|                 false| 8.373553741214627| 13.35782751759637| 7.688913336864796| 7.962067308753666|      23|      99|       78|         0|         0|         1|         0|                        0|              0|                 0|                     1|                        0|              0|                     0|              0|             0|                       0|                             0|                      0|                      0|                            0|             0|              0|                0|                       0|                0|                0|                0|                0|                0|                0|                1|\n",
            "|zOOmEDwPJX0|            false|           false|                 false|10.399250298625073|14.669120455465158| 6.566672429803241| 7.463936604468925|      22|    2093|       83|         0|         0|         1|         0|                        0|              0|                 0|                     0|                        0|              0|                     0|              0|             1|                       0|                             0|                      0|                      0|                            0|             0|              0|                0|                       0|                0|                0|                0|                0|                0|                1|                0|\n",
            "|Prb_osSVE0M|             true|           false|                 false|  6.57507584059962| 11.95816241638283|3.9889840465642745|               0.0|      20|     858|       85|         0|         0|         1|         0|                        0|              0|                 0|                     0|                        0|              0|                     0|              0|             0|                       1|                             0|                      0|                      0|                            0|             0|              0|                0|                       0|                1|                0|                0|                0|                0|                0|                0|\n",
            "|KHxdrECEsD0|            false|           false|                 false| 7.867871490396322|13.065610998767987|5.5254529391317835|5.1647859739235145|      12|    1351|       92|         0|         0|         1|         0|                        0|              0|                 0|                     1|                        0|              0|                     0|              0|             0|                       0|                             0|                      0|                      0|                            0|             0|              0|                0|                       0|                0|                0|                0|                0|                0|                1|                0|\n",
            "|so0ccfs-psI|            false|           false|                 false| 10.10483529147988|13.636392265237525| 5.198497031265826|  6.38856140554563|      25|    2387|       88|         0|         0|         1|         0|                        0|              0|                 0|                     0|                        0|              0|                     0|              0|             1|                       0|                             0|                      0|                      0|                            0|             0|              0|                0|                       0|                0|                0|                0|                0|                0|                0|                1|\n",
            "|7gShaSuK_PY|            false|           false|                 false| 5.476463551931511|11.402351382259514|   4.0943445622221|2.9444389791664403|      28|     171|       85|         0|         0|         1|         0|                        0|              0|                 0|                     0|                        0|              0|                     0|              0|             0|                       0|                             0|                      1|                      0|                            0|             0|              0|                0|                       0|                1|                0|                0|                0|                0|                0|                0|\n",
            "|ep3SLMuRbvg|            false|           false|                 false|10.154946414830384|12.749982887372441| 6.035481432524756| 7.962415680121064|      11|     248|       35|         0|         0|         1|         0|                        0|              1|                 0|                     0|                        0|              0|                     0|              0|             0|                       0|                             0|                      0|                      0|                            0|             0|              0|                0|                       0|                1|                0|                0|                0|                0|                0|                0|\n",
            "|ePO5M5DE01I|            false|           false|                 false|13.628413215237485|  17.3958509780565| 11.02183710688727|11.524043430704076|      22|     901|       63|         0|         0|         1|         0|                        0|              0|                 0|                     0|                        1|              0|                     0|              0|             0|                       0|                             0|                      0|                      0|                            0|             0|              0|                0|                       0|                0|                1|                0|                0|                0|                0|                0|\n",
            "|CLl1RbxDRAs|            false|           false|                 false| 9.551871220788255|12.252956231429025|6.1070228877422545|  7.00850518208228|      30|     201|       68|         0|         0|         1|         0|                        0|              1|                 0|                     0|                        0|              0|                     0|              0|             0|                       0|                             0|                      0|                      0|                            0|             0|              0|                0|                       0|                0|                0|                0|                0|                0|                0|                1|\n",
            "|1ZAPwfrtAFY|            false|           false|                 false|11.484402526036991|14.698775492508977|  8.72371943690701| 9.449672183486918|       4|     630|       62|         0|         0|         1|         0|                        0|              0|                 0|                     1|                        0|              0|                     0|              0|             0|                       0|                             0|                      0|                      0|                            0|             0|              0|                0|                       0|                1|                0|                0|                0|                0|                0|                0|\n",
            "+-----------+-----------------+----------------+----------------------+------------------+------------------+------------------+------------------+--------+--------+---------+----------+----------+----------+----------+-------------------------+---------------+------------------+----------------------+-------------------------+---------------+----------------------+---------------+--------------+------------------------+------------------------------+-----------------------+-----------------------+-----------------------------+--------------+---------------+-----------------+------------------------+-----------------+-----------------+-----------------+-----------------+-----------------+-----------------+-----------------+\n",
            "only showing top 20 rows\n",
            "\n"
          ]
        },
        {
          "output_type": "display_data",
          "data": {
            "text/plain": [
              "None"
            ]
          },
          "metadata": {}
        }
      ]
    },
    {
      "cell_type": "markdown",
      "metadata": {
        "id": "NFWmORJ8XhX_"
      },
      "source": [
        "Print out the dataframe schema and verify the datatypes"
      ]
    },
    {
      "cell_type": "code",
      "metadata": {
        "id": "22b4aWjueZuO",
        "colab": {
          "base_uri": "https://localhost:8080/",
          "height": 785
        },
        "outputId": "bf5046bd-252e-4b48-a31f-9aa3a39723ee"
      },
      "source": [
        "#Task: Print the dataframe schema and verify\n",
        "# Add your code here\n",
        "display(train_sdf.printSchema())"
      ],
      "execution_count": 65,
      "outputs": [
        {
          "output_type": "stream",
          "name": "stdout",
          "text": [
            "root\n",
            " |-- video_id: string (nullable = true)\n",
            " |-- comments_disabled: boolean (nullable = true)\n",
            " |-- ratings_disabled: boolean (nullable = true)\n",
            " |-- video_error_or_removed: boolean (nullable = true)\n",
            " |-- likes_log: double (nullable = true)\n",
            " |-- label: double (nullable = true)\n",
            " |-- dislikes_log: double (nullable = true)\n",
            " |-- comment_log: double (nullable = true)\n",
            " |-- num_tags: integer (nullable = true)\n",
            " |-- desc_len: integer (nullable = true)\n",
            " |-- len_title: integer (nullable = true)\n",
            " |-- country_CA: integer (nullable = true)\n",
            " |-- country_FR: integer (nullable = true)\n",
            " |-- country_IN: integer (nullable = true)\n",
            " |-- country_US: integer (nullable = true)\n",
            " |-- category_Autos & Vehicles: integer (nullable = true)\n",
            " |-- category_Comedy: integer (nullable = true)\n",
            " |-- category_Education: integer (nullable = true)\n",
            " |-- category_Entertainment: integer (nullable = true)\n",
            " |-- category_Film & Animation: integer (nullable = true)\n",
            " |-- category_Gaming: integer (nullable = true)\n",
            " |-- category_Howto & Style: integer (nullable = true)\n",
            " |-- category_Movies: integer (nullable = true)\n",
            " |-- category_Music: integer (nullable = true)\n",
            " |-- category_News & Politics: integer (nullable = true)\n",
            " |-- category_Nonprofits & Activism: integer (nullable = true)\n",
            " |-- category_People & Blogs: integer (nullable = true)\n",
            " |-- category_Pets & Animals: integer (nullable = true)\n",
            " |-- category_Science & Technology: integer (nullable = true)\n",
            " |-- category_Shows: integer (nullable = true)\n",
            " |-- category_Sports: integer (nullable = true)\n",
            " |-- category_Trailers: integer (nullable = true)\n",
            " |-- category_Travel & Events: integer (nullable = true)\n",
            " |-- publish_weekday_1: integer (nullable = true)\n",
            " |-- publish_weekday_2: integer (nullable = true)\n",
            " |-- publish_weekday_3: integer (nullable = true)\n",
            " |-- publish_weekday_4: integer (nullable = true)\n",
            " |-- publish_weekday_5: integer (nullable = true)\n",
            " |-- publish_weekday_6: integer (nullable = true)\n",
            " |-- publish_weekday_7: integer (nullable = true)\n",
            "\n"
          ]
        },
        {
          "output_type": "display_data",
          "data": {
            "text/plain": [
              "None"
            ]
          },
          "metadata": {}
        }
      ]
    },
    {
      "cell_type": "markdown",
      "metadata": {
        "id": "fJ34pkSeXn3G"
      },
      "source": [
        "Now, we have the processed data in hand. Next for the Spark ML, we need to create a feature column that has all features concatenated and a single column for labels.\n",
        "\n",
        "You can use VectorAssembler() to create a feature vector from all categorical and numerical features. Let us call the call the final vector as “features”.\n",
        "\n",
        "Now, list all columns in the data and store it in a list named 'all_columns'\n"
      ]
    },
    {
      "cell_type": "code",
      "metadata": {
        "id": "HwWWc_0Ttyg4"
      },
      "source": [
        "from pyspark.ml.feature import StringIndexer, VectorAssembler"
      ],
      "execution_count": 66,
      "outputs": []
    },
    {
      "cell_type": "code",
      "metadata": {
        "id": "XIcLnx7bt7Q8"
      },
      "source": [
        "# Add your code here\n",
        "all_columns =train_sdf.columns"
      ],
      "execution_count": 67,
      "outputs": []
    },
    {
      "cell_type": "markdown",
      "metadata": {
        "id": "BqiuAgWxh2yv"
      },
      "source": [
        "Now create a list of columns which you don't wan't to include in your features, i.e., the labels and probably other columns which are not useful for the machine learning model. Let us call this list drop_columns."
      ]
    },
    {
      "cell_type": "code",
      "metadata": {
        "id": "B-_2Tsy5uzIo"
      },
      "source": [
        "# Add your code here\n",
        "drop_columns = drop_columns = ['video_id','label']"
      ],
      "execution_count": 68,
      "outputs": []
    },
    {
      "cell_type": "code",
      "metadata": {
        "id": "GWgiDQuciHKt"
      },
      "source": [
        "columns_to_use = [i for i in all_columns if i not in drop_columns]"
      ],
      "execution_count": 69,
      "outputs": []
    },
    {
      "cell_type": "markdown",
      "metadata": {
        "id": "V4kOg6TWiOcm"
      },
      "source": [
        "Now create a VectorAssembler object with columns you want to use for the ML models. Let us Name the output column as 'features'. These are the features that you will use later.  Let us name the vector assembler object 'assembler'"
      ]
    },
    {
      "cell_type": "code",
      "metadata": {
        "id": "cPl796SvpvoU"
      },
      "source": [
        "# Add your code\n",
        "assembler = VectorAssembler(inputCols=columns_to_use, outputCol='features')"
      ],
      "execution_count": 70,
      "outputs": []
    },
    {
      "cell_type": "code",
      "metadata": {
        "id": "5LlUa9NRQMOT",
        "colab": {
          "base_uri": "https://localhost:8080/"
        },
        "outputId": "d31ad083-f441-4a3a-ad47-3d01b0e4b26b"
      },
      "source": [
        "# Print assember stats\n",
        "print('stat_assembler', (str(assembler.params), columns_to_use))"
      ],
      "execution_count": 71,
      "outputs": [
        {
          "output_type": "stream",
          "name": "stdout",
          "text": [
            "stat_assembler ('[Param(parent=\\'VectorAssembler_4f4d2edba6b5\\', name=\\'handleInvalid\\', doc=\"How to handle invalid data (NULL and NaN values). Options are \\'skip\\' (filter out rows with invalid data), \\'error\\' (throw an error), or \\'keep\\' (return relevant number of NaN in the output). Column lengths are taken from the size of ML Attribute Group, which can be set using `VectorSizeHint` in a pipeline before `VectorAssembler`. Column lengths can also be inferred from first rows of the data since it is safe to do so but only in case of \\'error\\' or \\'skip\\').\"), Param(parent=\\'VectorAssembler_4f4d2edba6b5\\', name=\\'inputCols\\', doc=\\'input column names.\\'), Param(parent=\\'VectorAssembler_4f4d2edba6b5\\', name=\\'outputCol\\', doc=\\'output column name.\\')]', ['comments_disabled', 'ratings_disabled', 'video_error_or_removed', 'likes_log', 'dislikes_log', 'comment_log', 'num_tags', 'desc_len', 'len_title', 'country_CA', 'country_FR', 'country_IN', 'country_US', 'category_Autos & Vehicles', 'category_Comedy', 'category_Education', 'category_Entertainment', 'category_Film & Animation', 'category_Gaming', 'category_Howto & Style', 'category_Movies', 'category_Music', 'category_News & Politics', 'category_Nonprofits & Activism', 'category_People & Blogs', 'category_Pets & Animals', 'category_Science & Technology', 'category_Shows', 'category_Sports', 'category_Trailers', 'category_Travel & Events', 'publish_weekday_1', 'publish_weekday_2', 'publish_weekday_3', 'publish_weekday_4', 'publish_weekday_5', 'publish_weekday_6', 'publish_weekday_7'])\n"
          ]
        }
      ]
    },
    {
      "cell_type": "markdown",
      "metadata": {
        "id": "X7_HC7cTif1k"
      },
      "source": [
        "Now, we are ready to create a pipeline with different stages.  For out data so far, we just a single stage with the assember, however, you could have other stages  before that where you perform operations on the data, e.g, transforming categorical strings to numeric values or feature scaling operations.\n",
        "\n",
        "In this step, we will create a pipeline with a single stage - the assembler. Fit the pipeline to your data and create the transformed dataframe and name it 'modified_data_sdf'."
      ]
    },
    {
      "cell_type": "code",
      "metadata": {
        "id": "iuO1Mu9IvTEz",
        "colab": {
          "base_uri": "https://localhost:8080/",
          "height": 499
        },
        "outputId": "002cba97-f540-494e-8ee4-e863e2712621"
      },
      "source": [
        "from pyspark.ml import Pipeline\n",
        "# Add your code here\n",
        "pipeline = Pipeline(stages=[assembler])\n",
        "modified_data_sdf = pipeline.fit(train_sdf).transform(train_sdf).drop(*columns_to_use)\n",
        "display(modified_data_sdf.show())"
      ],
      "execution_count": 72,
      "outputs": [
        {
          "output_type": "stream",
          "name": "stdout",
          "text": [
            "+-----------+------------------+--------------------+\n",
            "|   video_id|             label|            features|\n",
            "+-----------+------------------+--------------------+\n",
            "|kzwfHumJyYc|13.907476971790734|(38,[3,4,5,6,7,8,...|\n",
            "|zUZ1z7FwLc8|13.288050682295575|(38,[0,3,4,6,7,8,...|\n",
            "|10L1hZ9qa58|13.068939393656878|(38,[3,4,5,6,7,8,...|\n",
            "|N1vE8iiEg64|14.032781700387753|(38,[3,4,5,6,7,8,...|\n",
            "|kJzGH0PVQHQ|13.047674313372497|(38,[3,4,5,6,7,8,...|\n",
            "|il_pSa5l98w|15.624892174393528|(38,[3,4,5,6,7,8,...|\n",
            "|7MxiQ4v0EnE|15.559263780679146|(38,[3,4,5,6,7,8,...|\n",
            "|c64I9HNpiOY| 16.17526697582603|(38,[3,4,5,6,7,8,...|\n",
            "|KObFEYCaRx8| 11.68033640902843|(38,[3,4,5,6,7,8,...|\n",
            "|g8QsfJhFpjY|13.784051882105244|(38,[3,4,5,6,7,8,...|\n",
            "|4du1KXBl4YU| 13.35782751759637|(38,[3,4,5,6,7,8,...|\n",
            "|zOOmEDwPJX0|14.669120455465158|(38,[3,4,5,6,7,8,...|\n",
            "|Prb_osSVE0M| 11.95816241638283|(38,[0,3,4,6,7,8,...|\n",
            "|KHxdrECEsD0|13.065610998767987|(38,[3,4,5,6,7,8,...|\n",
            "|so0ccfs-psI|13.636392265237525|(38,[3,4,5,6,7,8,...|\n",
            "|7gShaSuK_PY|11.402351382259514|(38,[3,4,5,6,7,8,...|\n",
            "|ep3SLMuRbvg|12.749982887372441|(38,[3,4,5,6,7,8,...|\n",
            "|ePO5M5DE01I|  17.3958509780565|(38,[3,4,5,6,7,8,...|\n",
            "|CLl1RbxDRAs|12.252956231429025|(38,[3,4,5,6,7,8,...|\n",
            "|1ZAPwfrtAFY|14.698775492508977|(38,[3,4,5,6,7,8,...|\n",
            "+-----------+------------------+--------------------+\n",
            "only showing top 20 rows\n",
            "\n"
          ]
        },
        {
          "output_type": "display_data",
          "data": {
            "text/plain": [
              "None"
            ]
          },
          "metadata": {}
        }
      ]
    },
    {
      "cell_type": "code",
      "metadata": {
        "id": "KwlFEWKwXbRd",
        "colab": {
          "base_uri": "https://localhost:8080/"
        },
        "outputId": "bd8d49f1-16b6-4707-d88c-fe31f9ac56a2"
      },
      "source": [
        "#Print results\n",
        "pipeline_stat = pd.DataFrame(modified_data_sdf.take(5), columns=modified_data_sdf.columns)\n",
        "print('check_pipeline', (pipeline_stat.columns.values, pipeline_stat['features'][0].size))"
      ],
      "execution_count": 73,
      "outputs": [
        {
          "output_type": "stream",
          "name": "stdout",
          "text": [
            "check_pipeline (array(['video_id', 'label', 'features'], dtype=object), 38)\n"
          ]
        }
      ]
    },
    {
      "cell_type": "markdown",
      "metadata": {
        "id": "0TKEQEDkxFGf"
      },
      "source": [
        "Now that we have the required data in the right format, Let us create our train and test sets. Let us, split into an 80-20 ratio between the train and test sets. Name these 'train_sdf' and 'test_sdf'"
      ]
    },
    {
      "cell_type": "code",
      "metadata": {
        "id": "Jn4_0RHHxEYm"
      },
      "source": [
        "# Add your code here\n",
        "train_sdf, test_sdf = modified_data_sdf.randomSplit([0.8, 0.2], seed = 2021)"
      ],
      "execution_count": 74,
      "outputs": []
    },
    {
      "cell_type": "code",
      "metadata": {
        "id": "TkvrG1lMbe9_",
        "colab": {
          "base_uri": "https://localhost:8080/"
        },
        "outputId": "5414f2b5-d11b-4e99-b95c-28943207443a"
      },
      "source": [
        "#Print results here\n",
        "print('check_split', (train_sdf.count(), test_sdf.count()))"
      ],
      "execution_count": 75,
      "outputs": [
        {
          "output_type": "stream",
          "name": "stdout",
          "text": [
            "check_split (123519, 31048)\n"
          ]
        }
      ]
    },
    {
      "cell_type": "markdown",
      "metadata": {
        "id": "L_CKE8i8an4x"
      },
      "source": [
        "### 5.2 Linear regression using Spark ML (15 points)\n",
        "\n",
        "In this section, train s linear regression model to our data and predict the views. This prediction should be based on \"Big\" data tools, i.e., Spark ML's linear regression. Create a model using this library, fit the training data. \n",
        "Afterwards, print the summary stats of the model, i.e, \n",
        "- the RMSE error, R2 score and any other information you find useful. Refere the Spark ML documentation online for the implementation.\n",
        "\n",
        "In this section, we will train the model without any regularization!"
      ]
    },
    {
      "cell_type": "code",
      "metadata": {
        "id": "W9qJdpIU4e8q"
      },
      "source": [
        "from pyspark.ml.regression import LinearRegression\n",
        "\n",
        "# Add your code here\n",
        "\n",
        "lr_model = LinearRegression(featuresCol='features', labelCol='label').fit(train_sdf)"
      ],
      "execution_count": 76,
      "outputs": []
    },
    {
      "cell_type": "code",
      "metadata": {
        "id": "M_n_gx3I-Icl",
        "colab": {
          "base_uri": "https://localhost:8080/"
        },
        "outputId": "69ea5994-6a04-463f-cc5c-e4d6f2308e38"
      },
      "source": [
        "trainingSum = lr_model.summary\n",
        "\n",
        "print(\"RMSE: %f\" % trainingSum.rootMeanSquaredError)\n",
        "print(\"r2: %f\" % trainingSum.r2)\n",
        "\n"
      ],
      "execution_count": 77,
      "outputs": [
        {
          "output_type": "stream",
          "name": "stdout",
          "text": [
            "RMSE: 0.666488\n",
            "r2: 0.865568\n"
          ]
        }
      ]
    },
    {
      "cell_type": "markdown",
      "metadata": {
        "id": "kJT9Ov_irnXl"
      },
      "source": [
        "Let us investigate that if the model actually overfits the training data. \n",
        "\n",
        "Predict the views for your test data (Note: it is called 'transform' in spark ml). Evaluate the performance using 'RegressionEvaluator' in the Spark ML Regression library. Name prediction column as 'prediction'."
      ]
    },
    {
      "cell_type": "code",
      "metadata": {
        "id": "3sE9kv3ZsU7J"
      },
      "source": [
        "# Add your code here\n",
        "predictions = lr_model.transform(test_sdf)"
      ],
      "execution_count": 78,
      "outputs": []
    },
    {
      "cell_type": "code",
      "metadata": {
        "id": "TlqLeWSDsd__"
      },
      "source": [
        "from pyspark.ml.evaluation import RegressionEvaluator\n",
        "\n",
        "# Task: Compute RMSr on the test set\n",
        "\n",
        "test_rmse_orig = lr_model.evaluate(test_sdf).rootMeanSquaredError"
      ],
      "execution_count": 79,
      "outputs": []
    },
    {
      "cell_type": "code",
      "metadata": {
        "id": "DuBHq2n8dCxs",
        "colab": {
          "base_uri": "https://localhost:8080/"
        },
        "outputId": "2cb4e85c-fd9a-4312-9453-71c446e0dfaf"
      },
      "source": [
        "#Print results here\n",
        "predictions_to_print = predictions.toPandas()\n",
        "lranswer = [test_rmse_orig, predictions_to_print['prediction'][0:50], predictions_to_print['label'][0:50]]\n",
        "print('result_lr_test', lranswer)\n",
        "\n",
        "x=predictions_to_print['prediction'][0:50]\n",
        "y=predictions_to_print['label'][0:50]\n",
        "print('\\n Differences between Prediction and label: \\n',(x - y))"
      ],
      "execution_count": 80,
      "outputs": [
        {
          "output_type": "stream",
          "name": "stdout",
          "text": [
            "result_lr_test [0.6715952996006331, 0     10.690088\n",
            "1     10.581323\n",
            "2     11.049358\n",
            "3     10.713690\n",
            "4     10.290210\n",
            "5     11.587228\n",
            "6     13.267501\n",
            "7     11.039199\n",
            "8     11.551384\n",
            "9     12.446580\n",
            "10    12.054713\n",
            "11    11.273195\n",
            "12    11.983272\n",
            "13    11.022216\n",
            "14    11.527023\n",
            "15    13.147131\n",
            "16    13.147131\n",
            "17    11.075943\n",
            "18    11.514333\n",
            "19    11.609016\n",
            "20    11.864850\n",
            "21    11.238117\n",
            "22    13.207237\n",
            "23    13.522688\n",
            "24    11.956923\n",
            "25    12.229846\n",
            "26    11.876203\n",
            "27    11.876203\n",
            "28    13.479573\n",
            "29    11.816075\n",
            "30    12.008998\n",
            "31    11.803977\n",
            "32    12.906720\n",
            "33    12.797433\n",
            "34    11.844155\n",
            "35    13.571680\n",
            "36    12.257697\n",
            "37    12.257697\n",
            "38    12.643926\n",
            "39    11.612113\n",
            "40    12.400711\n",
            "41    11.610050\n",
            "42    12.782627\n",
            "43    11.453222\n",
            "44    12.719580\n",
            "45    12.013339\n",
            "46    12.631462\n",
            "47    12.631462\n",
            "48    12.597698\n",
            "49    13.767797\n",
            "Name: prediction, dtype: float64, 0      9.668651\n",
            "1      9.829895\n",
            "2      9.930129\n",
            "3     10.712126\n",
            "4     11.018006\n",
            "5     11.054835\n",
            "6     11.153762\n",
            "7     11.175899\n",
            "8     11.258382\n",
            "9     11.266360\n",
            "10    11.468357\n",
            "11    11.468859\n",
            "12    11.483754\n",
            "13    11.512265\n",
            "14    11.564445\n",
            "15    11.588135\n",
            "16    11.588135\n",
            "17    11.660664\n",
            "18    11.857671\n",
            "19    11.880322\n",
            "20    11.888144\n",
            "21    11.891335\n",
            "22    11.937552\n",
            "23    11.954922\n",
            "24    11.977156\n",
            "25    12.016164\n",
            "26    12.054133\n",
            "27    12.054133\n",
            "28    12.198675\n",
            "29    12.226267\n",
            "30    12.256457\n",
            "31    12.375583\n",
            "32    12.486016\n",
            "33    12.557198\n",
            "34    12.644428\n",
            "35    12.658160\n",
            "36    12.669763\n",
            "37    12.669763\n",
            "38    12.866671\n",
            "39    12.883370\n",
            "40    12.909091\n",
            "41    12.924927\n",
            "42    12.978248\n",
            "43    12.997584\n",
            "44    13.010363\n",
            "45    13.027932\n",
            "46    13.037278\n",
            "47    13.037278\n",
            "48    13.046706\n",
            "49    13.076920\n",
            "Name: label, dtype: float64]\n",
            "\n",
            " Differences between Prediction and label: \n",
            " 0     1.021437\n",
            "1     0.751429\n",
            "2     1.119228\n",
            "3     0.001563\n",
            "4    -0.727796\n",
            "5     0.532393\n",
            "6     2.113740\n",
            "7    -0.136701\n",
            "8     0.293002\n",
            "9     1.180221\n",
            "10    0.586356\n",
            "11   -0.195664\n",
            "12    0.499518\n",
            "13   -0.490050\n",
            "14   -0.037423\n",
            "15    1.558996\n",
            "16    1.558996\n",
            "17   -0.584721\n",
            "18   -0.343337\n",
            "19   -0.271306\n",
            "20   -0.023294\n",
            "21   -0.653218\n",
            "22    1.269684\n",
            "23    1.567767\n",
            "24   -0.020233\n",
            "25    0.213682\n",
            "26   -0.177930\n",
            "27   -0.177930\n",
            "28    1.280897\n",
            "29   -0.410193\n",
            "30   -0.247459\n",
            "31   -0.571607\n",
            "32    0.420704\n",
            "33    0.240235\n",
            "34   -0.800273\n",
            "35    0.913520\n",
            "36   -0.412065\n",
            "37   -0.412065\n",
            "38   -0.222745\n",
            "39   -1.271257\n",
            "40   -0.508380\n",
            "41   -1.314876\n",
            "42   -0.195621\n",
            "43   -1.544362\n",
            "44   -0.290783\n",
            "45   -1.014593\n",
            "46   -0.405816\n",
            "47   -0.405816\n",
            "48   -0.449008\n",
            "49    0.690876\n",
            "dtype: float64\n"
          ]
        }
      ]
    },
    {
      "cell_type": "markdown",
      "metadata": {
        "id": "pgEkOUYUsi5D"
      },
      "source": [
        "Next, we will implement regularization to avoid overfitting. you can try different  regularization parameters, e.g., try LASSO (L1), Ridge (L2) and elastic net (combination of L1 and L2).\n",
        "\n",
        "You can try different regularization hyperparameters to initialize three different regularized linear regression models. Compare these regularization methods with each other and the non-regularized method above.\n"
      ]
    },
    {
      "cell_type": "code",
      "metadata": {
        "id": "hhx5njucYKk2"
      },
      "source": [
        "# Add your code here\n",
        "LR=LinearRegression\n",
        "model1= LR(featuresCol='features', labelCol='label', elasticNetParam=1, regParam=0.1)\n",
        "model1_fit=model1.fit(train_sdf)\n",
        "model2 = LR(featuresCol='features', labelCol='label', elasticNetParam=0, regParam=0.1)\n",
        "model2_fit=model2.fit(train_sdf)\n",
        "elastic_net_model =LR(featuresCol='features', labelCol='label', elasticNetParam=0.5, regParam=0.1).fit(train_sdf)\n",
        "\n",
        "# Compute predictions using each of the models\n",
        "l1_predictions = model1_fit.transform(test_sdf)\n",
        "l2_predictions = model2_fit.transform(test_sdf)\n",
        "elastic_net_predictions = elastic_net_model.transform(test_sdf)\n",
        "\n",
        "# Task: Calculate the root mean squared error (RMSE) on test set for each of your models\n",
        "test_rmse_l1 = model1_fit.evaluate(test_sdf).rootMeanSquaredError\n",
        "test_rmse_l2 = model2_fit.evaluate(test_sdf).rootMeanSquaredError\n",
        "test_rmse_elastic = elastic_net_model.evaluate(test_sdf).rootMeanSquaredError"
      ],
      "execution_count": 81,
      "outputs": []
    },
    {
      "cell_type": "code",
      "metadata": {
        "id": "q0-fqj8MgY2S",
        "colab": {
          "base_uri": "https://localhost:8080/"
        },
        "outputId": "dd9fa3dd-a400-4844-854b-3956d755cae6"
      },
      "source": [
        "# Print your results here\n",
        "result = [test_rmse_l1, test_rmse_l2, test_rmse_elastic]\n",
        "print('result_lr_all', result)"
      ],
      "execution_count": 82,
      "outputs": [
        {
          "output_type": "stream",
          "name": "stdout",
          "text": [
            "result_lr_all [0.7348812407991043, 0.685322002535213, 0.7054027137323297]\n"
          ]
        }
      ]
    },
    {
      "cell_type": "markdown",
      "metadata": {
        "id": "O6ntJ6xFbbmn"
      },
      "source": [
        "### 5.3 Random Forest Regression 10 pts)\n",
        "\n",
        "You need an understanding of random forest and its variations,i.e., boosted trees to succeed as a data scientist. These are ensemble methods that are know for generalization and are considered popular for classification and regression problems. Similar to linear regresssion, create a random forest regressor model. After it, train the model using the data and then evaluate its performance using the test data. Finally, compare performance of random forest model with the linear regression model.\n",
        "\n"
      ]
    },
    {
      "cell_type": "code",
      "metadata": {
        "id": "8pjjP9GWuoml"
      },
      "source": [
        "from pyspark.ml import Pipeline\n",
        "from pyspark.ml.regression import DecisionTreeRegressor\n",
        "# Add your code here\n",
        "rf_model = rf_model = DecisionTreeRegressor(labelCol=\"label\", featuresCol=\"features\").fit(train_sdf) #Task\n"
      ],
      "execution_count": 83,
      "outputs": []
    },
    {
      "cell_type": "code",
      "metadata": {
        "id": "ruaaYA2jBlRK"
      },
      "source": [
        "# Add code here to calculate predictions\n",
        "predictions = predictions = rf_model.transform(test_sdf) #Task : Calculate predictions on the test set"
      ],
      "execution_count": 84,
      "outputs": []
    },
    {
      "cell_type": "code",
      "metadata": {
        "id": "QyyZfbd6Brqs"
      },
      "source": [
        "from pyspark.ml.evaluation import RegressionEvaluator\n",
        "\n",
        "# Add your code here to instatiate a regressionevaluator \n",
        "reg_evaluator = RegressionEvaluator(labelCol=\"label\", predictionCol=\"prediction\", metricName=\"rmse\")\n",
        "train_rmse_rf = reg_evaluator.evaluate(rf_model.transform(train_sdf)) #Task: Compute the training RMSE\n",
        "rmse_rf = reg_evaluator.evaluate(predictions) #Task: Compute RMSE using the test set"
      ],
      "execution_count": 85,
      "outputs": []
    },
    {
      "cell_type": "code",
      "metadata": {
        "id": "fR09u5GFjvtb",
        "colab": {
          "base_uri": "https://localhost:8080/"
        },
        "outputId": "5856654b-f520-4b58-eb9d-d96a1d5bc75b"
      },
      "source": [
        "#Print results of predictions here\n",
        "predictions_to_reveal = predictions.toPandas()\n",
        "answer = [train_rmse_rf, predictions_to_reveal['prediction'][0:50], predictions_to_reveal['label'][0:50], rmse_rf]\n",
        "print('check_rf_spark \\n', answer)\n",
        "\n",
        "x=predictions_to_reveal['prediction'][0:50]\n",
        "y=predictions_to_reveal['label'][0:50]\n",
        "print('\\n Differences between Prediction and label: \\n',(x - y))"
      ],
      "execution_count": 86,
      "outputs": [
        {
          "output_type": "stream",
          "name": "stdout",
          "text": [
            "check_rf_spark \n",
            " [0.7286568380324338, 0     10.539543\n",
            "1     10.539543\n",
            "2     10.252436\n",
            "3     11.263187\n",
            "4     10.539543\n",
            "5     11.853806\n",
            "6     13.314786\n",
            "7     11.263187\n",
            "8     11.853806\n",
            "9     12.499613\n",
            "10    11.853806\n",
            "11    11.853806\n",
            "12    11.853806\n",
            "13    11.853806\n",
            "14    11.263187\n",
            "15    12.499613\n",
            "16    12.499613\n",
            "17    10.539543\n",
            "18    11.853806\n",
            "19    11.701214\n",
            "20    11.853806\n",
            "21    10.539543\n",
            "22    13.034824\n",
            "23    13.495416\n",
            "24    12.499613\n",
            "25    11.853806\n",
            "26    11.853806\n",
            "27    11.853806\n",
            "28    13.495416\n",
            "29    11.853806\n",
            "30    12.499613\n",
            "31    12.233292\n",
            "32    12.499613\n",
            "33    12.499613\n",
            "34    11.853806\n",
            "35    13.495416\n",
            "36    11.701214\n",
            "37    11.701214\n",
            "38    12.499613\n",
            "39    12.233292\n",
            "40    12.499613\n",
            "41    12.233292\n",
            "42    12.499613\n",
            "43    12.233292\n",
            "44    12.499613\n",
            "45    11.853806\n",
            "46    12.763077\n",
            "47    12.763077\n",
            "48    12.499613\n",
            "49    14.355513\n",
            "Name: prediction, dtype: float64, 0      9.668651\n",
            "1      9.829895\n",
            "2      9.930129\n",
            "3     10.712126\n",
            "4     11.018006\n",
            "5     11.054835\n",
            "6     11.153762\n",
            "7     11.175899\n",
            "8     11.258382\n",
            "9     11.266360\n",
            "10    11.468357\n",
            "11    11.468859\n",
            "12    11.483754\n",
            "13    11.512265\n",
            "14    11.564445\n",
            "15    11.588135\n",
            "16    11.588135\n",
            "17    11.660664\n",
            "18    11.857671\n",
            "19    11.880322\n",
            "20    11.888144\n",
            "21    11.891335\n",
            "22    11.937552\n",
            "23    11.954922\n",
            "24    11.977156\n",
            "25    12.016164\n",
            "26    12.054133\n",
            "27    12.054133\n",
            "28    12.198675\n",
            "29    12.226267\n",
            "30    12.256457\n",
            "31    12.375583\n",
            "32    12.486016\n",
            "33    12.557198\n",
            "34    12.644428\n",
            "35    12.658160\n",
            "36    12.669763\n",
            "37    12.669763\n",
            "38    12.866671\n",
            "39    12.883370\n",
            "40    12.909091\n",
            "41    12.924927\n",
            "42    12.978248\n",
            "43    12.997584\n",
            "44    13.010363\n",
            "45    13.027932\n",
            "46    13.037278\n",
            "47    13.037278\n",
            "48    13.046706\n",
            "49    13.076920\n",
            "Name: label, dtype: float64, 0.7351069458281303]\n",
            "\n",
            " Differences between Prediction and label: \n",
            " 0     0.870892\n",
            "1     0.709648\n",
            "2     0.322306\n",
            "3     0.551061\n",
            "4    -0.478463\n",
            "5     0.798971\n",
            "6     2.161025\n",
            "7     0.087288\n",
            "8     0.595424\n",
            "9     1.233254\n",
            "10    0.385449\n",
            "11    0.384947\n",
            "12    0.370052\n",
            "13    0.341541\n",
            "14   -0.301258\n",
            "15    0.911478\n",
            "16    0.911478\n",
            "17   -1.121121\n",
            "18   -0.003865\n",
            "19   -0.179107\n",
            "20   -0.034338\n",
            "21   -1.351791\n",
            "22    1.097271\n",
            "23    1.540495\n",
            "24    0.522457\n",
            "25   -0.162358\n",
            "26   -0.200327\n",
            "27   -0.200327\n",
            "28    1.296741\n",
            "29   -0.372461\n",
            "30    0.243157\n",
            "31   -0.142291\n",
            "32    0.013597\n",
            "33   -0.057584\n",
            "34   -0.790622\n",
            "35    0.837256\n",
            "36   -0.968548\n",
            "37   -0.968548\n",
            "38   -0.367058\n",
            "39   -0.650077\n",
            "40   -0.409478\n",
            "41   -0.691634\n",
            "42   -0.478635\n",
            "43   -0.764292\n",
            "44   -0.510750\n",
            "45   -1.174126\n",
            "46   -0.274201\n",
            "47   -0.274201\n",
            "48   -0.547093\n",
            "49    1.278592\n",
            "dtype: float64\n"
          ]
        }
      ]
    },
    {
      "cell_type": "markdown",
      "metadata": {
        "id": "SH9cxYzla-lf"
      },
      "source": [
        "### 5.4 Dimensionality Reduction using Principal Component Analysis (10pt)\n",
        "\n",
        "The focus of this section is to utilize PCA to further reduce the dimensions of data, i.e., a lower dimensional space. After PCA perform linear regression on the new data. You can select a suitable value for the number of dimensions as calculated in previous section.\n",
        "\n",
        "The steps are illustrated below:\n",
        "1.   Initialization of PCA model\n",
        "2.   Fit the PCA model using the training data\n",
        "3.   Extract the PCA feature from the trained PCA model from step 2\n",
        "4.   Train a linear regression model using the retreived PCA features\n",
        "5.   Evaluate the trained model 's performance on the test set \n",
        "\n",
        "This section requires extra effort and therefore has less starter code. Spen time to understand and implement considering yourself a data scientist working on an assigned task.\n",
        "\n",
        "\n",
        "\n",
        "\n"
      ]
    },
    {
      "cell_type": "code",
      "metadata": {
        "id": "KXgSxHvgzJaS"
      },
      "source": [
        "# Add your code for the PCA model and training here\n",
        "from pyspark.ml.feature import PCA as PCA_ML\n",
        "pca_Lr = PCA_ML(k=34, inputCol='features', outputCol='pcaFeature').fit(train_sdf).transform(train_sdf)\n",
        "\n",
        "pca_lr_model=LinearRegression(featuresCol='pcaFeature', labelCol='label', elasticNetParam=1, regParam=0.1).fit(pca_Lr)\n",
        "\n",
        "training_rmse_pca = reg_evaluator.evaluate(pca_lr_model.transform(pca_Lr))\n",
        " "
      ],
      "execution_count": 87,
      "outputs": []
    },
    {
      "cell_type": "code",
      "metadata": {
        "id": "TBnyAXQwl9Nt"
      },
      "source": [
        "# Add your code here\n",
        "pca_Lr_test = PCA_ML(k=34, inputCol='features', outputCol='pcaFeature').fit(train_sdf).transform(test_sdf)\n",
        "\n",
        "predictions = pca_lr_model.transform(pca_Lr_test) #Task: Retreive predictions on the test set\n",
        "\n",
        "test_rmse_pca = reg_evaluator.evaluate(pca_lr_model.transform(pca_Lr_test)) #Task: Retreive RMSE for test data"
      ],
      "execution_count": 88,
      "outputs": []
    },
    {
      "cell_type": "code",
      "metadata": {
        "id": "nNdWfggtmEmx",
        "colab": {
          "base_uri": "https://localhost:8080/"
        },
        "outputId": "9e55f49c-597f-4981-ad0f-6703d1e2578f"
      },
      "source": [
        "# Add your code here\n",
        "predictions_to_grade = predictions.toPandas()\n",
        "answer = [training_rmse_pca, predictions_to_grade['prediction'][0:50], predictions_to_grade['label'][0:50], test_rmse_pca]\n",
        "print('check_pca_spark \\n', answer)\n",
        "\n",
        "x=predictions_to_grade['prediction'][0:50]\n",
        "y=predictions_to_grade['label'][0:50]\n",
        "print('\\n Differences between Prediction and label: \\n',(x - y))\n",
        "\n",
        "print('\\n \\n Model Summery:',pca_lr_model.summary.r2)"
      ],
      "execution_count": 89,
      "outputs": [
        {
          "output_type": "stream",
          "name": "stdout",
          "text": [
            "check_pca_spark \n",
            " [0.7567596744365603, 0     10.929426\n",
            "1     10.872070\n",
            "2     10.226063\n",
            "3     10.668038\n",
            "4     10.642925\n",
            "5     11.578093\n",
            "6     13.045532\n",
            "7     11.022991\n",
            "8     11.735844\n",
            "9     12.285941\n",
            "10    11.901942\n",
            "11    11.351195\n",
            "12    12.018501\n",
            "13    11.089346\n",
            "14    11.613644\n",
            "15    13.108459\n",
            "16    13.108459\n",
            "17    11.247347\n",
            "18    11.720376\n",
            "19    11.828385\n",
            "20    11.828196\n",
            "21    11.408373\n",
            "22    13.049419\n",
            "23    13.604717\n",
            "24    12.064829\n",
            "25    12.502247\n",
            "26    11.964367\n",
            "27    11.964367\n",
            "28    13.400419\n",
            "29    12.076301\n",
            "30    11.691972\n",
            "31    10.875023\n",
            "32    12.882486\n",
            "33    12.988584\n",
            "34    11.868580\n",
            "35    13.378035\n",
            "36    12.311844\n",
            "37    12.311844\n",
            "38    12.122416\n",
            "39    10.982653\n",
            "40    12.452894\n",
            "41    10.982141\n",
            "42    12.769790\n",
            "43    10.642617\n",
            "44    12.849412\n",
            "45    11.840115\n",
            "46    12.229766\n",
            "47    12.229766\n",
            "48    12.479362\n",
            "49    13.622233\n",
            "Name: prediction, dtype: float64, 0      9.668651\n",
            "1      9.829895\n",
            "2      9.930129\n",
            "3     10.712126\n",
            "4     11.018006\n",
            "5     11.054835\n",
            "6     11.153762\n",
            "7     11.175899\n",
            "8     11.258382\n",
            "9     11.266360\n",
            "10    11.468357\n",
            "11    11.468859\n",
            "12    11.483754\n",
            "13    11.512265\n",
            "14    11.564445\n",
            "15    11.588135\n",
            "16    11.588135\n",
            "17    11.660664\n",
            "18    11.857671\n",
            "19    11.880322\n",
            "20    11.888144\n",
            "21    11.891335\n",
            "22    11.937552\n",
            "23    11.954922\n",
            "24    11.977156\n",
            "25    12.016164\n",
            "26    12.054133\n",
            "27    12.054133\n",
            "28    12.198675\n",
            "29    12.226267\n",
            "30    12.256457\n",
            "31    12.375583\n",
            "32    12.486016\n",
            "33    12.557198\n",
            "34    12.644428\n",
            "35    12.658160\n",
            "36    12.669763\n",
            "37    12.669763\n",
            "38    12.866671\n",
            "39    12.883370\n",
            "40    12.909091\n",
            "41    12.924927\n",
            "42    12.978248\n",
            "43    12.997584\n",
            "44    13.010363\n",
            "45    13.027932\n",
            "46    13.037278\n",
            "47    13.037278\n",
            "48    13.046706\n",
            "49    13.076920\n",
            "Name: label, dtype: float64, 0.7598740491445444]\n",
            "\n",
            " Differences between Prediction and label: \n",
            " 0     1.260775\n",
            "1     1.042176\n",
            "2     0.295934\n",
            "3    -0.044089\n",
            "4    -0.375081\n",
            "5     0.523258\n",
            "6     1.891771\n",
            "7    -0.152908\n",
            "8     0.477463\n",
            "9     1.019581\n",
            "10    0.433585\n",
            "11   -0.117664\n",
            "12    0.534747\n",
            "13   -0.422919\n",
            "14    0.049199\n",
            "15    1.520324\n",
            "16    1.520324\n",
            "17   -0.413317\n",
            "18   -0.137294\n",
            "19   -0.051936\n",
            "20   -0.059949\n",
            "21   -0.482961\n",
            "22    1.111867\n",
            "23    1.649795\n",
            "24    0.087672\n",
            "25    0.486082\n",
            "26   -0.089766\n",
            "27   -0.089766\n",
            "28    1.201744\n",
            "29   -0.149966\n",
            "30   -0.564485\n",
            "31   -1.500560\n",
            "32    0.396470\n",
            "33    0.431387\n",
            "34   -0.775848\n",
            "35    0.719874\n",
            "36   -0.357919\n",
            "37   -0.357919\n",
            "38   -0.744255\n",
            "39   -1.900717\n",
            "40   -0.456197\n",
            "41   -1.942786\n",
            "42   -0.208459\n",
            "43   -2.354967\n",
            "44   -0.160951\n",
            "45   -1.187817\n",
            "46   -0.807512\n",
            "47   -0.807512\n",
            "48   -0.567344\n",
            "49    0.545313\n",
            "dtype: float64\n",
            "\n",
            " \n",
            " Model Summery: 0.8266854371491215\n"
          ]
        }
      ]
    },
    {
      "cell_type": "code",
      "source": [
        "from pyspark.ml.evaluation import RegressionEvaluator\n",
        "lr_predictions = pca_lr_model.transform(pca_Lr_test)\n",
        "lr_evaluator = RegressionEvaluator(predictionCol=\"prediction\", labelCol=\"label\",metricName=\"r2\")\n",
        "print(\"R Squared (R2) on test data = %g\" % lr_evaluator.evaluate(lr_predictions))"
      ],
      "metadata": {
        "colab": {
          "base_uri": "https://localhost:8080/"
        },
        "id": "XonVNdGgo5ie",
        "outputId": "68d9a8b2-86ee-4ac9-984c-e7ad54cba6fe"
      },
      "execution_count": 90,
      "outputs": [
        {
          "output_type": "stream",
          "name": "stdout",
          "text": [
            "R Squared (R2) on test data = 0.824328\n"
          ]
        }
      ]
    },
    {
      "cell_type": "markdown",
      "source": [
        "Visualising the regression model on spark mlib using seaborne"
      ],
      "metadata": {
        "id": "AWwx58StGGew"
      }
    },
    {
      "cell_type": "code",
      "source": [
        "import seaborn as sns\n",
        "from sklearn.metrics import mean_squared_error, r2_score\n",
        "\n",
        "# Load the predicted and actual values into a Pandas dataframe\n",
        "predictions = pca_lr_model.transform(pca_Lr_test)\n",
        "df = predictions.select(\"prediction\", \"label\").toPandas()\n",
        "\n",
        "# Create a scatterplot of the predicted values against the actual values\n",
        "sns.regplot(x=\"prediction\", y=\"label\", data=df)\n",
        "\n",
        "# Calculate and display the performance metrics of the model\n",
        "mse = mean_squared_error(df['label'], df['prediction'])\n",
        "r2 = r2_score(df['label'], df['prediction'])\n",
        "plt.title('Regression Model Performance (MSE={:.2f}, R2={:.2f})'.format(mse, r2))\n",
        "\n",
        "# Show the plot\n",
        "plt.show()\n"
      ],
      "metadata": {
        "colab": {
          "base_uri": "https://localhost:8080/",
          "height": 318
        },
        "id": "PUaiwuOyCY-d",
        "outputId": "1386b6e6-cd64-4a31-d95f-1ac7d18af94b"
      },
      "execution_count": 94,
      "outputs": [
        {
          "output_type": "display_data",
          "data": {
            "text/plain": [
              "<Figure size 432x288 with 1 Axes>"
            ],
            "image/png": "[encoded data removed]"
          },
          "metadata": {}
        }
      ]
    },
    {
      "cell_type": "markdown",
      "metadata": {
        "id": "TyQ6tm6iYg_m"
      },
      "source": [
        "# Submission\n",
        "\n",
        "**Submission on the blackboard**. \n",
        "** PDF submission for the simalarity check and .ipynb for original submission **\n",
        "\n",
        "Go to the \"File\" tab at the top left, and click \"Download .ipynb\". Submit under 'scalableMachinelearning.ipynb'.\n",
        "\n",
        "You must submit your notebook to blackboard for the grading."
      ]
    },
    {
      "cell_type": "code",
      "metadata": {
        "id": "CkfsSVY_X_yu"
      },
      "source": [
        "#TO PDF\n",
        "%%capture\n",
        "!wget -nc https://raw.githubusercontent.com/brpy/colab-pdf/master/colab_pdf.py\n",
        "from colab_pdf import colab_pdf\n",
        "colab_pdf('CA_5(IBRAHIM).ipynb')"
      ],
      "execution_count": null,
      "outputs": []
    }
  ]
}